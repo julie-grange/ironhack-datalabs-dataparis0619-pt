{
 "cells": [
  {
   "cell_type": "code",
   "execution_count": 35,
   "metadata": {},
   "outputs": [],
   "source": [
    "import pandas as pd\n",
    "import numpy as np\n",
    "import matplotlib.pyplot as plt\n",
    "import seaborn as sns\n",
    "import warnings\n",
    "\n",
    "warnings.filterwarnings('ignore')\n",
    "%matplotlib inline"
   ]
  },
  {
   "cell_type": "code",
   "execution_count": 102,
   "metadata": {},
   "outputs": [
    {
     "data": {
      "text/html": [
       "<div>\n",
       "<style scoped>\n",
       "    .dataframe tbody tr th:only-of-type {\n",
       "        vertical-align: middle;\n",
       "    }\n",
       "\n",
       "    .dataframe tbody tr th {\n",
       "        vertical-align: top;\n",
       "    }\n",
       "\n",
       "    .dataframe thead th {\n",
       "        text-align: right;\n",
       "    }\n",
       "</style>\n",
       "<table border=\"1\" class=\"dataframe\">\n",
       "  <thead>\n",
       "    <tr style=\"text-align: right;\">\n",
       "      <th></th>\n",
       "      <th>Y</th>\n",
       "      <th>M</th>\n",
       "      <th>D</th>\n",
       "      <th>T</th>\n",
       "      <th>TM</th>\n",
       "      <th>Tm</th>\n",
       "      <th>SLP</th>\n",
       "      <th>STP</th>\n",
       "      <th>H</th>\n",
       "      <th>PP</th>\n",
       "      <th>VV</th>\n",
       "      <th>V</th>\n",
       "      <th>VM</th>\n",
       "      <th>VG</th>\n",
       "      <th>FG</th>\n",
       "      <th>RA</th>\n",
       "      <th>SN</th>\n",
       "      <th>GR</th>\n",
       "      <th>TS</th>\n",
       "      <th>TR</th>\n",
       "    </tr>\n",
       "  </thead>\n",
       "  <tbody>\n",
       "    <tr>\n",
       "      <th>0</th>\n",
       "      <td>1991</td>\n",
       "      <td>1</td>\n",
       "      <td>1</td>\n",
       "      <td>5,3</td>\n",
       "      <td>9,6</td>\n",
       "      <td>0</td>\n",
       "      <td>-</td>\n",
       "      <td>-</td>\n",
       "      <td>86</td>\n",
       "      <td>0</td>\n",
       "      <td>3,4</td>\n",
       "      <td>2,4</td>\n",
       "      <td>13</td>\n",
       "      <td>-</td>\n",
       "      <td>1</td>\n",
       "      <td>0</td>\n",
       "      <td>0</td>\n",
       "      <td>0</td>\n",
       "      <td>0</td>\n",
       "      <td>0</td>\n",
       "    </tr>\n",
       "    <tr>\n",
       "      <th>1</th>\n",
       "      <td>1991</td>\n",
       "      <td>1</td>\n",
       "      <td>2</td>\n",
       "      <td>2,6</td>\n",
       "      <td>6,4</td>\n",
       "      <td>0</td>\n",
       "      <td>-</td>\n",
       "      <td>-</td>\n",
       "      <td>88</td>\n",
       "      <td>0</td>\n",
       "      <td>3,7</td>\n",
       "      <td>4,1</td>\n",
       "      <td>11,1</td>\n",
       "      <td>-</td>\n",
       "      <td>1</td>\n",
       "      <td>0</td>\n",
       "      <td>0</td>\n",
       "      <td>0</td>\n",
       "      <td>0</td>\n",
       "      <td>0</td>\n",
       "    </tr>\n",
       "    <tr>\n",
       "      <th>2</th>\n",
       "      <td>1991</td>\n",
       "      <td>1</td>\n",
       "      <td>3</td>\n",
       "      <td>2,3</td>\n",
       "      <td>5,2</td>\n",
       "      <td>-1</td>\n",
       "      <td>-</td>\n",
       "      <td>-</td>\n",
       "      <td>87</td>\n",
       "      <td>0</td>\n",
       "      <td>2,6</td>\n",
       "      <td>2</td>\n",
       "      <td>9,4</td>\n",
       "      <td>-</td>\n",
       "      <td>1</td>\n",
       "      <td>0</td>\n",
       "      <td>0</td>\n",
       "      <td>0</td>\n",
       "      <td>0</td>\n",
       "      <td>0</td>\n",
       "    </tr>\n",
       "    <tr>\n",
       "      <th>3</th>\n",
       "      <td>1991</td>\n",
       "      <td>1</td>\n",
       "      <td>4</td>\n",
       "      <td>3,9</td>\n",
       "      <td>10</td>\n",
       "      <td>0</td>\n",
       "      <td>-</td>\n",
       "      <td>-</td>\n",
       "      <td>63</td>\n",
       "      <td>0</td>\n",
       "      <td>8</td>\n",
       "      <td>4,4</td>\n",
       "      <td>25,9</td>\n",
       "      <td>-</td>\n",
       "      <td>1</td>\n",
       "      <td>0</td>\n",
       "      <td>0</td>\n",
       "      <td>0</td>\n",
       "      <td>0</td>\n",
       "      <td>0</td>\n",
       "    </tr>\n",
       "    <tr>\n",
       "      <th>4</th>\n",
       "      <td>1991</td>\n",
       "      <td>1</td>\n",
       "      <td>5</td>\n",
       "      <td>2,9</td>\n",
       "      <td>10,4</td>\n",
       "      <td>-3</td>\n",
       "      <td>-</td>\n",
       "      <td>-</td>\n",
       "      <td>69</td>\n",
       "      <td>0</td>\n",
       "      <td>10,5</td>\n",
       "      <td>5,2</td>\n",
       "      <td>18,3</td>\n",
       "      <td>-</td>\n",
       "      <td>0</td>\n",
       "      <td>0</td>\n",
       "      <td>0</td>\n",
       "      <td>0</td>\n",
       "      <td>0</td>\n",
       "      <td>0</td>\n",
       "    </tr>\n",
       "  </tbody>\n",
       "</table>\n",
       "</div>"
      ],
      "text/plain": [
       "      Y  M  D    T    TM  Tm SLP STP   H PP    VV    V    VM VG  FG  RA  SN  \\\n",
       "0  1991  1  1  5,3   9,6   0   -   -  86  0   3,4  2,4    13  -   1   0   0   \n",
       "1  1991  1  2  2,6   6,4   0   -   -  88  0   3,7  4,1  11,1  -   1   0   0   \n",
       "2  1991  1  3  2,3   5,2  -1   -   -  87  0   2,6    2   9,4  -   1   0   0   \n",
       "3  1991  1  4  3,9    10   0   -   -  63  0     8  4,4  25,9  -   1   0   0   \n",
       "4  1991  1  5  2,9  10,4  -3   -   -  69  0  10,5  5,2  18,3  -   0   0   0   \n",
       "\n",
       "   GR  TS  TR  \n",
       "0   0   0   0  \n",
       "1   0   0   0  \n",
       "2   0   0   0  \n",
       "3   0   0   0  \n",
       "4   0   0   0  "
      ]
     },
     "execution_count": 102,
     "metadata": {},
     "output_type": "execute_result"
    }
   ],
   "source": [
    "data = pd.read_csv('82210-1.csv', sep=',', index_col=0)\n",
    "\n",
    "data.head()"
   ]
  },
  {
   "cell_type": "code",
   "execution_count": 103,
   "metadata": {},
   "outputs": [],
   "source": [
    "data.drop(['VM', 'VG'], axis=1, inplace=True)"
   ]
  },
  {
   "cell_type": "code",
   "execution_count": 104,
   "metadata": {},
   "outputs": [],
   "source": [
    "data.rename(columns={\"Y\": \"Year\", \"M\": \"Month\", \"D\": \"Day\", \"T\":\"Temperature\", \"TM\":\"Maximum_Temperature\", \"Tm\":\"Minimum_Temperature\", \"SLP\":\"Atmospheric_pressure_sea_level\", \"STP\":\"Atmospheric_pressure_station_level\", \"H\": \"Humidity\", \"PP\":\"Rainfall\", \"VV\":\"Visibility\", \"V\":\"Wind\", \"FG\":\"Fog\", \"RA\":\"Rain\", \"SN\":\"Snow\", \"GR\":\"Hail\", \"TS\":\"Thunder\", \"TR\":\"Tornado\"}, inplace=True)\n"
   ]
  },
  {
   "cell_type": "code",
   "execution_count": 105,
   "metadata": {},
   "outputs": [],
   "source": [
    "data.replace('-', 'NaN', inplace=True)\n"
   ]
  },
  {
   "cell_type": "code",
   "execution_count": 110,
   "metadata": {},
   "outputs": [
    {
     "data": {
      "text/html": [
       "<div>\n",
       "<style scoped>\n",
       "    .dataframe tbody tr th:only-of-type {\n",
       "        vertical-align: middle;\n",
       "    }\n",
       "\n",
       "    .dataframe tbody tr th {\n",
       "        vertical-align: top;\n",
       "    }\n",
       "\n",
       "    .dataframe thead th {\n",
       "        text-align: right;\n",
       "    }\n",
       "</style>\n",
       "<table border=\"1\" class=\"dataframe\">\n",
       "  <thead>\n",
       "    <tr style=\"text-align: right;\">\n",
       "      <th></th>\n",
       "      <th>Year</th>\n",
       "      <th>Month</th>\n",
       "      <th>Day</th>\n",
       "      <th>Temperature</th>\n",
       "      <th>Maximum_Temperature</th>\n",
       "      <th>Minimum_Temperature</th>\n",
       "      <th>Atmospheric_pressure_sea_level</th>\n",
       "      <th>Atmospheric_pressure_station_level</th>\n",
       "      <th>Humidity</th>\n",
       "      <th>Rainfall</th>\n",
       "      <th>Visibility</th>\n",
       "      <th>Wind</th>\n",
       "      <th>Fog</th>\n",
       "      <th>Rain</th>\n",
       "      <th>Snow</th>\n",
       "      <th>Hail</th>\n",
       "      <th>Thunder</th>\n",
       "      <th>Tornado</th>\n",
       "    </tr>\n",
       "  </thead>\n",
       "  <tbody>\n",
       "    <tr>\n",
       "      <th>0</th>\n",
       "      <td>1991</td>\n",
       "      <td>1</td>\n",
       "      <td>1</td>\n",
       "      <td>5.3</td>\n",
       "      <td>9.6</td>\n",
       "      <td>0</td>\n",
       "      <td>NaN</td>\n",
       "      <td>NaN</td>\n",
       "      <td>86</td>\n",
       "      <td>0</td>\n",
       "      <td>3.4</td>\n",
       "      <td>2.4</td>\n",
       "      <td>1</td>\n",
       "      <td>0</td>\n",
       "      <td>0</td>\n",
       "      <td>0</td>\n",
       "      <td>0</td>\n",
       "      <td>0</td>\n",
       "    </tr>\n",
       "    <tr>\n",
       "      <th>1</th>\n",
       "      <td>1991</td>\n",
       "      <td>1</td>\n",
       "      <td>2</td>\n",
       "      <td>2.6</td>\n",
       "      <td>6.4</td>\n",
       "      <td>0</td>\n",
       "      <td>NaN</td>\n",
       "      <td>NaN</td>\n",
       "      <td>88</td>\n",
       "      <td>0</td>\n",
       "      <td>3.7</td>\n",
       "      <td>4.1</td>\n",
       "      <td>1</td>\n",
       "      <td>0</td>\n",
       "      <td>0</td>\n",
       "      <td>0</td>\n",
       "      <td>0</td>\n",
       "      <td>0</td>\n",
       "    </tr>\n",
       "    <tr>\n",
       "      <th>2</th>\n",
       "      <td>1991</td>\n",
       "      <td>1</td>\n",
       "      <td>3</td>\n",
       "      <td>2.3</td>\n",
       "      <td>5.2</td>\n",
       "      <td>-1</td>\n",
       "      <td>NaN</td>\n",
       "      <td>NaN</td>\n",
       "      <td>87</td>\n",
       "      <td>0</td>\n",
       "      <td>2.6</td>\n",
       "      <td>2</td>\n",
       "      <td>1</td>\n",
       "      <td>0</td>\n",
       "      <td>0</td>\n",
       "      <td>0</td>\n",
       "      <td>0</td>\n",
       "      <td>0</td>\n",
       "    </tr>\n",
       "    <tr>\n",
       "      <th>3</th>\n",
       "      <td>1991</td>\n",
       "      <td>1</td>\n",
       "      <td>4</td>\n",
       "      <td>3.9</td>\n",
       "      <td>10</td>\n",
       "      <td>0</td>\n",
       "      <td>NaN</td>\n",
       "      <td>NaN</td>\n",
       "      <td>63</td>\n",
       "      <td>0</td>\n",
       "      <td>8</td>\n",
       "      <td>4.4</td>\n",
       "      <td>1</td>\n",
       "      <td>0</td>\n",
       "      <td>0</td>\n",
       "      <td>0</td>\n",
       "      <td>0</td>\n",
       "      <td>0</td>\n",
       "    </tr>\n",
       "    <tr>\n",
       "      <th>4</th>\n",
       "      <td>1991</td>\n",
       "      <td>1</td>\n",
       "      <td>5</td>\n",
       "      <td>2.9</td>\n",
       "      <td>10.4</td>\n",
       "      <td>-3</td>\n",
       "      <td>NaN</td>\n",
       "      <td>NaN</td>\n",
       "      <td>69</td>\n",
       "      <td>0</td>\n",
       "      <td>10.5</td>\n",
       "      <td>5.2</td>\n",
       "      <td>0</td>\n",
       "      <td>0</td>\n",
       "      <td>0</td>\n",
       "      <td>0</td>\n",
       "      <td>0</td>\n",
       "      <td>0</td>\n",
       "    </tr>\n",
       "  </tbody>\n",
       "</table>\n",
       "</div>"
      ],
      "text/plain": [
       "   Year  Month  Day Temperature Maximum_Temperature Minimum_Temperature  \\\n",
       "0  1991      1    1         5.3                 9.6                   0   \n",
       "1  1991      1    2         2.6                 6.4                   0   \n",
       "2  1991      1    3         2.3                 5.2                  -1   \n",
       "3  1991      1    4         3.9                  10                   0   \n",
       "4  1991      1    5         2.9                10.4                  -3   \n",
       "\n",
       "  Atmospheric_pressure_sea_level Atmospheric_pressure_station_level Humidity  \\\n",
       "0                            NaN                                NaN       86   \n",
       "1                            NaN                                NaN       88   \n",
       "2                            NaN                                NaN       87   \n",
       "3                            NaN                                NaN       63   \n",
       "4                            NaN                                NaN       69   \n",
       "\n",
       "  Rainfall Visibility Wind  Fog  Rain  Snow  Hail  Thunder  Tornado  \n",
       "0        0        3.4  2.4    1     0     0     0        0        0  \n",
       "1        0        3.7  4.1    1     0     0     0        0        0  \n",
       "2        0        2.6    2    1     0     0     0        0        0  \n",
       "3        0          8  4.4    1     0     0     0        0        0  \n",
       "4        0       10.5  5.2    0     0     0     0        0        0  "
      ]
     },
     "execution_count": 110,
     "metadata": {},
     "output_type": "execute_result"
    }
   ],
   "source": [
    "for col in data.columns:\n",
    "    if data[col].dtype == \"O\":\n",
    "        data[col] = data[col].str.replace(',','.')\n",
    "        \n",
    "data.head()"
   ]
  },
  {
   "cell_type": "code",
   "execution_count": 118,
   "metadata": {},
   "outputs": [
    {
     "data": {
      "text/plain": [
       "Year                                    int64\n",
       "Month                                   int64\n",
       "Day                                     int64\n",
       "Temperature                           float64\n",
       "Maximum_Temperature                   float64\n",
       "Minimum_Temperature                   float64\n",
       "Atmospheric_pressure_sea_level        float64\n",
       "Atmospheric_pressure_station_level    float64\n",
       "Humidity                              float64\n",
       "Rainfall                              float64\n",
       "Visibility                            float64\n",
       "Wind                                  float64\n",
       "Fog                                     int64\n",
       "Rain                                    int64\n",
       "Snow                                    int64\n",
       "Hail                                    int64\n",
       "Thunder                                 int64\n",
       "Tornado                                 int64\n",
       "dtype: object"
      ]
     },
     "execution_count": 118,
     "metadata": {},
     "output_type": "execute_result"
    }
   ],
   "source": [
    "data['Temperature'] = data['Temperature'].astype(float)\n",
    "data['Maximum_Temperature'] = data['Maximum_Temperature'].astype(float)\n",
    "data['Minimum_Temperature'] = data['Minimum_Temperature'].astype(float)\n",
    "data['Atmospheric_pressure_sea_level'] = data['Atmospheric_pressure_sea_level'].astype(float)\n",
    "data['Atmospheric_pressure_station_level'] = data['Atmospheric_pressure_station_level'].astype(float)\n",
    "data['Humidity'] = data['Humidity'].astype(float)\n",
    "data['Rainfall'] = data['Rainfall'].astype(float)\n",
    "data['Visibility'] = data['Visibility'].astype(float)\n",
    "data['Wind'] = data['Wind'].astype(float)\n",
    "\n",
    "data.dtypes"
   ]
  },
  {
   "cell_type": "code",
   "execution_count": 130,
   "metadata": {},
   "outputs": [
    {
     "data": {
      "text/plain": [
       "Text(0, 0.5, 'Temperature')"
      ]
     },
     "execution_count": 130,
     "metadata": {},
     "output_type": "execute_result"
    },
    {
     "data": {
      "text/plain": [
       "<Figure size 864x576 with 0 Axes>"
      ]
     },
     "metadata": {},
     "output_type": "display_data"
    },
    {
     "data": {
      "image/png": "[encoded data removed]",
      "text/plain": [
       "<Figure size 432x288 with 1 Axes>"
      ]
     },
     "metadata": {
      "needs_background": "light"
     },
     "output_type": "display_data"
    }
   ],
   "source": [
    "#Bar plot graph\n",
    "\n",
    "temp = data[['Temperature', 'Maximum_Temperature', 'Minimum_Temperature']].groupby(data.Month).mean()\n",
    "\n",
    "plt.figure(figsize=(12, 8))\n",
    "ax = temp.plot(kind='bar')\n",
    "ax.set_title('Temperature')\n",
    "ax.set_xlabel('Time in Month')\n",
    "ax.set_ylabel('Temperature')\n",
    "\n",
    "'''on peux observer l\"evolution des moyennes des température min et max au cours des mois. Les températures sont plus élevé en été et plus faible en hiver'''"
   ]
  },
  {
   "cell_type": "code",
   "execution_count": 150,
   "metadata": {},
   "outputs": [
    {
     "data": {
      "text/plain": [
       "-0.7173194436141496"
      ]
     },
     "execution_count": 150,
     "metadata": {},
     "output_type": "execute_result"
    },
    {
     "data": {
      "image/png": "[encoded data removed]",
      "text/plain": [
       "<Figure size 432x288 with 1 Axes>"
      ]
     },
     "metadata": {
      "needs_background": "light"
     },
     "output_type": "display_data"
    }
   ],
   "source": [
    "#scatter plot\n",
    "x=data['Humidity']\n",
    "y=data['Temperature']\n",
    "plt.scatter(x,y)\n",
    "plt.xlabel('Humidity')\n",
    "plt.ylabel('Temperature')\n",
    "plt.title('Temperature vs Humidity')\n",
    "\n",
    "#on peux voir une relation entre la température de l'humidité\n",
    "\n",
    "data['Humidity'].hist()\n",
    "data['Temperature'].hist()\n",
    "\n",
    "#les variables semblent suivre une loi normale, je peux donc calculer le coef de correlation selon pearson\n",
    "\n",
    "data['Humidity'].corr(data['Temperature'], method = \"pearson\")\n",
    "\n",
    "#r=-0,71, la correlation est plutôt élevée et négative\n"
   ]
  },
  {
   "cell_type": "code",
   "execution_count": 136,
   "metadata": {},
   "outputs": [
    {
     "data": {
      "text/plain": [
       "<matplotlib.axes._subplots.AxesSubplot at 0x1a1f4bc550>"
      ]
     },
     "execution_count": 136,
     "metadata": {},
     "output_type": "execute_result"
    },
    {
     "data": {
      "image/png": "[encoded data removed]",
      "text/plain": [
       "<Figure size 432x288 with 1 Axes>"
      ]
     },
     "metadata": {
      "needs_background": "light"
     },
     "output_type": "display_data"
    }
   ],
   "source": [
    "#histogram, distribution de la variable\n",
    "data['Wind'].hist()\n",
    "\n",
    "#la distribution de la variable vent semble suivre une loi normale"
   ]
  },
  {
   "cell_type": "code",
   "execution_count": 144,
   "metadata": {},
   "outputs": [
    {
     "data": {
      "text/plain": [
       "Text(0.5, 1.0, 'Humidity over month')"
      ]
     },
     "execution_count": 144,
     "metadata": {},
     "output_type": "execute_result"
    },
    {
     "data": {
      "image/png": "[encoded data removed]",
      "text/plain": [
       "<Figure size 432x288 with 1 Axes>"
      ]
     },
     "metadata": {
      "needs_background": "light"
     },
     "output_type": "display_data"
    }
   ],
   "source": [
    "#boxplot\n",
    "\n",
    "ax = sns.boxplot(x=\"Month\", y=\"Humidity\", data=data)\n",
    "ax.set_xticklabels(ax.get_xticklabels(),rotation=90)\n",
    "ax.set_title('Humidity over month')\n",
    "\n",
    "#on peux suivre l'ensemble des stats de l'humidité au cours du temps. l'humidité varie selon les mois de l'année"
   ]
  },
  {
   "cell_type": "code",
   "execution_count": null,
   "metadata": {},
   "outputs": [],
   "source": []
  }
 ],
 "metadata": {
  "kernelspec": {
   "display_name": "Python 3",
   "language": "python",
   "name": "python3"
  },
  "language_info": {
   "codemirror_mode": {
    "name": "ipython",
    "version": 3
   },
   "file_extension": ".py",
   "mimetype": "text/x-python",
   "name": "python",
   "nbconvert_exporter": "python",
   "pygments_lexer": "ipython3",
   "version": "3.7.3"
  }
 },
 "nbformat": 4,
 "nbformat_minor": 2
}
