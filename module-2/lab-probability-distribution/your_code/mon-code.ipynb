{
 "cells": [
  {
   "cell_type": "markdown",
   "metadata": {},
   "source": [
    "Before your start:\n",
    "Read the README.md file\n",
    "Comment as much as you can and use the resources (README.md file)\n",
    "Happy learning!\n"
   ]
  },
  {
   "cell_type": "markdown",
   "metadata": {},
   "source": [
    "Challenge 1 - Generate and Plot Normal Distributions\n",
    "Step 1: Generate samples and test normal distribution\n",
    "Use mean=50, standard_deviation=5, and sample_size=[10, 50, 500, 5000] to generate 4 random samples that are normally distributed. Test your normal distributions with scipy.stats.normaltest.\n",
    "\n",
    "Hint: Read the documentation for scipy.stats.normaltest. The function does not simply return Yes or No for whether your data is normal distribution. It returns the likelihood."
   ]
  },
  {
   "cell_type": "code",
   "execution_count": 30,
   "metadata": {},
   "outputs": [],
   "source": [
    "import random\n",
    "import numpy as np\n",
    "import pandas as pd\n",
    "from scipy import stats\n",
    "from scipy.stats import binom\n",
    "import matplotlib.pyplot as plt\n",
    "import seaborn as sns\n",
    "import warnings\n",
    "from scipy.stats import poisson\n",
    "import matplotlib.pyplot as plt\n",
    "from math import *\n",
    "warnings.filterwarnings('ignore')\n",
    "%matplotlib inline"
   ]
  },
  {
   "cell_type": "code",
   "execution_count": 50,
   "metadata": {},
   "outputs": [
    {
     "name": "stdout",
     "output_type": "stream",
     "text": [
      "NormaltestResult(statistic=1.465598232413707, pvalue=0.48056195695645665)\n",
      "NormaltestResult(statistic=0.9157268396546011, pvalue=0.6326338755509887)\n",
      "NormaltestResult(statistic=0.5291369613599338, pvalue=0.7675370856062873)\n",
      "NormaltestResult(statistic=0.9553058177468594, pvalue=0.6202374385368992)\n"
     ]
    }
   ],
   "source": [
    "sample_size=[10, 50, 500, 5000]\n",
    "\n",
    "mu, sigma = 50, 5 # mean and standard deviation\n",
    "data=pd.DataFrame()\n",
    "for size in sample_size:\n",
    "    sample = pd.Series(np.random.normal(mu, sigma, size))\n",
    "    #print(sample)\n",
    "    data = data.append(sample, ignore_index=True)\n",
    "    distribution = stats.normaltest(sample)\n",
    "    print(distribution)\n",
    "\n"
   ]
  },
  {
   "cell_type": "code",
   "execution_count": 51,
   "metadata": {},
   "outputs": [
    {
     "data": {
      "text/html": [
       "<div>\n",
       "<style scoped>\n",
       "    .dataframe tbody tr th:only-of-type {\n",
       "        vertical-align: middle;\n",
       "    }\n",
       "\n",
       "    .dataframe tbody tr th {\n",
       "        vertical-align: top;\n",
       "    }\n",
       "\n",
       "    .dataframe thead th {\n",
       "        text-align: right;\n",
       "    }\n",
       "</style>\n",
       "<table border=\"1\" class=\"dataframe\">\n",
       "  <thead>\n",
       "    <tr style=\"text-align: right;\">\n",
       "      <th></th>\n",
       "      <th>0</th>\n",
       "      <th>1</th>\n",
       "      <th>2</th>\n",
       "      <th>3</th>\n",
       "    </tr>\n",
       "  </thead>\n",
       "  <tbody>\n",
       "    <tr>\n",
       "      <th>0</th>\n",
       "      <td>39.026957</td>\n",
       "      <td>53.466657</td>\n",
       "      <td>59.016755</td>\n",
       "      <td>49.208825</td>\n",
       "    </tr>\n",
       "    <tr>\n",
       "      <th>1</th>\n",
       "      <td>50.904619</td>\n",
       "      <td>51.506487</td>\n",
       "      <td>49.967460</td>\n",
       "      <td>50.779644</td>\n",
       "    </tr>\n",
       "    <tr>\n",
       "      <th>2</th>\n",
       "      <td>54.493123</td>\n",
       "      <td>45.150260</td>\n",
       "      <td>43.711084</td>\n",
       "      <td>38.620088</td>\n",
       "    </tr>\n",
       "    <tr>\n",
       "      <th>3</th>\n",
       "      <td>49.313908</td>\n",
       "      <td>56.440141</td>\n",
       "      <td>45.774876</td>\n",
       "      <td>40.957904</td>\n",
       "    </tr>\n",
       "    <tr>\n",
       "      <th>4</th>\n",
       "      <td>52.756646</td>\n",
       "      <td>49.816867</td>\n",
       "      <td>46.819877</td>\n",
       "      <td>43.230454</td>\n",
       "    </tr>\n",
       "    <tr>\n",
       "      <th>5</th>\n",
       "      <td>47.468419</td>\n",
       "      <td>51.174420</td>\n",
       "      <td>45.150614</td>\n",
       "      <td>58.324871</td>\n",
       "    </tr>\n",
       "    <tr>\n",
       "      <th>6</th>\n",
       "      <td>43.736384</td>\n",
       "      <td>41.782063</td>\n",
       "      <td>52.412748</td>\n",
       "      <td>45.152636</td>\n",
       "    </tr>\n",
       "    <tr>\n",
       "      <th>7</th>\n",
       "      <td>50.677765</td>\n",
       "      <td>55.373762</td>\n",
       "      <td>57.825208</td>\n",
       "      <td>53.777777</td>\n",
       "    </tr>\n",
       "    <tr>\n",
       "      <th>8</th>\n",
       "      <td>53.781960</td>\n",
       "      <td>63.526347</td>\n",
       "      <td>53.697150</td>\n",
       "      <td>50.410157</td>\n",
       "    </tr>\n",
       "    <tr>\n",
       "      <th>9</th>\n",
       "      <td>45.155129</td>\n",
       "      <td>58.576809</td>\n",
       "      <td>54.984776</td>\n",
       "      <td>61.708158</td>\n",
       "    </tr>\n",
       "  </tbody>\n",
       "</table>\n",
       "</div>"
      ],
      "text/plain": [
       "           0          1          2          3\n",
       "0  39.026957  53.466657  59.016755  49.208825\n",
       "1  50.904619  51.506487  49.967460  50.779644\n",
       "2  54.493123  45.150260  43.711084  38.620088\n",
       "3  49.313908  56.440141  45.774876  40.957904\n",
       "4  52.756646  49.816867  46.819877  43.230454\n",
       "5  47.468419  51.174420  45.150614  58.324871\n",
       "6  43.736384  41.782063  52.412748  45.152636\n",
       "7  50.677765  55.373762  57.825208  53.777777\n",
       "8  53.781960  63.526347  53.697150  50.410157\n",
       "9  45.155129  58.576809  54.984776  61.708158"
      ]
     },
     "execution_count": 51,
     "metadata": {},
     "output_type": "execute_result"
    }
   ],
   "source": [
    "Data = data.T\n",
    "Data.head(10)"
   ]
  },
  {
   "cell_type": "markdown",
   "metadata": {},
   "source": [
    "# Explain the test results here\n",
    "Les questions échantillons ont des p-Value > 0.05 donc leur distribution suit une loi normale"
   ]
  },
  {
   "cell_type": "markdown",
   "metadata": {},
   "source": [
    "Step 2: Plot normal distributions\n",
    "Use matplotlib subplots to plot a histogram of each sample.\n",
    "\n",
    "Hints:\n",
    "\n",
    "Use subplots to compare your figures side by side.\n",
    "\n",
    "Your output should look like below:"
   ]
  },
  {
   "cell_type": "code",
   "execution_count": 60,
   "metadata": {},
   "outputs": [
    {
     "data": {
      "text/plain": [
       "Text(0.5, 1.0, 'n=5000')"
      ]
     },
     "execution_count": 60,
     "metadata": {},
     "output_type": "execute_result"
    },
    {
     "data": {
      "image/png": "[encoded data removed]",
      "text/plain": [
       "<Figure size 1080x288 with 4 Axes>"
      ]
     },
     "metadata": {
      "needs_background": "light"
     },
     "output_type": "display_data"
    }
   ],
   "source": [
    "fig, axe = plt.subplots(1, 4)\n",
    "\n",
    "fig.set_figwidth(15)\n",
    "fig.subplots_adjust(wspace=1)\n",
    "\n",
    "axe[0].hist(Data[0])\n",
    "axe[0].set_title('n=10')\n",
    "\n",
    "axe[1].hist(Data[1])\n",
    "axe[1].set_title('n=50')\n",
    "\n",
    "axe[2].hist(Data[2])\n",
    "axe[2].set_title('n=500')\n",
    "\n",
    "axe[3].hist(Data[3])\n",
    "axe[3].set_title('n=5000')"
   ]
  },
  {
   "cell_type": "markdown",
   "metadata": {},
   "source": [
    "Compare the distributions above. What do you observe? Explain with the Central Limit Theorem."
   ]
  },
  {
   "cell_type": "markdown",
   "metadata": {},
   "source": [
    "plus l'échantillon est grand plus sa distribution tend vers une loi normale"
   ]
  },
  {
   "cell_type": "markdown",
   "metadata": {},
   "source": [
    "Challenge 2 - Plot Probability Mass Function (PMF)\n",
    "Background knowledge\n",
    "PMF shows the probability distribution of a discrete random variable. A discrete random variable has random numeric values that are not continuous. For example, the number of people in a household can only be integers but not floats. Therefore the number of people in a household is a discrete variable.\n",
    "\n",
    "Question: We assume that the probability of clicking an Ad in a Youtube video is 0.15. We have a sample of 5 people who wathched the video and we want to plot the PMF for a binomial distribution.\n",
    "Hint: use binom from scipy.stats.binom. Your output should look like below:"
   ]
  },
  {
   "cell_type": "code",
   "execution_count": 8,
   "metadata": {},
   "outputs": [
    {
     "data": {
      "text/plain": [
       "[<matplotlib.lines.Line2D at 0x1a21d0f7f0>]"
      ]
     },
     "execution_count": 8,
     "metadata": {},
     "output_type": "execute_result"
    },
    {
     "data": {
      "image/png": "[encoded data removed]",
      "text/plain": [
       "<Figure size 432x288 with 1 Axes>"
      ]
     },
     "metadata": {
      "needs_background": "light"
     },
     "output_type": "display_data"
    }
   ],
   "source": [
    "p=0.15\n",
    "n=5\n",
    "\n",
    "fig, ax = plt.subplots(1, 1)\n",
    "\n",
    "x = range(n)\n",
    "ax.plot(x, binom.pmf(x, n, p))\n",
    "\n"
   ]
  },
  {
   "cell_type": "markdown",
   "metadata": {},
   "source": [
    "#### Explain what you observe from the plot above"
   ]
  },
  {
   "cell_type": "markdown",
   "metadata": {},
   "source": [
    "# Your comment here\n",
    "\n",
    "la PMF de la distribution binomiale décrois quand x augmente de 0 à n=5. "
   ]
  },
  {
   "cell_type": "markdown",
   "metadata": {},
   "source": [
    "Now plot PMP with 50, 500, and 5000 visitors"
   ]
  },
  {
   "cell_type": "code",
   "execution_count": 13,
   "metadata": {},
   "outputs": [
    {
     "data": {
      "text/plain": [
       "[<matplotlib.lines.Line2D at 0x1a225dfa90>]"
      ]
     },
     "execution_count": 13,
     "metadata": {},
     "output_type": "execute_result"
    },
    {
     "data": {
      "image/png": "[encoded data removed]",
      "text/plain": [
       "<Figure size 432x288 with 3 Axes>"
      ]
     },
     "metadata": {
      "needs_background": "light"
     },
     "output_type": "display_data"
    }
   ],
   "source": [
    "p=0.15\n",
    "n1=50\n",
    "n2=500\n",
    "n3=5000\n",
    "\n",
    "fig, ax = plt.subplots(1, 3)\n",
    "fig.tight_layout()\n",
    "x1 = range(n1)\n",
    "ax[0].plot(x1, binom.pmf(x1, n1, p))\n",
    "\n",
    "x2 = range(n2)\n",
    "ax[1].plot(x2, binom.pmf(x2, n2, p))\n",
    "\n",
    "x3 = range(n3)\n",
    "ax[2].plot(x3, binom.pmf(x3, n3, p))"
   ]
  },
  {
   "cell_type": "markdown",
   "metadata": {},
   "source": [
    "#### What did you notice from the distribution plots? Comment your findings."
   ]
  },
  {
   "cell_type": "code",
   "execution_count": null,
   "metadata": {},
   "outputs": [],
   "source": []
  },
  {
   "cell_type": "markdown",
   "metadata": {},
   "source": [
    "Reaserch the Poisson distribution. Write about your own understanding of the Poisson distribution.¶"
   ]
  },
  {
   "cell_type": "code",
   "execution_count": null,
   "metadata": {},
   "outputs": [],
   "source": []
  },
  {
   "cell_type": "markdown",
   "metadata": {},
   "source": [
    "A website has an average of 300 visits per day. What is the probability of getting 320 visitors in a day?"
   ]
  },
  {
   "cell_type": "code",
   "execution_count": 51,
   "metadata": {},
   "outputs": [
    {
     "data": {
      "text/plain": [
       "0.011612348610402475"
      ]
     },
     "execution_count": 51,
     "metadata": {},
     "output_type": "execute_result"
    }
   ],
   "source": [
    "prob_320 = poisson.pmf(320, 300)\n",
    "prob_320\n"
   ]
  },
  {
   "cell_type": "markdown",
   "metadata": {},
   "source": [
    "What is the probability of getting 60 visits?¶\n",
    "\n",
    "\n"
   ]
  },
  {
   "cell_type": "code",
   "execution_count": 50,
   "metadata": {},
   "outputs": [
    {
     "data": {
      "text/plain": [
       "2.622743762294515e-64"
      ]
     },
     "execution_count": 50,
     "metadata": {},
     "output_type": "execute_result"
    }
   ],
   "source": [
    "prob_60= poisson.pmf(60, 300)\n",
    "prob_60"
   ]
  },
  {
   "cell_type": "markdown",
   "metadata": {},
   "source": [
    "Plot the distribution of the probability for getting 0-1000 visits.\n",
    "Hints:\n",
    "\n",
    "Create a list to store the Poisson distribution probabilities for n=0 to 1000. Then plot the probabilities.\n",
    "\n",
    "Your plot should look like below:\n",
    "\n"
   ]
  },
  {
   "cell_type": "code",
   "execution_count": 49,
   "metadata": {},
   "outputs": [
    {
     "data": {
      "text/plain": [
       "[<matplotlib.lines.Line2D at 0x1a234710b8>]"
      ]
     },
     "execution_count": 49,
     "metadata": {},
     "output_type": "execute_result"
    },
    {
     "data": {
      "image/png": "[encoded data removed]",
      "text/plain": [
       "<Figure size 432x288 with 1 Axes>"
      ]
     },
     "metadata": {
      "needs_background": "light"
     },
     "output_type": "display_data"
    }
   ],
   "source": [
    "n=np.arange(1000)\n",
    "\n",
    "param = 300\n",
    "po = stats.poisson(param)\n",
    "fig, ax = plt.subplots(1, 1)\n",
    "ax.plot(n, poisson.pmf(n, param))\n"
   ]
  },
  {
   "cell_type": "code",
   "execution_count": null,
   "metadata": {},
   "outputs": [],
   "source": []
  }
 ],
 "metadata": {
  "kernelspec": {
   "display_name": "Python 3",
   "language": "python",
   "name": "python3"
  },
  "language_info": {
   "codemirror_mode": {
    "name": "ipython",
    "version": 3
   },
   "file_extension": ".py",
   "mimetype": "text/x-python",
   "name": "python",
   "nbconvert_exporter": "python",
   "pygments_lexer": "ipython3",
   "version": "3.7.3"
  }
 },
 "nbformat": 4,
 "nbformat_minor": 2
}
