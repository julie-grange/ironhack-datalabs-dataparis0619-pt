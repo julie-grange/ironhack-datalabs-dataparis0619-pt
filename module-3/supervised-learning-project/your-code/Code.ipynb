{
 "cells": [
  {
   "cell_type": "markdown",
   "metadata": {},
   "source": [
    "# Import des librairies"
   ]
  },
  {
   "cell_type": "code",
   "execution_count": 120,
   "metadata": {},
   "outputs": [],
   "source": [
    "import pandas as pd\n",
    "import numpy as np\n",
    "import seaborn as sns\n",
    "from sklearn.model_selection import train_test_split\n",
    "from sklearn.preprocessing import StandardScaler"
   ]
  },
  {
   "cell_type": "markdown",
   "metadata": {},
   "source": [
    "# Import des données"
   ]
  },
  {
   "cell_type": "code",
   "execution_count": 121,
   "metadata": {},
   "outputs": [],
   "source": [
    "data = pd.read_csv(\"data.csv\")"
   ]
  },
  {
   "cell_type": "code",
   "execution_count": 122,
   "metadata": {},
   "outputs": [
    {
     "data": {
      "text/html": [
       "<div>\n",
       "<style scoped>\n",
       "    .dataframe tbody tr th:only-of-type {\n",
       "        vertical-align: middle;\n",
       "    }\n",
       "\n",
       "    .dataframe tbody tr th {\n",
       "        vertical-align: top;\n",
       "    }\n",
       "\n",
       "    .dataframe thead th {\n",
       "        text-align: right;\n",
       "    }\n",
       "</style>\n",
       "<table border=\"1\" class=\"dataframe\">\n",
       "  <thead>\n",
       "    <tr style=\"text-align: right;\">\n",
       "      <th></th>\n",
       "      <th>id</th>\n",
       "      <th>diagnosis</th>\n",
       "      <th>radius_mean</th>\n",
       "      <th>texture_mean</th>\n",
       "      <th>perimeter_mean</th>\n",
       "      <th>area_mean</th>\n",
       "      <th>smoothness_mean</th>\n",
       "      <th>compactness_mean</th>\n",
       "      <th>concavity_mean</th>\n",
       "      <th>concave points_mean</th>\n",
       "      <th>...</th>\n",
       "      <th>texture_worst</th>\n",
       "      <th>perimeter_worst</th>\n",
       "      <th>area_worst</th>\n",
       "      <th>smoothness_worst</th>\n",
       "      <th>compactness_worst</th>\n",
       "      <th>concavity_worst</th>\n",
       "      <th>concave points_worst</th>\n",
       "      <th>symmetry_worst</th>\n",
       "      <th>fractal_dimension_worst</th>\n",
       "      <th>Unnamed: 32</th>\n",
       "    </tr>\n",
       "  </thead>\n",
       "  <tbody>\n",
       "    <tr>\n",
       "      <th>0</th>\n",
       "      <td>842302</td>\n",
       "      <td>M</td>\n",
       "      <td>17.99</td>\n",
       "      <td>10.38</td>\n",
       "      <td>122.80</td>\n",
       "      <td>1001.0</td>\n",
       "      <td>0.11840</td>\n",
       "      <td>0.27760</td>\n",
       "      <td>0.3001</td>\n",
       "      <td>0.14710</td>\n",
       "      <td>...</td>\n",
       "      <td>17.33</td>\n",
       "      <td>184.60</td>\n",
       "      <td>2019.0</td>\n",
       "      <td>0.1622</td>\n",
       "      <td>0.6656</td>\n",
       "      <td>0.7119</td>\n",
       "      <td>0.2654</td>\n",
       "      <td>0.4601</td>\n",
       "      <td>0.11890</td>\n",
       "      <td>NaN</td>\n",
       "    </tr>\n",
       "    <tr>\n",
       "      <th>1</th>\n",
       "      <td>842517</td>\n",
       "      <td>M</td>\n",
       "      <td>20.57</td>\n",
       "      <td>17.77</td>\n",
       "      <td>132.90</td>\n",
       "      <td>1326.0</td>\n",
       "      <td>0.08474</td>\n",
       "      <td>0.07864</td>\n",
       "      <td>0.0869</td>\n",
       "      <td>0.07017</td>\n",
       "      <td>...</td>\n",
       "      <td>23.41</td>\n",
       "      <td>158.80</td>\n",
       "      <td>1956.0</td>\n",
       "      <td>0.1238</td>\n",
       "      <td>0.1866</td>\n",
       "      <td>0.2416</td>\n",
       "      <td>0.1860</td>\n",
       "      <td>0.2750</td>\n",
       "      <td>0.08902</td>\n",
       "      <td>NaN</td>\n",
       "    </tr>\n",
       "    <tr>\n",
       "      <th>2</th>\n",
       "      <td>84300903</td>\n",
       "      <td>M</td>\n",
       "      <td>19.69</td>\n",
       "      <td>21.25</td>\n",
       "      <td>130.00</td>\n",
       "      <td>1203.0</td>\n",
       "      <td>0.10960</td>\n",
       "      <td>0.15990</td>\n",
       "      <td>0.1974</td>\n",
       "      <td>0.12790</td>\n",
       "      <td>...</td>\n",
       "      <td>25.53</td>\n",
       "      <td>152.50</td>\n",
       "      <td>1709.0</td>\n",
       "      <td>0.1444</td>\n",
       "      <td>0.4245</td>\n",
       "      <td>0.4504</td>\n",
       "      <td>0.2430</td>\n",
       "      <td>0.3613</td>\n",
       "      <td>0.08758</td>\n",
       "      <td>NaN</td>\n",
       "    </tr>\n",
       "    <tr>\n",
       "      <th>3</th>\n",
       "      <td>84348301</td>\n",
       "      <td>M</td>\n",
       "      <td>11.42</td>\n",
       "      <td>20.38</td>\n",
       "      <td>77.58</td>\n",
       "      <td>386.1</td>\n",
       "      <td>0.14250</td>\n",
       "      <td>0.28390</td>\n",
       "      <td>0.2414</td>\n",
       "      <td>0.10520</td>\n",
       "      <td>...</td>\n",
       "      <td>26.50</td>\n",
       "      <td>98.87</td>\n",
       "      <td>567.7</td>\n",
       "      <td>0.2098</td>\n",
       "      <td>0.8663</td>\n",
       "      <td>0.6869</td>\n",
       "      <td>0.2575</td>\n",
       "      <td>0.6638</td>\n",
       "      <td>0.17300</td>\n",
       "      <td>NaN</td>\n",
       "    </tr>\n",
       "    <tr>\n",
       "      <th>4</th>\n",
       "      <td>84358402</td>\n",
       "      <td>M</td>\n",
       "      <td>20.29</td>\n",
       "      <td>14.34</td>\n",
       "      <td>135.10</td>\n",
       "      <td>1297.0</td>\n",
       "      <td>0.10030</td>\n",
       "      <td>0.13280</td>\n",
       "      <td>0.1980</td>\n",
       "      <td>0.10430</td>\n",
       "      <td>...</td>\n",
       "      <td>16.67</td>\n",
       "      <td>152.20</td>\n",
       "      <td>1575.0</td>\n",
       "      <td>0.1374</td>\n",
       "      <td>0.2050</td>\n",
       "      <td>0.4000</td>\n",
       "      <td>0.1625</td>\n",
       "      <td>0.2364</td>\n",
       "      <td>0.07678</td>\n",
       "      <td>NaN</td>\n",
       "    </tr>\n",
       "  </tbody>\n",
       "</table>\n",
       "<p>5 rows × 33 columns</p>\n",
       "</div>"
      ],
      "text/plain": [
       "         id diagnosis  radius_mean  texture_mean  perimeter_mean  area_mean  \\\n",
       "0    842302         M        17.99         10.38          122.80     1001.0   \n",
       "1    842517         M        20.57         17.77          132.90     1326.0   \n",
       "2  84300903         M        19.69         21.25          130.00     1203.0   \n",
       "3  84348301         M        11.42         20.38           77.58      386.1   \n",
       "4  84358402         M        20.29         14.34          135.10     1297.0   \n",
       "\n",
       "   smoothness_mean  compactness_mean  concavity_mean  concave points_mean  \\\n",
       "0          0.11840           0.27760          0.3001              0.14710   \n",
       "1          0.08474           0.07864          0.0869              0.07017   \n",
       "2          0.10960           0.15990          0.1974              0.12790   \n",
       "3          0.14250           0.28390          0.2414              0.10520   \n",
       "4          0.10030           0.13280          0.1980              0.10430   \n",
       "\n",
       "   ...  texture_worst  perimeter_worst  area_worst  smoothness_worst  \\\n",
       "0  ...          17.33           184.60      2019.0            0.1622   \n",
       "1  ...          23.41           158.80      1956.0            0.1238   \n",
       "2  ...          25.53           152.50      1709.0            0.1444   \n",
       "3  ...          26.50            98.87       567.7            0.2098   \n",
       "4  ...          16.67           152.20      1575.0            0.1374   \n",
       "\n",
       "   compactness_worst  concavity_worst  concave points_worst  symmetry_worst  \\\n",
       "0             0.6656           0.7119                0.2654          0.4601   \n",
       "1             0.1866           0.2416                0.1860          0.2750   \n",
       "2             0.4245           0.4504                0.2430          0.3613   \n",
       "3             0.8663           0.6869                0.2575          0.6638   \n",
       "4             0.2050           0.4000                0.1625          0.2364   \n",
       "\n",
       "   fractal_dimension_worst  Unnamed: 32  \n",
       "0                  0.11890          NaN  \n",
       "1                  0.08902          NaN  \n",
       "2                  0.08758          NaN  \n",
       "3                  0.17300          NaN  \n",
       "4                  0.07678          NaN  \n",
       "\n",
       "[5 rows x 33 columns]"
      ]
     },
     "execution_count": 122,
     "metadata": {},
     "output_type": "execute_result"
    }
   ],
   "source": [
    "data.head()"
   ]
  },
  {
   "cell_type": "markdown",
   "metadata": {},
   "source": [
    "Le but ici est de prédire si le diagnostique est \"malade\" (M) ou \"bénin\" (B). La target est donc la variable \"diagnosis\""
   ]
  },
  {
   "cell_type": "markdown",
   "metadata": {},
   "source": [
    "# Découverte des données"
   ]
  },
  {
   "cell_type": "code",
   "execution_count": 123,
   "metadata": {},
   "outputs": [
    {
     "name": "stdout",
     "output_type": "stream",
     "text": [
      "<class 'pandas.core.frame.DataFrame'>\n",
      "RangeIndex: 569 entries, 0 to 568\n",
      "Data columns (total 33 columns):\n",
      "id                         569 non-null int64\n",
      "diagnosis                  569 non-null object\n",
      "radius_mean                569 non-null float64\n",
      "texture_mean               569 non-null float64\n",
      "perimeter_mean             569 non-null float64\n",
      "area_mean                  569 non-null float64\n",
      "smoothness_mean            569 non-null float64\n",
      "compactness_mean           569 non-null float64\n",
      "concavity_mean             569 non-null float64\n",
      "concave points_mean        569 non-null float64\n",
      "symmetry_mean              569 non-null float64\n",
      "fractal_dimension_mean     569 non-null float64\n",
      "radius_se                  569 non-null float64\n",
      "texture_se                 569 non-null float64\n",
      "perimeter_se               569 non-null float64\n",
      "area_se                    569 non-null float64\n",
      "smoothness_se              569 non-null float64\n",
      "compactness_se             569 non-null float64\n",
      "concavity_se               569 non-null float64\n",
      "concave points_se          569 non-null float64\n",
      "symmetry_se                569 non-null float64\n",
      "fractal_dimension_se       569 non-null float64\n",
      "radius_worst               569 non-null float64\n",
      "texture_worst              569 non-null float64\n",
      "perimeter_worst            569 non-null float64\n",
      "area_worst                 569 non-null float64\n",
      "smoothness_worst           569 non-null float64\n",
      "compactness_worst          569 non-null float64\n",
      "concavity_worst            569 non-null float64\n",
      "concave points_worst       569 non-null float64\n",
      "symmetry_worst             569 non-null float64\n",
      "fractal_dimension_worst    569 non-null float64\n",
      "Unnamed: 32                0 non-null float64\n",
      "dtypes: float64(31), int64(1), object(1)\n",
      "memory usage: 146.8+ KB\n"
     ]
    }
   ],
   "source": [
    "data.info()"
   ]
  },
  {
   "cell_type": "code",
   "execution_count": 124,
   "metadata": {},
   "outputs": [
    {
     "data": {
      "text/html": [
       "<div>\n",
       "<style scoped>\n",
       "    .dataframe tbody tr th:only-of-type {\n",
       "        vertical-align: middle;\n",
       "    }\n",
       "\n",
       "    .dataframe tbody tr th {\n",
       "        vertical-align: top;\n",
       "    }\n",
       "\n",
       "    .dataframe thead th {\n",
       "        text-align: right;\n",
       "    }\n",
       "</style>\n",
       "<table border=\"1\" class=\"dataframe\">\n",
       "  <thead>\n",
       "    <tr style=\"text-align: right;\">\n",
       "      <th></th>\n",
       "      <th>id</th>\n",
       "      <th>radius_mean</th>\n",
       "      <th>texture_mean</th>\n",
       "      <th>perimeter_mean</th>\n",
       "      <th>area_mean</th>\n",
       "      <th>smoothness_mean</th>\n",
       "      <th>compactness_mean</th>\n",
       "      <th>concavity_mean</th>\n",
       "      <th>concave points_mean</th>\n",
       "      <th>symmetry_mean</th>\n",
       "      <th>...</th>\n",
       "      <th>texture_worst</th>\n",
       "      <th>perimeter_worst</th>\n",
       "      <th>area_worst</th>\n",
       "      <th>smoothness_worst</th>\n",
       "      <th>compactness_worst</th>\n",
       "      <th>concavity_worst</th>\n",
       "      <th>concave points_worst</th>\n",
       "      <th>symmetry_worst</th>\n",
       "      <th>fractal_dimension_worst</th>\n",
       "      <th>Unnamed: 32</th>\n",
       "    </tr>\n",
       "  </thead>\n",
       "  <tbody>\n",
       "    <tr>\n",
       "      <th>count</th>\n",
       "      <td>5.690000e+02</td>\n",
       "      <td>569.000000</td>\n",
       "      <td>569.000000</td>\n",
       "      <td>569.000000</td>\n",
       "      <td>569.000000</td>\n",
       "      <td>569.000000</td>\n",
       "      <td>569.000000</td>\n",
       "      <td>569.000000</td>\n",
       "      <td>569.000000</td>\n",
       "      <td>569.000000</td>\n",
       "      <td>...</td>\n",
       "      <td>569.000000</td>\n",
       "      <td>569.000000</td>\n",
       "      <td>569.000000</td>\n",
       "      <td>569.000000</td>\n",
       "      <td>569.000000</td>\n",
       "      <td>569.000000</td>\n",
       "      <td>569.000000</td>\n",
       "      <td>569.000000</td>\n",
       "      <td>569.000000</td>\n",
       "      <td>0.0</td>\n",
       "    </tr>\n",
       "    <tr>\n",
       "      <th>mean</th>\n",
       "      <td>3.037183e+07</td>\n",
       "      <td>14.127292</td>\n",
       "      <td>19.289649</td>\n",
       "      <td>91.969033</td>\n",
       "      <td>654.889104</td>\n",
       "      <td>0.096360</td>\n",
       "      <td>0.104341</td>\n",
       "      <td>0.088799</td>\n",
       "      <td>0.048919</td>\n",
       "      <td>0.181162</td>\n",
       "      <td>...</td>\n",
       "      <td>25.677223</td>\n",
       "      <td>107.261213</td>\n",
       "      <td>880.583128</td>\n",
       "      <td>0.132369</td>\n",
       "      <td>0.254265</td>\n",
       "      <td>0.272188</td>\n",
       "      <td>0.114606</td>\n",
       "      <td>0.290076</td>\n",
       "      <td>0.083946</td>\n",
       "      <td>NaN</td>\n",
       "    </tr>\n",
       "    <tr>\n",
       "      <th>std</th>\n",
       "      <td>1.250206e+08</td>\n",
       "      <td>3.524049</td>\n",
       "      <td>4.301036</td>\n",
       "      <td>24.298981</td>\n",
       "      <td>351.914129</td>\n",
       "      <td>0.014064</td>\n",
       "      <td>0.052813</td>\n",
       "      <td>0.079720</td>\n",
       "      <td>0.038803</td>\n",
       "      <td>0.027414</td>\n",
       "      <td>...</td>\n",
       "      <td>6.146258</td>\n",
       "      <td>33.602542</td>\n",
       "      <td>569.356993</td>\n",
       "      <td>0.022832</td>\n",
       "      <td>0.157336</td>\n",
       "      <td>0.208624</td>\n",
       "      <td>0.065732</td>\n",
       "      <td>0.061867</td>\n",
       "      <td>0.018061</td>\n",
       "      <td>NaN</td>\n",
       "    </tr>\n",
       "    <tr>\n",
       "      <th>min</th>\n",
       "      <td>8.670000e+03</td>\n",
       "      <td>6.981000</td>\n",
       "      <td>9.710000</td>\n",
       "      <td>43.790000</td>\n",
       "      <td>143.500000</td>\n",
       "      <td>0.052630</td>\n",
       "      <td>0.019380</td>\n",
       "      <td>0.000000</td>\n",
       "      <td>0.000000</td>\n",
       "      <td>0.106000</td>\n",
       "      <td>...</td>\n",
       "      <td>12.020000</td>\n",
       "      <td>50.410000</td>\n",
       "      <td>185.200000</td>\n",
       "      <td>0.071170</td>\n",
       "      <td>0.027290</td>\n",
       "      <td>0.000000</td>\n",
       "      <td>0.000000</td>\n",
       "      <td>0.156500</td>\n",
       "      <td>0.055040</td>\n",
       "      <td>NaN</td>\n",
       "    </tr>\n",
       "    <tr>\n",
       "      <th>25%</th>\n",
       "      <td>8.692180e+05</td>\n",
       "      <td>11.700000</td>\n",
       "      <td>16.170000</td>\n",
       "      <td>75.170000</td>\n",
       "      <td>420.300000</td>\n",
       "      <td>0.086370</td>\n",
       "      <td>0.064920</td>\n",
       "      <td>0.029560</td>\n",
       "      <td>0.020310</td>\n",
       "      <td>0.161900</td>\n",
       "      <td>...</td>\n",
       "      <td>21.080000</td>\n",
       "      <td>84.110000</td>\n",
       "      <td>515.300000</td>\n",
       "      <td>0.116600</td>\n",
       "      <td>0.147200</td>\n",
       "      <td>0.114500</td>\n",
       "      <td>0.064930</td>\n",
       "      <td>0.250400</td>\n",
       "      <td>0.071460</td>\n",
       "      <td>NaN</td>\n",
       "    </tr>\n",
       "    <tr>\n",
       "      <th>50%</th>\n",
       "      <td>9.060240e+05</td>\n",
       "      <td>13.370000</td>\n",
       "      <td>18.840000</td>\n",
       "      <td>86.240000</td>\n",
       "      <td>551.100000</td>\n",
       "      <td>0.095870</td>\n",
       "      <td>0.092630</td>\n",
       "      <td>0.061540</td>\n",
       "      <td>0.033500</td>\n",
       "      <td>0.179200</td>\n",
       "      <td>...</td>\n",
       "      <td>25.410000</td>\n",
       "      <td>97.660000</td>\n",
       "      <td>686.500000</td>\n",
       "      <td>0.131300</td>\n",
       "      <td>0.211900</td>\n",
       "      <td>0.226700</td>\n",
       "      <td>0.099930</td>\n",
       "      <td>0.282200</td>\n",
       "      <td>0.080040</td>\n",
       "      <td>NaN</td>\n",
       "    </tr>\n",
       "    <tr>\n",
       "      <th>75%</th>\n",
       "      <td>8.813129e+06</td>\n",
       "      <td>15.780000</td>\n",
       "      <td>21.800000</td>\n",
       "      <td>104.100000</td>\n",
       "      <td>782.700000</td>\n",
       "      <td>0.105300</td>\n",
       "      <td>0.130400</td>\n",
       "      <td>0.130700</td>\n",
       "      <td>0.074000</td>\n",
       "      <td>0.195700</td>\n",
       "      <td>...</td>\n",
       "      <td>29.720000</td>\n",
       "      <td>125.400000</td>\n",
       "      <td>1084.000000</td>\n",
       "      <td>0.146000</td>\n",
       "      <td>0.339100</td>\n",
       "      <td>0.382900</td>\n",
       "      <td>0.161400</td>\n",
       "      <td>0.317900</td>\n",
       "      <td>0.092080</td>\n",
       "      <td>NaN</td>\n",
       "    </tr>\n",
       "    <tr>\n",
       "      <th>max</th>\n",
       "      <td>9.113205e+08</td>\n",
       "      <td>28.110000</td>\n",
       "      <td>39.280000</td>\n",
       "      <td>188.500000</td>\n",
       "      <td>2501.000000</td>\n",
       "      <td>0.163400</td>\n",
       "      <td>0.345400</td>\n",
       "      <td>0.426800</td>\n",
       "      <td>0.201200</td>\n",
       "      <td>0.304000</td>\n",
       "      <td>...</td>\n",
       "      <td>49.540000</td>\n",
       "      <td>251.200000</td>\n",
       "      <td>4254.000000</td>\n",
       "      <td>0.222600</td>\n",
       "      <td>1.058000</td>\n",
       "      <td>1.252000</td>\n",
       "      <td>0.291000</td>\n",
       "      <td>0.663800</td>\n",
       "      <td>0.207500</td>\n",
       "      <td>NaN</td>\n",
       "    </tr>\n",
       "  </tbody>\n",
       "</table>\n",
       "<p>8 rows × 32 columns</p>\n",
       "</div>"
      ],
      "text/plain": [
       "                 id  radius_mean  texture_mean  perimeter_mean    area_mean  \\\n",
       "count  5.690000e+02   569.000000    569.000000      569.000000   569.000000   \n",
       "mean   3.037183e+07    14.127292     19.289649       91.969033   654.889104   \n",
       "std    1.250206e+08     3.524049      4.301036       24.298981   351.914129   \n",
       "min    8.670000e+03     6.981000      9.710000       43.790000   143.500000   \n",
       "25%    8.692180e+05    11.700000     16.170000       75.170000   420.300000   \n",
       "50%    9.060240e+05    13.370000     18.840000       86.240000   551.100000   \n",
       "75%    8.813129e+06    15.780000     21.800000      104.100000   782.700000   \n",
       "max    9.113205e+08    28.110000     39.280000      188.500000  2501.000000   \n",
       "\n",
       "       smoothness_mean  compactness_mean  concavity_mean  concave points_mean  \\\n",
       "count       569.000000        569.000000      569.000000           569.000000   \n",
       "mean          0.096360          0.104341        0.088799             0.048919   \n",
       "std           0.014064          0.052813        0.079720             0.038803   \n",
       "min           0.052630          0.019380        0.000000             0.000000   \n",
       "25%           0.086370          0.064920        0.029560             0.020310   \n",
       "50%           0.095870          0.092630        0.061540             0.033500   \n",
       "75%           0.105300          0.130400        0.130700             0.074000   \n",
       "max           0.163400          0.345400        0.426800             0.201200   \n",
       "\n",
       "       symmetry_mean  ...  texture_worst  perimeter_worst   area_worst  \\\n",
       "count     569.000000  ...     569.000000       569.000000   569.000000   \n",
       "mean        0.181162  ...      25.677223       107.261213   880.583128   \n",
       "std         0.027414  ...       6.146258        33.602542   569.356993   \n",
       "min         0.106000  ...      12.020000        50.410000   185.200000   \n",
       "25%         0.161900  ...      21.080000        84.110000   515.300000   \n",
       "50%         0.179200  ...      25.410000        97.660000   686.500000   \n",
       "75%         0.195700  ...      29.720000       125.400000  1084.000000   \n",
       "max         0.304000  ...      49.540000       251.200000  4254.000000   \n",
       "\n",
       "       smoothness_worst  compactness_worst  concavity_worst  \\\n",
       "count        569.000000         569.000000       569.000000   \n",
       "mean           0.132369           0.254265         0.272188   \n",
       "std            0.022832           0.157336         0.208624   \n",
       "min            0.071170           0.027290         0.000000   \n",
       "25%            0.116600           0.147200         0.114500   \n",
       "50%            0.131300           0.211900         0.226700   \n",
       "75%            0.146000           0.339100         0.382900   \n",
       "max            0.222600           1.058000         1.252000   \n",
       "\n",
       "       concave points_worst  symmetry_worst  fractal_dimension_worst  \\\n",
       "count            569.000000      569.000000               569.000000   \n",
       "mean               0.114606        0.290076                 0.083946   \n",
       "std                0.065732        0.061867                 0.018061   \n",
       "min                0.000000        0.156500                 0.055040   \n",
       "25%                0.064930        0.250400                 0.071460   \n",
       "50%                0.099930        0.282200                 0.080040   \n",
       "75%                0.161400        0.317900                 0.092080   \n",
       "max                0.291000        0.663800                 0.207500   \n",
       "\n",
       "       Unnamed: 32  \n",
       "count          0.0  \n",
       "mean           NaN  \n",
       "std            NaN  \n",
       "min            NaN  \n",
       "25%            NaN  \n",
       "50%            NaN  \n",
       "75%            NaN  \n",
       "max            NaN  \n",
       "\n",
       "[8 rows x 32 columns]"
      ]
     },
     "execution_count": 124,
     "metadata": {},
     "output_type": "execute_result"
    }
   ],
   "source": [
    "data.describe()"
   ]
  },
  {
   "cell_type": "markdown",
   "metadata": {},
   "source": [
    "# Vérification de la distribution des variables "
   ]
  },
  {
   "cell_type": "code",
   "execution_count": 125,
   "metadata": {},
   "outputs": [
    {
     "data": {
      "text/plain": [
       "array([[<matplotlib.axes._subplots.AxesSubplot object at 0x124808588>,\n",
       "        <matplotlib.axes._subplots.AxesSubplot object at 0x124b727b8>,\n",
       "        <matplotlib.axes._subplots.AxesSubplot object at 0x124b7ba20>,\n",
       "        <matplotlib.axes._subplots.AxesSubplot object at 0x1187bff60>,\n",
       "        <matplotlib.axes._subplots.AxesSubplot object at 0x1187ee518>,\n",
       "        <matplotlib.axes._subplots.AxesSubplot object at 0x124dd8a90>],\n",
       "       [<matplotlib.axes._subplots.AxesSubplot object at 0x124e01f98>,\n",
       "        <matplotlib.axes._subplots.AxesSubplot object at 0x124db0588>,\n",
       "        <matplotlib.axes._subplots.AxesSubplot object at 0x124db05c0>,\n",
       "        <matplotlib.axes._subplots.AxesSubplot object at 0x11e64c080>,\n",
       "        <matplotlib.axes._subplots.AxesSubplot object at 0x11e6745f8>,\n",
       "        <matplotlib.axes._subplots.AxesSubplot object at 0x11e69ab70>],\n",
       "       [<matplotlib.axes._subplots.AxesSubplot object at 0x125108128>,\n",
       "        <matplotlib.axes._subplots.AxesSubplot object at 0x12512f6a0>,\n",
       "        <matplotlib.axes._subplots.AxesSubplot object at 0x125157c18>,\n",
       "        <matplotlib.axes._subplots.AxesSubplot object at 0x12518a1d0>,\n",
       "        <matplotlib.axes._subplots.AxesSubplot object at 0x1251b2748>,\n",
       "        <matplotlib.axes._subplots.AxesSubplot object at 0x1251dbcc0>],\n",
       "       [<matplotlib.axes._subplots.AxesSubplot object at 0x12520b278>,\n",
       "        <matplotlib.axes._subplots.AxesSubplot object at 0x1252317f0>,\n",
       "        <matplotlib.axes._subplots.AxesSubplot object at 0x125259d68>,\n",
       "        <matplotlib.axes._subplots.AxesSubplot object at 0x12528c320>,\n",
       "        <matplotlib.axes._subplots.AxesSubplot object at 0x1252b0898>,\n",
       "        <matplotlib.axes._subplots.AxesSubplot object at 0x1252dae10>],\n",
       "       [<matplotlib.axes._subplots.AxesSubplot object at 0x12530e3c8>,\n",
       "        <matplotlib.axes._subplots.AxesSubplot object at 0x125336940>,\n",
       "        <matplotlib.axes._subplots.AxesSubplot object at 0x12535deb8>,\n",
       "        <matplotlib.axes._subplots.AxesSubplot object at 0x12538e470>,\n",
       "        <matplotlib.axes._subplots.AxesSubplot object at 0x1253b69e8>,\n",
       "        <matplotlib.axes._subplots.AxesSubplot object at 0x1253def60>],\n",
       "       [<matplotlib.axes._subplots.AxesSubplot object at 0x12540e518>,\n",
       "        <matplotlib.axes._subplots.AxesSubplot object at 0x125435a90>,\n",
       "        <matplotlib.axes._subplots.AxesSubplot object at 0x125468048>,\n",
       "        <matplotlib.axes._subplots.AxesSubplot object at 0x12548f5c0>,\n",
       "        <matplotlib.axes._subplots.AxesSubplot object at 0x1254b7b38>,\n",
       "        <matplotlib.axes._subplots.AxesSubplot object at 0x1254ccc50>]],\n",
       "      dtype=object)"
      ]
     },
     "execution_count": 125,
     "metadata": {},
     "output_type": "execute_result"
    },
    {
     "data": {
      "image/png": "[encoded data removed]",
      "text/plain": [
       "<Figure size 864x864 with 36 Axes>"
      ]
     },
     "metadata": {
      "needs_background": "light"
     },
     "output_type": "display_data"
    }
   ],
   "source": [
    "data.hist(figsize = (12,12))"
   ]
  },
  {
   "cell_type": "markdown",
   "metadata": {},
   "source": [
    "# Suppression des colonnes contenant trop de valeurs manquantes"
   ]
  },
  {
   "cell_type": "code",
   "execution_count": 126,
   "metadata": {},
   "outputs": [
    {
     "data": {
      "text/plain": [
       "1.0"
      ]
     },
     "execution_count": 126,
     "metadata": {},
     "output_type": "execute_result"
    }
   ],
   "source": [
    "data.isna().sum()['Unnamed: 32'] / data.shape[0]"
   ]
  },
  {
   "cell_type": "code",
   "execution_count": 127,
   "metadata": {},
   "outputs": [],
   "source": [
    "data = data.drop(columns = 'Unnamed: 32')"
   ]
  },
  {
   "cell_type": "markdown",
   "metadata": {},
   "source": [
    "# Suppression de la Colonne id qui n'apporte pas d'information pour la modélisation"
   ]
  },
  {
   "cell_type": "code",
   "execution_count": 128,
   "metadata": {},
   "outputs": [],
   "source": [
    "data = data.drop(columns = 'id')"
   ]
  },
  {
   "cell_type": "markdown",
   "metadata": {},
   "source": [
    "# Observation de la Target"
   ]
  },
  {
   "cell_type": "code",
   "execution_count": 129,
   "metadata": {},
   "outputs": [
    {
     "data": {
      "text/plain": [
       "array(['M', 'B'], dtype=object)"
      ]
     },
     "execution_count": 129,
     "metadata": {},
     "output_type": "execute_result"
    }
   ],
   "source": [
    "data.diagnosis.unique()"
   ]
  },
  {
   "cell_type": "code",
   "execution_count": 130,
   "metadata": {},
   "outputs": [
    {
     "name": "stdout",
     "output_type": "stream",
     "text": [
      "0.37258347978910367\n",
      "0.6274165202108963\n"
     ]
    }
   ],
   "source": [
    "print(data[data.diagnosis == 'M'].shape[0]/data.shape[0])\n",
    "print(data[data.diagnosis == 'B'].shape[0]/data.shape[0])\n",
    "\n"
   ]
  },
  {
   "cell_type": "markdown",
   "metadata": {},
   "source": [
    "# Création d'un set de test"
   ]
  },
  {
   "cell_type": "code",
   "execution_count": 228,
   "metadata": {},
   "outputs": [],
   "source": [
    "train_set, test_set = train_test_split(data, test_size=0.2)"
   ]
  },
  {
   "cell_type": "markdown",
   "metadata": {},
   "source": [
    "# Correlations entre les variables "
   ]
  },
  {
   "cell_type": "code",
   "execution_count": 214,
   "metadata": {},
   "outputs": [
    {
     "data": {
      "text/plain": [
       "<matplotlib.axes._subplots.AxesSubplot at 0x12f6479e8>"
      ]
     },
     "execution_count": 214,
     "metadata": {},
     "output_type": "execute_result"
    },
    {
     "data": {
      "image/png": "[encoded data removed]",
      "text/plain": [
       "<Figure size 432x288 with 2 Axes>"
      ]
     },
     "metadata": {
      "needs_background": "light"
     },
     "output_type": "display_data"
    }
   ],
   "source": [
    "corr = train_set.corr()\n",
    "sns.heatmap(corr, xticklabels=corr.columns, yticklabels=corr.columns)"
   ]
  },
  {
   "cell_type": "code",
   "execution_count": 215,
   "metadata": {},
   "outputs": [
    {
     "data": {
      "text/plain": [
       "<matplotlib.axes._subplots.AxesSubplot at 0x12f91ba20>"
      ]
     },
     "execution_count": 215,
     "metadata": {},
     "output_type": "execute_result"
    },
    {
     "data": {
      "image/png": "[encoded data removed]",
      "text/plain": [
       "<Figure size 432x288 with 2 Axes>"
      ]
     },
     "metadata": {
      "needs_background": "light"
     },
     "output_type": "display_data"
    }
   ],
   "source": [
    "train_set = train_set.drop(columns = ['perimeter_mean', 'area_mean'])\n",
    "corr = train_set.corr()\n",
    "sns.heatmap(corr, xticklabels=corr.columns, yticklabels=corr.columns)"
   ]
  },
  {
   "cell_type": "code",
   "execution_count": 216,
   "metadata": {},
   "outputs": [
    {
     "data": {
      "text/plain": [
       "<matplotlib.axes._subplots.AxesSubplot at 0x1180fac50>"
      ]
     },
     "execution_count": 216,
     "metadata": {},
     "output_type": "execute_result"
    },
    {
     "data": {
      "image/png": "[encoded data removed]",
      "text/plain": [
       "<Figure size 432x288 with 2 Axes>"
      ]
     },
     "metadata": {
      "needs_background": "light"
     },
     "output_type": "display_data"
    }
   ],
   "source": [
    "train_set = train_set.drop(columns = ['perimeter_worst', 'area_worst'])\n",
    "corr = train_set.corr()\n",
    "sns.heatmap(corr, xticklabels=corr.columns, yticklabels=corr.columns)"
   ]
  },
  {
   "cell_type": "code",
   "execution_count": 217,
   "metadata": {},
   "outputs": [
    {
     "data": {
      "text/plain": [
       "<matplotlib.axes._subplots.AxesSubplot at 0x12501bfd0>"
      ]
     },
     "execution_count": 217,
     "metadata": {},
     "output_type": "execute_result"
    },
    {
     "data": {
      "image/png": "[encoded data removed]",
      "text/plain": [
       "<Figure size 432x288 with 2 Axes>"
      ]
     },
     "metadata": {
      "needs_background": "light"
     },
     "output_type": "display_data"
    }
   ],
   "source": [
    "train_set = train_set.drop(columns = ['radius_worst','perimeter_se','area_se'])\n",
    "corr = train_set.corr()\n",
    "sns.heatmap(corr, xticklabels=corr.columns, yticklabels=corr.columns)"
   ]
  },
  {
   "cell_type": "code",
   "execution_count": 218,
   "metadata": {},
   "outputs": [
    {
     "data": {
      "text/plain": [
       "<matplotlib.axes._subplots.AxesSubplot at 0x11e3b90f0>"
      ]
     },
     "execution_count": 218,
     "metadata": {},
     "output_type": "execute_result"
    },
    {
     "data": {
      "image/png": "[encoded data removed]",
      "text/plain": [
       "<Figure size 432x288 with 2 Axes>"
      ]
     },
     "metadata": {
      "needs_background": "light"
     },
     "output_type": "display_data"
    }
   ],
   "source": [
    "train_set = train_set.drop(columns = ['texture_worst'])\n",
    "corr = train_set.corr()\n",
    "sns.heatmap(corr, xticklabels=corr.columns, yticklabels=corr.columns)"
   ]
  },
  {
   "cell_type": "markdown",
   "metadata": {},
   "source": [
    "# Encodage de la variable \"Diagnosis\" - Train"
   ]
  },
  {
   "cell_type": "code",
   "execution_count": 229,
   "metadata": {},
   "outputs": [],
   "source": [
    "train_set_dummy = pd.get_dummies(train_set,\"diagnosis\")"
   ]
  },
  {
   "cell_type": "code",
   "execution_count": 230,
   "metadata": {},
   "outputs": [],
   "source": [
    "train_set_dummy_drop = train_set_dummy.drop(columns = ['diagnosis_B', 'diagnosis_M'])"
   ]
  },
  {
   "cell_type": "markdown",
   "metadata": {},
   "source": [
    "# Scaling du data set - Train"
   ]
  },
  {
   "cell_type": "code",
   "execution_count": 233,
   "metadata": {},
   "outputs": [],
   "source": [
    "scaler = StandardScaler()\n",
    "scaler.fit(train_set_dummy_drop)\n",
    "train_set_dummy_drop_scl = pd.DataFrame(scaler.fit_transform(train_set_dummy_drop), columns=train_set_dummy_drop.columns)"
   ]
  },
  {
   "cell_type": "code",
   "execution_count": 246,
   "metadata": {},
   "outputs": [
    {
     "data": {
      "text/html": [
       "<div>\n",
       "<style scoped>\n",
       "    .dataframe tbody tr th:only-of-type {\n",
       "        vertical-align: middle;\n",
       "    }\n",
       "\n",
       "    .dataframe tbody tr th {\n",
       "        vertical-align: top;\n",
       "    }\n",
       "\n",
       "    .dataframe thead th {\n",
       "        text-align: right;\n",
       "    }\n",
       "</style>\n",
       "<table border=\"1\" class=\"dataframe\">\n",
       "  <thead>\n",
       "    <tr style=\"text-align: right;\">\n",
       "      <th></th>\n",
       "      <th>radius_mean</th>\n",
       "      <th>texture_mean</th>\n",
       "      <th>perimeter_mean</th>\n",
       "      <th>area_mean</th>\n",
       "      <th>smoothness_mean</th>\n",
       "      <th>compactness_mean</th>\n",
       "      <th>concavity_mean</th>\n",
       "      <th>concave points_mean</th>\n",
       "      <th>symmetry_mean</th>\n",
       "      <th>fractal_dimension_mean</th>\n",
       "      <th>...</th>\n",
       "      <th>radius_worst</th>\n",
       "      <th>texture_worst</th>\n",
       "      <th>perimeter_worst</th>\n",
       "      <th>area_worst</th>\n",
       "      <th>smoothness_worst</th>\n",
       "      <th>compactness_worst</th>\n",
       "      <th>concavity_worst</th>\n",
       "      <th>concave points_worst</th>\n",
       "      <th>symmetry_worst</th>\n",
       "      <th>fractal_dimension_worst</th>\n",
       "    </tr>\n",
       "  </thead>\n",
       "  <tbody>\n",
       "    <tr>\n",
       "      <th>0</th>\n",
       "      <td>-0.104653</td>\n",
       "      <td>0.389986</td>\n",
       "      <td>-0.058456</td>\n",
       "      <td>-0.205127</td>\n",
       "      <td>1.618716</td>\n",
       "      <td>1.140571</td>\n",
       "      <td>0.080266</td>\n",
       "      <td>0.292320</td>\n",
       "      <td>1.387813</td>\n",
       "      <td>1.726305</td>\n",
       "      <td>...</td>\n",
       "      <td>0.186783</td>\n",
       "      <td>0.435866</td>\n",
       "      <td>0.120346</td>\n",
       "      <td>0.050793</td>\n",
       "      <td>1.442624</td>\n",
       "      <td>0.741918</td>\n",
       "      <td>0.004647</td>\n",
       "      <td>0.641950</td>\n",
       "      <td>0.461700</td>\n",
       "      <td>1.759725</td>\n",
       "    </tr>\n",
       "    <tr>\n",
       "      <th>1</th>\n",
       "      <td>-0.073092</td>\n",
       "      <td>1.242038</td>\n",
       "      <td>0.029899</td>\n",
       "      <td>-0.153657</td>\n",
       "      <td>1.426449</td>\n",
       "      <td>1.207760</td>\n",
       "      <td>0.620445</td>\n",
       "      <td>0.491280</td>\n",
       "      <td>1.673516</td>\n",
       "      <td>1.413583</td>\n",
       "      <td>...</td>\n",
       "      <td>-0.034909</td>\n",
       "      <td>1.225864</td>\n",
       "      <td>-0.018340</td>\n",
       "      <td>-0.145511</td>\n",
       "      <td>2.044817</td>\n",
       "      <td>0.921529</td>\n",
       "      <td>0.352337</td>\n",
       "      <td>0.588995</td>\n",
       "      <td>1.174861</td>\n",
       "      <td>1.937456</td>\n",
       "    </tr>\n",
       "    <tr>\n",
       "      <th>2</th>\n",
       "      <td>-0.314103</td>\n",
       "      <td>0.045440</td>\n",
       "      <td>-0.294070</td>\n",
       "      <td>-0.387847</td>\n",
       "      <td>-0.026944</td>\n",
       "      <td>0.170054</td>\n",
       "      <td>-0.209997</td>\n",
       "      <td>-0.487839</td>\n",
       "      <td>-0.185363</td>\n",
       "      <td>0.395047</td>\n",
       "      <td>...</td>\n",
       "      <td>-0.370615</td>\n",
       "      <td>-0.582902</td>\n",
       "      <td>-0.223053</td>\n",
       "      <td>-0.422318</td>\n",
       "      <td>-0.131681</td>\n",
       "      <td>0.470603</td>\n",
       "      <td>0.381022</td>\n",
       "      <td>-0.220753</td>\n",
       "      <td>1.088654</td>\n",
       "      <td>0.457850</td>\n",
       "    </tr>\n",
       "    <tr>\n",
       "      <th>3</th>\n",
       "      <td>-0.652667</td>\n",
       "      <td>-0.599420</td>\n",
       "      <td>-0.523462</td>\n",
       "      <td>-0.622322</td>\n",
       "      <td>0.920859</td>\n",
       "      <td>1.243221</td>\n",
       "      <td>1.008490</td>\n",
       "      <td>0.659907</td>\n",
       "      <td>3.130964</td>\n",
       "      <td>1.609400</td>\n",
       "      <td>...</td>\n",
       "      <td>-0.514187</td>\n",
       "      <td>0.146200</td>\n",
       "      <td>-0.442539</td>\n",
       "      <td>-0.499038</td>\n",
       "      <td>0.285553</td>\n",
       "      <td>1.001216</td>\n",
       "      <td>0.907750</td>\n",
       "      <td>1.109461</td>\n",
       "      <td>4.502420</td>\n",
       "      <td>1.087682</td>\n",
       "    </tr>\n",
       "    <tr>\n",
       "      <th>4</th>\n",
       "      <td>-1.160512</td>\n",
       "      <td>0.494746</td>\n",
       "      <td>-1.178868</td>\n",
       "      <td>-0.978896</td>\n",
       "      <td>-1.068032</td>\n",
       "      <td>-1.199495</td>\n",
       "      <td>-1.091450</td>\n",
       "      <td>-1.113533</td>\n",
       "      <td>-0.659124</td>\n",
       "      <td>0.247454</td>\n",
       "      <td>...</td>\n",
       "      <td>-1.069474</td>\n",
       "      <td>0.567533</td>\n",
       "      <td>-1.106122</td>\n",
       "      <td>-0.886964</td>\n",
       "      <td>-0.828504</td>\n",
       "      <td>-1.138058</td>\n",
       "      <td>-1.258758</td>\n",
       "      <td>-1.322052</td>\n",
       "      <td>-0.865876</td>\n",
       "      <td>-0.155875</td>\n",
       "    </tr>\n",
       "  </tbody>\n",
       "</table>\n",
       "<p>5 rows × 30 columns</p>\n",
       "</div>"
      ],
      "text/plain": [
       "   radius_mean  texture_mean  perimeter_mean  area_mean  smoothness_mean  \\\n",
       "0    -0.104653      0.389986       -0.058456  -0.205127         1.618716   \n",
       "1    -0.073092      1.242038        0.029899  -0.153657         1.426449   \n",
       "2    -0.314103      0.045440       -0.294070  -0.387847        -0.026944   \n",
       "3    -0.652667     -0.599420       -0.523462  -0.622322         0.920859   \n",
       "4    -1.160512      0.494746       -1.178868  -0.978896        -1.068032   \n",
       "\n",
       "   compactness_mean  concavity_mean  concave points_mean  symmetry_mean  \\\n",
       "0          1.140571        0.080266             0.292320       1.387813   \n",
       "1          1.207760        0.620445             0.491280       1.673516   \n",
       "2          0.170054       -0.209997            -0.487839      -0.185363   \n",
       "3          1.243221        1.008490             0.659907       3.130964   \n",
       "4         -1.199495       -1.091450            -1.113533      -0.659124   \n",
       "\n",
       "   fractal_dimension_mean  ...  radius_worst  texture_worst  perimeter_worst  \\\n",
       "0                1.726305  ...      0.186783       0.435866         0.120346   \n",
       "1                1.413583  ...     -0.034909       1.225864        -0.018340   \n",
       "2                0.395047  ...     -0.370615      -0.582902        -0.223053   \n",
       "3                1.609400  ...     -0.514187       0.146200        -0.442539   \n",
       "4                0.247454  ...     -1.069474       0.567533        -1.106122   \n",
       "\n",
       "   area_worst  smoothness_worst  compactness_worst  concavity_worst  \\\n",
       "0    0.050793          1.442624           0.741918         0.004647   \n",
       "1   -0.145511          2.044817           0.921529         0.352337   \n",
       "2   -0.422318         -0.131681           0.470603         0.381022   \n",
       "3   -0.499038          0.285553           1.001216         0.907750   \n",
       "4   -0.886964         -0.828504          -1.138058        -1.258758   \n",
       "\n",
       "   concave points_worst  symmetry_worst  fractal_dimension_worst  \n",
       "0              0.641950        0.461700                 1.759725  \n",
       "1              0.588995        1.174861                 1.937456  \n",
       "2             -0.220753        1.088654                 0.457850  \n",
       "3              1.109461        4.502420                 1.087682  \n",
       "4             -1.322052       -0.865876                -0.155875  \n",
       "\n",
       "[5 rows x 30 columns]"
      ]
     },
     "execution_count": 246,
     "metadata": {},
     "output_type": "execute_result"
    }
   ],
   "source": [
    "train_set_dummy_drop_scl.head()"
   ]
  },
  {
   "cell_type": "code",
   "execution_count": 237,
   "metadata": {},
   "outputs": [],
   "source": [
    "train_set_dummy = train_set_dummy[['diagnosis_B', 'diagnosis_M']]"
   ]
  },
  {
   "cell_type": "code",
   "execution_count": 240,
   "metadata": {},
   "outputs": [],
   "source": [
    "train_set_dummy_scl = train_set_dummy_drop_scl.merge(train_set_dummy, left_index=True, right_index=True)"
   ]
  },
  {
   "cell_type": "code",
   "execution_count": 241,
   "metadata": {},
   "outputs": [
    {
     "data": {
      "text/html": [
       "<div>\n",
       "<style scoped>\n",
       "    .dataframe tbody tr th:only-of-type {\n",
       "        vertical-align: middle;\n",
       "    }\n",
       "\n",
       "    .dataframe tbody tr th {\n",
       "        vertical-align: top;\n",
       "    }\n",
       "\n",
       "    .dataframe thead th {\n",
       "        text-align: right;\n",
       "    }\n",
       "</style>\n",
       "<table border=\"1\" class=\"dataframe\">\n",
       "  <thead>\n",
       "    <tr style=\"text-align: right;\">\n",
       "      <th></th>\n",
       "      <th>radius_mean</th>\n",
       "      <th>texture_mean</th>\n",
       "      <th>perimeter_mean</th>\n",
       "      <th>area_mean</th>\n",
       "      <th>smoothness_mean</th>\n",
       "      <th>compactness_mean</th>\n",
       "      <th>concavity_mean</th>\n",
       "      <th>concave points_mean</th>\n",
       "      <th>symmetry_mean</th>\n",
       "      <th>fractal_dimension_mean</th>\n",
       "      <th>...</th>\n",
       "      <th>perimeter_worst</th>\n",
       "      <th>area_worst</th>\n",
       "      <th>smoothness_worst</th>\n",
       "      <th>compactness_worst</th>\n",
       "      <th>concavity_worst</th>\n",
       "      <th>concave points_worst</th>\n",
       "      <th>symmetry_worst</th>\n",
       "      <th>fractal_dimension_worst</th>\n",
       "      <th>diagnosis_B</th>\n",
       "      <th>diagnosis_M</th>\n",
       "    </tr>\n",
       "  </thead>\n",
       "  <tbody>\n",
       "    <tr>\n",
       "      <th>0</th>\n",
       "      <td>-0.104653</td>\n",
       "      <td>0.389986</td>\n",
       "      <td>-0.058456</td>\n",
       "      <td>-0.205127</td>\n",
       "      <td>1.618716</td>\n",
       "      <td>1.140571</td>\n",
       "      <td>0.080266</td>\n",
       "      <td>0.292320</td>\n",
       "      <td>1.387813</td>\n",
       "      <td>1.726305</td>\n",
       "      <td>...</td>\n",
       "      <td>0.120346</td>\n",
       "      <td>0.050793</td>\n",
       "      <td>1.442624</td>\n",
       "      <td>0.741918</td>\n",
       "      <td>0.004647</td>\n",
       "      <td>0.641950</td>\n",
       "      <td>0.461700</td>\n",
       "      <td>1.759725</td>\n",
       "      <td>0</td>\n",
       "      <td>1</td>\n",
       "    </tr>\n",
       "    <tr>\n",
       "      <th>1</th>\n",
       "      <td>-0.073092</td>\n",
       "      <td>1.242038</td>\n",
       "      <td>0.029899</td>\n",
       "      <td>-0.153657</td>\n",
       "      <td>1.426449</td>\n",
       "      <td>1.207760</td>\n",
       "      <td>0.620445</td>\n",
       "      <td>0.491280</td>\n",
       "      <td>1.673516</td>\n",
       "      <td>1.413583</td>\n",
       "      <td>...</td>\n",
       "      <td>-0.018340</td>\n",
       "      <td>-0.145511</td>\n",
       "      <td>2.044817</td>\n",
       "      <td>0.921529</td>\n",
       "      <td>0.352337</td>\n",
       "      <td>0.588995</td>\n",
       "      <td>1.174861</td>\n",
       "      <td>1.937456</td>\n",
       "      <td>0</td>\n",
       "      <td>1</td>\n",
       "    </tr>\n",
       "    <tr>\n",
       "      <th>2</th>\n",
       "      <td>-0.314103</td>\n",
       "      <td>0.045440</td>\n",
       "      <td>-0.294070</td>\n",
       "      <td>-0.387847</td>\n",
       "      <td>-0.026944</td>\n",
       "      <td>0.170054</td>\n",
       "      <td>-0.209997</td>\n",
       "      <td>-0.487839</td>\n",
       "      <td>-0.185363</td>\n",
       "      <td>0.395047</td>\n",
       "      <td>...</td>\n",
       "      <td>-0.223053</td>\n",
       "      <td>-0.422318</td>\n",
       "      <td>-0.131681</td>\n",
       "      <td>0.470603</td>\n",
       "      <td>0.381022</td>\n",
       "      <td>-0.220753</td>\n",
       "      <td>1.088654</td>\n",
       "      <td>0.457850</td>\n",
       "      <td>0</td>\n",
       "      <td>1</td>\n",
       "    </tr>\n",
       "    <tr>\n",
       "      <th>3</th>\n",
       "      <td>-0.652667</td>\n",
       "      <td>-0.599420</td>\n",
       "      <td>-0.523462</td>\n",
       "      <td>-0.622322</td>\n",
       "      <td>0.920859</td>\n",
       "      <td>1.243221</td>\n",
       "      <td>1.008490</td>\n",
       "      <td>0.659907</td>\n",
       "      <td>3.130964</td>\n",
       "      <td>1.609400</td>\n",
       "      <td>...</td>\n",
       "      <td>-0.442539</td>\n",
       "      <td>-0.499038</td>\n",
       "      <td>0.285553</td>\n",
       "      <td>1.001216</td>\n",
       "      <td>0.907750</td>\n",
       "      <td>1.109461</td>\n",
       "      <td>4.502420</td>\n",
       "      <td>1.087682</td>\n",
       "      <td>0</td>\n",
       "      <td>1</td>\n",
       "    </tr>\n",
       "    <tr>\n",
       "      <th>4</th>\n",
       "      <td>-1.160512</td>\n",
       "      <td>0.494746</td>\n",
       "      <td>-1.178868</td>\n",
       "      <td>-0.978896</td>\n",
       "      <td>-1.068032</td>\n",
       "      <td>-1.199495</td>\n",
       "      <td>-1.091450</td>\n",
       "      <td>-1.113533</td>\n",
       "      <td>-0.659124</td>\n",
       "      <td>0.247454</td>\n",
       "      <td>...</td>\n",
       "      <td>-1.106122</td>\n",
       "      <td>-0.886964</td>\n",
       "      <td>-0.828504</td>\n",
       "      <td>-1.138058</td>\n",
       "      <td>-1.258758</td>\n",
       "      <td>-1.322052</td>\n",
       "      <td>-0.865876</td>\n",
       "      <td>-0.155875</td>\n",
       "      <td>0</td>\n",
       "      <td>1</td>\n",
       "    </tr>\n",
       "  </tbody>\n",
       "</table>\n",
       "<p>5 rows × 32 columns</p>\n",
       "</div>"
      ],
      "text/plain": [
       "   radius_mean  texture_mean  perimeter_mean  area_mean  smoothness_mean  \\\n",
       "0    -0.104653      0.389986       -0.058456  -0.205127         1.618716   \n",
       "1    -0.073092      1.242038        0.029899  -0.153657         1.426449   \n",
       "2    -0.314103      0.045440       -0.294070  -0.387847        -0.026944   \n",
       "3    -0.652667     -0.599420       -0.523462  -0.622322         0.920859   \n",
       "4    -1.160512      0.494746       -1.178868  -0.978896        -1.068032   \n",
       "\n",
       "   compactness_mean  concavity_mean  concave points_mean  symmetry_mean  \\\n",
       "0          1.140571        0.080266             0.292320       1.387813   \n",
       "1          1.207760        0.620445             0.491280       1.673516   \n",
       "2          0.170054       -0.209997            -0.487839      -0.185363   \n",
       "3          1.243221        1.008490             0.659907       3.130964   \n",
       "4         -1.199495       -1.091450            -1.113533      -0.659124   \n",
       "\n",
       "   fractal_dimension_mean  ...  perimeter_worst  area_worst  smoothness_worst  \\\n",
       "0                1.726305  ...         0.120346    0.050793          1.442624   \n",
       "1                1.413583  ...        -0.018340   -0.145511          2.044817   \n",
       "2                0.395047  ...        -0.223053   -0.422318         -0.131681   \n",
       "3                1.609400  ...        -0.442539   -0.499038          0.285553   \n",
       "4                0.247454  ...        -1.106122   -0.886964         -0.828504   \n",
       "\n",
       "   compactness_worst  concavity_worst  concave points_worst  symmetry_worst  \\\n",
       "0           0.741918         0.004647              0.641950        0.461700   \n",
       "1           0.921529         0.352337              0.588995        1.174861   \n",
       "2           0.470603         0.381022             -0.220753        1.088654   \n",
       "3           1.001216         0.907750              1.109461        4.502420   \n",
       "4          -1.138058        -1.258758             -1.322052       -0.865876   \n",
       "\n",
       "   fractal_dimension_worst  diagnosis_B  diagnosis_M  \n",
       "0                 1.759725            0            1  \n",
       "1                 1.937456            0            1  \n",
       "2                 0.457850            0            1  \n",
       "3                 1.087682            0            1  \n",
       "4                -0.155875            0            1  \n",
       "\n",
       "[5 rows x 32 columns]"
      ]
     },
     "execution_count": 241,
     "metadata": {},
     "output_type": "execute_result"
    }
   ],
   "source": [
    "train_set_dummy_scl.head()"
   ]
  },
  {
   "cell_type": "markdown",
   "metadata": {},
   "source": [
    "# Encodage de la variable \"Diagnosis\" - Test"
   ]
  },
  {
   "cell_type": "code",
   "execution_count": 242,
   "metadata": {},
   "outputs": [],
   "source": [
    "test_set_dummy = pd.get_dummies(test_set,\"diagnosis\")"
   ]
  },
  {
   "cell_type": "code",
   "execution_count": 243,
   "metadata": {},
   "outputs": [],
   "source": [
    "test_set_dummy_drop = test_set_dummy.drop(columns = ['diagnosis_B', 'diagnosis_M'])"
   ]
  },
  {
   "cell_type": "markdown",
   "metadata": {},
   "source": [
    "# Scaling du data set - Train"
   ]
  },
  {
   "cell_type": "code",
   "execution_count": 244,
   "metadata": {},
   "outputs": [],
   "source": [
    "test_set_dummy_drop_scl = pd.DataFrame(scaler.fit_transform(test_set_dummy_drop), columns=test_set_dummy_drop.columns)"
   ]
  },
  {
   "cell_type": "code",
   "execution_count": 245,
   "metadata": {},
   "outputs": [
    {
     "data": {
      "text/html": [
       "<div>\n",
       "<style scoped>\n",
       "    .dataframe tbody tr th:only-of-type {\n",
       "        vertical-align: middle;\n",
       "    }\n",
       "\n",
       "    .dataframe tbody tr th {\n",
       "        vertical-align: top;\n",
       "    }\n",
       "\n",
       "    .dataframe thead th {\n",
       "        text-align: right;\n",
       "    }\n",
       "</style>\n",
       "<table border=\"1\" class=\"dataframe\">\n",
       "  <thead>\n",
       "    <tr style=\"text-align: right;\">\n",
       "      <th></th>\n",
       "      <th>radius_mean</th>\n",
       "      <th>texture_mean</th>\n",
       "      <th>perimeter_mean</th>\n",
       "      <th>area_mean</th>\n",
       "      <th>smoothness_mean</th>\n",
       "      <th>compactness_mean</th>\n",
       "      <th>concavity_mean</th>\n",
       "      <th>concave points_mean</th>\n",
       "      <th>symmetry_mean</th>\n",
       "      <th>fractal_dimension_mean</th>\n",
       "      <th>...</th>\n",
       "      <th>radius_worst</th>\n",
       "      <th>texture_worst</th>\n",
       "      <th>perimeter_worst</th>\n",
       "      <th>area_worst</th>\n",
       "      <th>smoothness_worst</th>\n",
       "      <th>compactness_worst</th>\n",
       "      <th>concavity_worst</th>\n",
       "      <th>concave points_worst</th>\n",
       "      <th>symmetry_worst</th>\n",
       "      <th>fractal_dimension_worst</th>\n",
       "    </tr>\n",
       "  </thead>\n",
       "  <tbody>\n",
       "    <tr>\n",
       "      <th>0</th>\n",
       "      <td>0.017250</td>\n",
       "      <td>1.680504</td>\n",
       "      <td>-0.046403</td>\n",
       "      <td>-0.083047</td>\n",
       "      <td>-1.932790</td>\n",
       "      <td>-1.136349</td>\n",
       "      <td>-0.690084</td>\n",
       "      <td>-0.872434</td>\n",
       "      <td>-0.387814</td>\n",
       "      <td>-1.133335</td>\n",
       "      <td>...</td>\n",
       "      <td>-0.240781</td>\n",
       "      <td>0.877409</td>\n",
       "      <td>-0.270331</td>\n",
       "      <td>-0.312380</td>\n",
       "      <td>-1.567288</td>\n",
       "      <td>-0.797120</td>\n",
       "      <td>-0.634545</td>\n",
       "      <td>-1.016615</td>\n",
       "      <td>-1.040653</td>\n",
       "      <td>-1.186447</td>\n",
       "    </tr>\n",
       "    <tr>\n",
       "      <th>1</th>\n",
       "      <td>-1.047861</td>\n",
       "      <td>0.765426</td>\n",
       "      <td>-1.066711</td>\n",
       "      <td>-0.953608</td>\n",
       "      <td>0.311065</td>\n",
       "      <td>-0.816452</td>\n",
       "      <td>-0.803724</td>\n",
       "      <td>-0.836290</td>\n",
       "      <td>-0.433403</td>\n",
       "      <td>0.301442</td>\n",
       "      <td>...</td>\n",
       "      <td>-1.106132</td>\n",
       "      <td>-0.346674</td>\n",
       "      <td>-1.135540</td>\n",
       "      <td>-0.914235</td>\n",
       "      <td>-0.963251</td>\n",
       "      <td>-1.189064</td>\n",
       "      <td>-1.092793</td>\n",
       "      <td>-1.399655</td>\n",
       "      <td>-1.262689</td>\n",
       "      <td>-1.013064</td>\n",
       "    </tr>\n",
       "    <tr>\n",
       "      <th>2</th>\n",
       "      <td>-0.021083</td>\n",
       "      <td>-0.041720</td>\n",
       "      <td>0.177743</td>\n",
       "      <td>-0.128263</td>\n",
       "      <td>-1.333955</td>\n",
       "      <td>2.340440</td>\n",
       "      <td>2.385963</td>\n",
       "      <td>0.715044</td>\n",
       "      <td>-0.399211</td>\n",
       "      <td>1.851205</td>\n",
       "      <td>...</td>\n",
       "      <td>-0.260140</td>\n",
       "      <td>-0.423968</td>\n",
       "      <td>-0.081870</td>\n",
       "      <td>-0.353809</td>\n",
       "      <td>-2.152629</td>\n",
       "      <td>0.992359</td>\n",
       "      <td>1.669713</td>\n",
       "      <td>0.473910</td>\n",
       "      <td>-0.940926</td>\n",
       "      <td>1.226505</td>\n",
       "    </tr>\n",
       "    <tr>\n",
       "      <th>3</th>\n",
       "      <td>-0.656316</td>\n",
       "      <td>0.218726</td>\n",
       "      <td>-0.624042</td>\n",
       "      <td>-0.655513</td>\n",
       "      <td>-0.787748</td>\n",
       "      <td>-0.143126</td>\n",
       "      <td>-0.331208</td>\n",
       "      <td>-0.334457</td>\n",
       "      <td>-0.839913</td>\n",
       "      <td>0.569744</td>\n",
       "      <td>...</td>\n",
       "      <td>-0.658937</td>\n",
       "      <td>0.137596</td>\n",
       "      <td>-0.504480</td>\n",
       "      <td>-0.617434</td>\n",
       "      <td>-1.092687</td>\n",
       "      <td>0.088780</td>\n",
       "      <td>-0.247103</td>\n",
       "      <td>-0.075983</td>\n",
       "      <td>-0.814855</td>\n",
       "      <td>0.761752</td>\n",
       "    </tr>\n",
       "    <tr>\n",
       "      <th>4</th>\n",
       "      <td>0.885219</td>\n",
       "      <td>-1.121043</td>\n",
       "      <td>0.867455</td>\n",
       "      <td>0.779420</td>\n",
       "      <td>0.095570</td>\n",
       "      <td>0.153601</td>\n",
       "      <td>0.051184</td>\n",
       "      <td>0.755641</td>\n",
       "      <td>-0.266241</td>\n",
       "      <td>-0.218553</td>\n",
       "      <td>...</td>\n",
       "      <td>0.651673</td>\n",
       "      <td>-1.088065</td>\n",
       "      <td>0.714808</td>\n",
       "      <td>0.484484</td>\n",
       "      <td>-0.426329</td>\n",
       "      <td>0.088125</td>\n",
       "      <td>-0.193304</td>\n",
       "      <td>0.396925</td>\n",
       "      <td>-0.267294</td>\n",
       "      <td>-0.380468</td>\n",
       "    </tr>\n",
       "  </tbody>\n",
       "</table>\n",
       "<p>5 rows × 30 columns</p>\n",
       "</div>"
      ],
      "text/plain": [
       "   radius_mean  texture_mean  perimeter_mean  area_mean  smoothness_mean  \\\n",
       "0     0.017250      1.680504       -0.046403  -0.083047        -1.932790   \n",
       "1    -1.047861      0.765426       -1.066711  -0.953608         0.311065   \n",
       "2    -0.021083     -0.041720        0.177743  -0.128263        -1.333955   \n",
       "3    -0.656316      0.218726       -0.624042  -0.655513        -0.787748   \n",
       "4     0.885219     -1.121043        0.867455   0.779420         0.095570   \n",
       "\n",
       "   compactness_mean  concavity_mean  concave points_mean  symmetry_mean  \\\n",
       "0         -1.136349       -0.690084            -0.872434      -0.387814   \n",
       "1         -0.816452       -0.803724            -0.836290      -0.433403   \n",
       "2          2.340440        2.385963             0.715044      -0.399211   \n",
       "3         -0.143126       -0.331208            -0.334457      -0.839913   \n",
       "4          0.153601        0.051184             0.755641      -0.266241   \n",
       "\n",
       "   fractal_dimension_mean  ...  radius_worst  texture_worst  perimeter_worst  \\\n",
       "0               -1.133335  ...     -0.240781       0.877409        -0.270331   \n",
       "1                0.301442  ...     -1.106132      -0.346674        -1.135540   \n",
       "2                1.851205  ...     -0.260140      -0.423968        -0.081870   \n",
       "3                0.569744  ...     -0.658937       0.137596        -0.504480   \n",
       "4               -0.218553  ...      0.651673      -1.088065         0.714808   \n",
       "\n",
       "   area_worst  smoothness_worst  compactness_worst  concavity_worst  \\\n",
       "0   -0.312380         -1.567288          -0.797120        -0.634545   \n",
       "1   -0.914235         -0.963251          -1.189064        -1.092793   \n",
       "2   -0.353809         -2.152629           0.992359         1.669713   \n",
       "3   -0.617434         -1.092687           0.088780        -0.247103   \n",
       "4    0.484484         -0.426329           0.088125        -0.193304   \n",
       "\n",
       "   concave points_worst  symmetry_worst  fractal_dimension_worst  \n",
       "0             -1.016615       -1.040653                -1.186447  \n",
       "1             -1.399655       -1.262689                -1.013064  \n",
       "2              0.473910       -0.940926                 1.226505  \n",
       "3             -0.075983       -0.814855                 0.761752  \n",
       "4              0.396925       -0.267294                -0.380468  \n",
       "\n",
       "[5 rows x 30 columns]"
      ]
     },
     "execution_count": 245,
     "metadata": {},
     "output_type": "execute_result"
    }
   ],
   "source": [
    "test_set_dummy_drop_scl.head()"
   ]
  },
  {
   "cell_type": "code",
   "execution_count": 247,
   "metadata": {},
   "outputs": [],
   "source": [
    "test_set_dummy = test_set_dummy[['diagnosis_B', 'diagnosis_M']]"
   ]
  },
  {
   "cell_type": "code",
   "execution_count": 248,
   "metadata": {},
   "outputs": [],
   "source": [
    "test_set_dummy_scl = test_set_dummy_drop_scl.merge(test_set_dummy, left_index=True, right_index=True)"
   ]
  },
  {
   "cell_type": "code",
   "execution_count": 254,
   "metadata": {},
   "outputs": [
    {
     "data": {
      "text/html": [
       "<div>\n",
       "<style scoped>\n",
       "    .dataframe tbody tr th:only-of-type {\n",
       "        vertical-align: middle;\n",
       "    }\n",
       "\n",
       "    .dataframe tbody tr th {\n",
       "        vertical-align: top;\n",
       "    }\n",
       "\n",
       "    .dataframe thead th {\n",
       "        text-align: right;\n",
       "    }\n",
       "</style>\n",
       "<table border=\"1\" class=\"dataframe\">\n",
       "  <thead>\n",
       "    <tr style=\"text-align: right;\">\n",
       "      <th></th>\n",
       "      <th>radius_mean</th>\n",
       "      <th>texture_mean</th>\n",
       "      <th>perimeter_mean</th>\n",
       "      <th>area_mean</th>\n",
       "      <th>smoothness_mean</th>\n",
       "      <th>compactness_mean</th>\n",
       "      <th>concavity_mean</th>\n",
       "      <th>concave points_mean</th>\n",
       "      <th>symmetry_mean</th>\n",
       "      <th>fractal_dimension_mean</th>\n",
       "      <th>...</th>\n",
       "      <th>perimeter_worst</th>\n",
       "      <th>area_worst</th>\n",
       "      <th>smoothness_worst</th>\n",
       "      <th>compactness_worst</th>\n",
       "      <th>concavity_worst</th>\n",
       "      <th>concave points_worst</th>\n",
       "      <th>symmetry_worst</th>\n",
       "      <th>fractal_dimension_worst</th>\n",
       "      <th>diagnosis_B</th>\n",
       "      <th>diagnosis_M</th>\n",
       "    </tr>\n",
       "  </thead>\n",
       "  <tbody>\n",
       "    <tr>\n",
       "      <th>6</th>\n",
       "      <td>0.208915</td>\n",
       "      <td>-0.806631</td>\n",
       "      <td>0.248040</td>\n",
       "      <td>-0.003778</td>\n",
       "      <td>1.271194</td>\n",
       "      <td>1.474647</td>\n",
       "      <td>0.225525</td>\n",
       "      <td>0.907815</td>\n",
       "      <td>0.729138</td>\n",
       "      <td>0.187733</td>\n",
       "      <td>...</td>\n",
       "      <td>-0.113280</td>\n",
       "      <td>-0.267066</td>\n",
       "      <td>0.201678</td>\n",
       "      <td>0.134614</td>\n",
       "      <td>-0.422819</td>\n",
       "      <td>0.345078</td>\n",
       "      <td>-0.579648</td>\n",
       "      <td>-0.458019</td>\n",
       "      <td>0</td>\n",
       "      <td>1</td>\n",
       "    </tr>\n",
       "    <tr>\n",
       "      <th>11</th>\n",
       "      <td>-0.237391</td>\n",
       "      <td>-1.353332</td>\n",
       "      <td>-0.244439</td>\n",
       "      <td>-0.361604</td>\n",
       "      <td>0.709341</td>\n",
       "      <td>0.149537</td>\n",
       "      <td>-0.422490</td>\n",
       "      <td>0.051870</td>\n",
       "      <td>-0.114275</td>\n",
       "      <td>0.407485</td>\n",
       "      <td>...</td>\n",
       "      <td>-0.426240</td>\n",
       "      <td>-0.432783</td>\n",
       "      <td>0.235236</td>\n",
       "      <td>-0.116817</td>\n",
       "      <td>-0.471411</td>\n",
       "      <td>0.206819</td>\n",
       "      <td>0.618965</td>\n",
       "      <td>0.398923</td>\n",
       "      <td>0</td>\n",
       "      <td>1</td>\n",
       "    </tr>\n",
       "    <tr>\n",
       "      <th>14</th>\n",
       "      <td>-1.254585</td>\n",
       "      <td>1.964413</td>\n",
       "      <td>-1.274387</td>\n",
       "      <td>-1.074465</td>\n",
       "      <td>-1.229407</td>\n",
       "      <td>-1.257682</td>\n",
       "      <td>-0.914236</td>\n",
       "      <td>-1.054205</td>\n",
       "      <td>-0.714541</td>\n",
       "      <td>-0.470246</td>\n",
       "      <td>...</td>\n",
       "      <td>-1.194649</td>\n",
       "      <td>-0.934950</td>\n",
       "      <td>-1.121451</td>\n",
       "      <td>-1.026944</td>\n",
       "      <td>-0.961245</td>\n",
       "      <td>-1.126122</td>\n",
       "      <td>-1.085813</td>\n",
       "      <td>-0.772655</td>\n",
       "      <td>0</td>\n",
       "      <td>1</td>\n",
       "    </tr>\n",
       "    <tr>\n",
       "      <th>15</th>\n",
       "      <td>0.000821</td>\n",
       "      <td>-1.491767</td>\n",
       "      <td>-0.035959</td>\n",
       "      <td>-0.096723</td>\n",
       "      <td>0.137531</td>\n",
       "      <td>-0.648375</td>\n",
       "      <td>-0.429673</td>\n",
       "      <td>-0.121781</td>\n",
       "      <td>1.010275</td>\n",
       "      <td>-1.114171</td>\n",
       "      <td>...</td>\n",
       "      <td>0.015217</td>\n",
       "      <td>-0.088080</td>\n",
       "      <td>-0.224983</td>\n",
       "      <td>-0.754560</td>\n",
       "      <td>-0.565126</td>\n",
       "      <td>-0.182820</td>\n",
       "      <td>0.308492</td>\n",
       "      <td>-1.403590</td>\n",
       "      <td>0</td>\n",
       "      <td>1</td>\n",
       "    </tr>\n",
       "    <tr>\n",
       "      <th>23</th>\n",
       "      <td>1.071408</td>\n",
       "      <td>0.035710</td>\n",
       "      <td>1.052235</td>\n",
       "      <td>1.016390</td>\n",
       "      <td>-0.177533</td>\n",
       "      <td>0.017432</td>\n",
       "      <td>0.212783</td>\n",
       "      <td>0.610801</td>\n",
       "      <td>-0.057287</td>\n",
       "      <td>-0.738548</td>\n",
       "      <td>...</td>\n",
       "      <td>1.237361</td>\n",
       "      <td>1.097830</td>\n",
       "      <td>0.470139</td>\n",
       "      <td>-0.066400</td>\n",
       "      <td>0.368552</td>\n",
       "      <td>1.144780</td>\n",
       "      <td>0.310374</td>\n",
       "      <td>-0.131750</td>\n",
       "      <td>0</td>\n",
       "      <td>1</td>\n",
       "    </tr>\n",
       "  </tbody>\n",
       "</table>\n",
       "<p>5 rows × 32 columns</p>\n",
       "</div>"
      ],
      "text/plain": [
       "    radius_mean  texture_mean  perimeter_mean  area_mean  smoothness_mean  \\\n",
       "6      0.208915     -0.806631        0.248040  -0.003778         1.271194   \n",
       "11    -0.237391     -1.353332       -0.244439  -0.361604         0.709341   \n",
       "14    -1.254585      1.964413       -1.274387  -1.074465        -1.229407   \n",
       "15     0.000821     -1.491767       -0.035959  -0.096723         0.137531   \n",
       "23     1.071408      0.035710        1.052235   1.016390        -0.177533   \n",
       "\n",
       "    compactness_mean  concavity_mean  concave points_mean  symmetry_mean  \\\n",
       "6           1.474647        0.225525             0.907815       0.729138   \n",
       "11          0.149537       -0.422490             0.051870      -0.114275   \n",
       "14         -1.257682       -0.914236            -1.054205      -0.714541   \n",
       "15         -0.648375       -0.429673            -0.121781       1.010275   \n",
       "23          0.017432        0.212783             0.610801      -0.057287   \n",
       "\n",
       "    fractal_dimension_mean  ...  perimeter_worst  area_worst  \\\n",
       "6                 0.187733  ...        -0.113280   -0.267066   \n",
       "11                0.407485  ...        -0.426240   -0.432783   \n",
       "14               -0.470246  ...        -1.194649   -0.934950   \n",
       "15               -1.114171  ...         0.015217   -0.088080   \n",
       "23               -0.738548  ...         1.237361    1.097830   \n",
       "\n",
       "    smoothness_worst  compactness_worst  concavity_worst  \\\n",
       "6           0.201678           0.134614        -0.422819   \n",
       "11          0.235236          -0.116817        -0.471411   \n",
       "14         -1.121451          -1.026944        -0.961245   \n",
       "15         -0.224983          -0.754560        -0.565126   \n",
       "23          0.470139          -0.066400         0.368552   \n",
       "\n",
       "    concave points_worst  symmetry_worst  fractal_dimension_worst  \\\n",
       "6               0.345078       -0.579648                -0.458019   \n",
       "11              0.206819        0.618965                 0.398923   \n",
       "14             -1.126122       -1.085813                -0.772655   \n",
       "15             -0.182820        0.308492                -1.403590   \n",
       "23              1.144780        0.310374                -0.131750   \n",
       "\n",
       "    diagnosis_B  diagnosis_M  \n",
       "6             0            1  \n",
       "11            0            1  \n",
       "14            0            1  \n",
       "15            0            1  \n",
       "23            0            1  \n",
       "\n",
       "[5 rows x 32 columns]"
      ]
     },
     "execution_count": 254,
     "metadata": {},
     "output_type": "execute_result"
    }
   ],
   "source": [
    "test_set_dummy_scl.head()"
   ]
  },
  {
   "cell_type": "markdown",
   "metadata": {},
   "source": [
    "# Modélisation 1 : LinearSVC"
   ]
  },
  {
   "cell_type": "code",
   "execution_count": 154,
   "metadata": {},
   "outputs": [],
   "source": [
    "from sklearn.svm import LinearSVC\n",
    "from sklearn.datasets import make_classification"
   ]
  },
  {
   "cell_type": "code",
   "execution_count": 285,
   "metadata": {},
   "outputs": [
    {
     "name": "stderr",
     "output_type": "stream",
     "text": [
      "/Users/julieG/anaconda3/lib/python3.7/site-packages/sklearn/svm/base.py:931: ConvergenceWarning: Liblinear failed to converge, increase the number of iterations.\n",
      "  \"the number of iterations.\", ConvergenceWarning)\n"
     ]
    },
    {
     "data": {
      "text/plain": [
       "LinearSVC(C=1.0, class_weight=None, dual=True, fit_intercept=True,\n",
       "     intercept_scaling=1, loss='squared_hinge', max_iter=1000,\n",
       "     multi_class='ovr', penalty='l2', random_state=None, tol=0.0001,\n",
       "     verbose=0)"
      ]
     },
     "execution_count": 285,
     "metadata": {},
     "output_type": "execute_result"
    }
   ],
   "source": [
    "y_train = train_set_dummy_scl['diagnosis_M']\n",
    "X_train = train_set_dummy_scl.drop(columns = ['diagnosis_M'])\n",
    "#X_train, y_train = make_classification(n_features=train_set_dummy_scl.shape[1], random_state=0)\n",
    "model_svc = LinearSVC()\n",
    "model_svc.fit(X_train, y_train)  "
   ]
  },
  {
   "cell_type": "code",
   "execution_count": 286,
   "metadata": {},
   "outputs": [],
   "source": [
    "y_train_pred = model_svc.predict(X_train)"
   ]
  },
  {
   "cell_type": "code",
   "execution_count": 287,
   "metadata": {},
   "outputs": [],
   "source": [
    "y_test = test_set_dummy_scl['diagnosis_M']\n",
    "X_test = test_set_dummy_scl.drop(columns = ['diagnosis_M'])\n",
    "\n",
    "#X_test, y_test = make_classification(n_features=test_set_dummy_scl.shape[1], random_state=0)\n",
    "\n",
    "#model_svc.fit(X_test, y_test)  \n",
    "y_test_pred = model_svc.predict(X_test)"
   ]
  },
  {
   "cell_type": "code",
   "execution_count": 288,
   "metadata": {},
   "outputs": [],
   "source": [
    "from sklearn.metrics import accuracy_score"
   ]
  },
  {
   "cell_type": "code",
   "execution_count": 289,
   "metadata": {},
   "outputs": [
    {
     "data": {
      "text/plain": [
       "1.0"
      ]
     },
     "execution_count": 289,
     "metadata": {},
     "output_type": "execute_result"
    }
   ],
   "source": [
    "accuracy_score(y_test, y_test_pred)"
   ]
  },
  {
   "cell_type": "code",
   "execution_count": 290,
   "metadata": {},
   "outputs": [
    {
     "data": {
      "text/plain": [
       "1.0"
      ]
     },
     "execution_count": 290,
     "metadata": {},
     "output_type": "execute_result"
    }
   ],
   "source": [
    "accuracy_score(y_train, y_train_pred)"
   ]
  },
  {
   "cell_type": "code",
   "execution_count": 291,
   "metadata": {},
   "outputs": [
    {
     "data": {
      "text/plain": [
       "array([[10,  0],\n",
       "       [ 0, 15]])"
      ]
     },
     "execution_count": 291,
     "metadata": {},
     "output_type": "execute_result"
    }
   ],
   "source": [
    "from sklearn.metrics import confusion_matrix\n",
    "confusion_matrix(y_test, y_test_pred)"
   ]
  },
  {
   "cell_type": "code",
   "execution_count": 292,
   "metadata": {},
   "outputs": [
    {
     "data": {
      "text/plain": [
       "array([[218,   0],\n",
       "       [  0, 151]])"
      ]
     },
     "execution_count": 292,
     "metadata": {},
     "output_type": "execute_result"
    }
   ],
   "source": [
    "confusion_matrix(y_train, y_train_pred)"
   ]
  },
  {
   "cell_type": "code",
   "execution_count": 293,
   "metadata": {},
   "outputs": [
    {
     "data": {
      "text/plain": [
       "1.0"
      ]
     },
     "execution_count": 293,
     "metadata": {},
     "output_type": "execute_result"
    }
   ],
   "source": [
    "from sklearn.metrics import f1_score\n",
    "f1_score(y_train, y_train_pred)"
   ]
  },
  {
   "cell_type": "code",
   "execution_count": 294,
   "metadata": {},
   "outputs": [
    {
     "data": {
      "text/plain": [
       "1.0"
      ]
     },
     "execution_count": 294,
     "metadata": {},
     "output_type": "execute_result"
    }
   ],
   "source": [
    "model_svc.coef_\n",
    "model_svc.score(X_train, y_train)"
   ]
  },
  {
   "cell_type": "code",
   "execution_count": 295,
   "metadata": {},
   "outputs": [
    {
     "data": {
      "text/plain": [
       "0.0"
      ]
     },
     "execution_count": 295,
     "metadata": {},
     "output_type": "execute_result"
    }
   ],
   "source": [
    "from sklearn.metrics import mean_squared_error\n",
    "np.sqrt(mean_squared_error(y_train, y_train_pred))"
   ]
  },
  {
   "cell_type": "markdown",
   "metadata": {},
   "source": [
    "# Modélisation 2 : KNeighbors Approximation "
   ]
  },
  {
   "cell_type": "code",
   "execution_count": 296,
   "metadata": {},
   "outputs": [
    {
     "data": {
      "text/plain": [
       "KNeighborsClassifier(algorithm='auto', leaf_size=30, metric='minkowski',\n",
       "           metric_params=None, n_jobs=None, n_neighbors=2, p=2,\n",
       "           weights='uniform')"
      ]
     },
     "execution_count": 296,
     "metadata": {},
     "output_type": "execute_result"
    }
   ],
   "source": [
    "from sklearn.neighbors import KNeighborsClassifier\n",
    "\n",
    "y_train = train_set_dummy_scl['diagnosis_M']\n",
    "X_train = train_set_dummy_scl.drop(columns = ['diagnosis_M'])\n",
    "\n",
    "model_neigh = KNeighborsClassifier(n_neighbors=2)\n",
    "model_neigh.fit(X_train, y_train)  "
   ]
  },
  {
   "cell_type": "code",
   "execution_count": 297,
   "metadata": {},
   "outputs": [],
   "source": [
    "y_train_pred = model_neigh.predict(X_train)"
   ]
  },
  {
   "cell_type": "code",
   "execution_count": 298,
   "metadata": {},
   "outputs": [],
   "source": [
    "y_test = test_set_dummy_scl['diagnosis_M']\n",
    "X_test = test_set_dummy_scl.drop(columns = ['diagnosis_M'])\n",
    "\n",
    "y_test_pred = model_svc.predict(X_test)\n"
   ]
  },
  {
   "cell_type": "code",
   "execution_count": 299,
   "metadata": {},
   "outputs": [
    {
     "data": {
      "text/plain": [
       "0.8455284552845529"
      ]
     },
     "execution_count": 299,
     "metadata": {},
     "output_type": "execute_result"
    }
   ],
   "source": [
    "accuracy_score(y_train, y_train_pred)"
   ]
  },
  {
   "cell_type": "code",
   "execution_count": 300,
   "metadata": {},
   "outputs": [
    {
     "data": {
      "text/plain": [
       "1.0"
      ]
     },
     "execution_count": 300,
     "metadata": {},
     "output_type": "execute_result"
    }
   ],
   "source": [
    "accuracy_score(y_test, y_test_pred)"
   ]
  },
  {
   "cell_type": "code",
   "execution_count": 301,
   "metadata": {},
   "outputs": [
    {
     "data": {
      "text/plain": [
       "array([[218,   0],\n",
       "       [ 57,  94]])"
      ]
     },
     "execution_count": 301,
     "metadata": {},
     "output_type": "execute_result"
    }
   ],
   "source": [
    "confusion_matrix(y_train, y_train_pred)"
   ]
  },
  {
   "cell_type": "code",
   "execution_count": 302,
   "metadata": {},
   "outputs": [
    {
     "data": {
      "text/plain": [
       "array([[10,  0],\n",
       "       [ 0, 15]])"
      ]
     },
     "execution_count": 302,
     "metadata": {},
     "output_type": "execute_result"
    }
   ],
   "source": [
    "confusion_matrix(y_test, y_test_pred)"
   ]
  },
  {
   "cell_type": "code",
   "execution_count": 303,
   "metadata": {},
   "outputs": [
    {
     "data": {
      "text/plain": [
       "0.845528455284553"
      ]
     },
     "execution_count": 303,
     "metadata": {},
     "output_type": "execute_result"
    }
   ],
   "source": [
    "f1_score(y_train, y_train_pred, average='micro')"
   ]
  },
  {
   "cell_type": "code",
   "execution_count": 304,
   "metadata": {},
   "outputs": [
    {
     "data": {
      "text/plain": [
       "0.3930286817974576"
      ]
     },
     "execution_count": 304,
     "metadata": {},
     "output_type": "execute_result"
    }
   ],
   "source": [
    "np.sqrt(mean_squared_error(y_train, y_train_pred))"
   ]
  },
  {
   "cell_type": "code",
   "execution_count": 305,
   "metadata": {},
   "outputs": [
    {
     "data": {
      "text/plain": [
       "0.0"
      ]
     },
     "execution_count": 305,
     "metadata": {},
     "output_type": "execute_result"
    }
   ],
   "source": [
    "np.sqrt(mean_squared_error(y_test, y_test_pred))"
   ]
  },
  {
   "cell_type": "code",
   "execution_count": null,
   "metadata": {},
   "outputs": [],
   "source": []
  }
 ],
 "metadata": {
  "kernelspec": {
   "display_name": "Python 3",
   "language": "python",
   "name": "python3"
  },
  "language_info": {
   "codemirror_mode": {
    "name": "ipython",
    "version": 3
   },
   "file_extension": ".py",
   "mimetype": "text/x-python",
   "name": "python",
   "nbconvert_exporter": "python",
   "pygments_lexer": "ipython3",
   "version": "3.7.3"
  }
 },
 "nbformat": 4,
 "nbformat_minor": 2
}
