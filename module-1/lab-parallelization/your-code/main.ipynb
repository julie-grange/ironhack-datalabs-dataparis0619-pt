{
 "cells": [
  {
   "cell_type": "markdown",
   "metadata": {},
   "source": [
    "# Parallelization Lab\n",
    "\n",
    "In this lab, you will be leveraging several concepts you have learned to obtain a list of links from a web page and crawl and index the pages referenced by those links - both sequentially and in parallel. Follow the steps below to complete the lab."
   ]
  },
  {
   "cell_type": "markdown",
   "metadata": {},
   "source": [
    "## Step 1: Use the requests library to retrieve the content from the URL below."
   ]
  },
  {
   "cell_type": "code",
   "execution_count": 1,
   "metadata": {},
   "outputs": [],
   "source": [
    "import requests\n",
    "\n",
    "url = 'https://en.wikipedia.org/wiki/Data_science'"
   ]
  },
  {
   "cell_type": "code",
   "execution_count": 4,
   "metadata": {},
   "outputs": [
    {
     "data": {
      "text/plain": [
       "b'<!DOCTYPE '"
      ]
     },
     "execution_count": 4,
     "metadata": {},
     "output_type": "execute_result"
    }
   ],
   "source": [
    "response = requests.get(url)\n",
    "html = requests.get(url).content\n",
    "html[0:10]\n",
    "\n"
   ]
  },
  {
   "cell_type": "markdown",
   "metadata": {},
   "source": [
    "## Step 2: Use BeautifulSoup to extract a list of all the unique links on the page."
   ]
  },
  {
   "cell_type": "code",
   "execution_count": 5,
   "metadata": {},
   "outputs": [],
   "source": [
    "from bs4 import BeautifulSoup"
   ]
  },
  {
   "cell_type": "code",
   "execution_count": 20,
   "metadata": {
    "scrolled": true
   },
   "outputs": [
    {
     "name": "stdout",
     "output_type": "stream",
     "text": [
      "{'/wiki/Hidden_Markov_model', '/wiki/International_Conference_on_Machine_Learning', '/wiki/Association_rule_learning', 'https://commons.wikimedia.org/wiki/Category:Data_science', '/wiki/BIRCH', '/wiki/Data_set', 'https://de.wikipedia.org/wiki/Data_Science', '/wiki/Cluster_analysis', '/wiki/Supervised_learning', '/wiki/U-Net', '/wiki/Ensemble_learning', '/wiki/Open_science', '/wiki/DeepDream', 'https://lv.wikipedia.org/wiki/Datu_m%C4%81c%C4%ABba', 'https://ja.wikipedia.org/wiki/%E3%83%87%E3%83%BC%E3%82%BF%E3%82%B5%E3%82%A4%E3%82%A8%E3%83%B3%E3%82%B9', '/wiki/Graphical_model', '/wiki/Distributed_computing', '/wiki/Buzzword', 'https://www.bbc.co.uk/programmes/b00wgq0l', '/wiki/Basic_research', 'https://web.archive.org/web/20170329172857/http://datamining.it.uts.edu.au/conferences/dsaa14/', 'https://id.wikipedia.org/wiki/Ilmu_data', '/wiki/Anand_Rajaraman', '/wiki/Jeffrey_David_Ullman', '/wiki/Machine_learning', '/w/index.php?title=Data_science&oldid=908381660', 'https://foundation.wikimedia.org/wiki/Cookie_statement', '/wiki/Data', '/wiki/Hans_Rosling', '/wiki/Special:BookSources/978-0-9825442-0-4', '/wiki/Theory', '/wiki/Generative_adversarial_network', 'https://www.springer.com/41060', 'https://fa.wikipedia.org/wiki/%D8%B9%D9%84%D9%85_%D8%AF%D8%A7%D8%AF%D9%87%E2%80%8C%D9%87%D8%A7', '/wiki/Reinforcement_learning', '/wiki/Special:MyContributions', '/wiki/Computational_science', 'http://magazine.amstat.org/blog/2016/06/01/datascience-2/', '/wiki/Paradigm', '/wiki/Decision_tree_learning', '/wiki/Statistical_classification', 'https://fr.wikipedia.org/wiki/Science_des_donn%C3%A9es', '/wiki/C.F._Jeff_Wu', '/wiki/Information_science', '/wiki/DJ_Patil', 'https://el.wikipedia.org/wiki/%CE%95%CF%80%CE%B9%CF%83%CF%84%CE%AE%CE%BC%CE%B7_%CE%B4%CE%B5%CE%B4%CE%BF%CE%BC%CE%AD%CE%BD%CF%89%CE%BD', '/wiki/National_Institutes_of_Health', '/wiki/New_York_University', 'https://www.forbes.com/sites/gilpress/2013/05/28/a-very-short-history-of-data-science/', 'http://radar.oreilly.com/2011/05/data-science-terminology.html', 'https://books.google.com/books?id=zdBXAQAAQBAJ&printsec=frontcover#v=onepage&q=%22data%20science%22&f=false', '/wiki/Occam_learning', '/wiki/Conference_on_Neural_Information_Processing_Systems', 'http://www.dsaa.co', '/wiki/Database', '/wiki/Statistics', '/wiki/NYU_Stern_Center_for_Business_and_Human_Rights', '/wiki/Category:CS1_maint:_Extra_text:_authors_list', 'https://web.archive.org/web/20131029191813/http://www.isical.ac.in/~statmath/html/pcm/pcm_recent.html', '/wiki/Independent_component_analysis', '/wiki/Jure_Leskovec', 'http://i.stanford.edu/~ullman/mmds/ch1n.pdf', 'http://www.jstage.jst.go.jp/browse/dsj/1/0/_contents', '/wiki/Multilayer_perceptron', '/wiki/Forbes', '/wiki/Bias%E2%80%93variance_dilemma', 'https://venturebeat.com/2014/04/15/ny-gets-new-bootcamp-for-data-scientists-its-free-but-harder-to-get-into-than-harvard/', 'https://wikimediafoundation.org/', '/wiki/Special:Random', '/wiki/Category:Webarchive_template_wayback_links', '/wiki/Bayesian_network', 'https://www.kdnuggets.com/2018/05/data-science-4-reasons-failing-deliver.html', 'http://fortune.com/2015/05/21/data-science-white-hot/', '/w/index.php?title=Special:ElectronPdf&page=Data+science&action=show-download-screen', '/wiki/T-distributed_stochastic_neighbor_embedding', '/wiki/Peter_Naur', '/wiki/Business_intelligence', '/wiki/Prasanta_Chandra_Mahalanobis', '/w/index.php?title=Special:Book&bookcmd=book_creator&referer=Data+science', 'https://az.wikipedia.org/wiki/Veril%C9%99nl%C9%99r_elmi_(Data_Science)', '/wiki/Data_mining', '/wiki/Semi-supervised_learning', '/wiki/Dimensionality_reduction', '/wiki/Category:Articles_with_unsourced_statements_from_April_2018', '/wiki/Nate_Silver', '/wiki/Academy', '/wiki/Statistician', '/wiki/Learning_to_rank', '/wiki/Self-organizing_map', '/wiki/Jim_Gray_(computer_scientist)', 'http://cacm.acm.org/magazines/2013/12/169933-data-science-and-prediction/fulltext', '/wiki/Special:RecentChangesLinked/Data_science', '/wiki/Gated_recurrent_unit', '/wiki/Empirical_risk_minimization', '/wiki/Glossary_of_artificial_intelligence', '/wiki/Deep_learning', '/wiki/Q-learning', '/wiki/Data_science', 'https://www.nytimes.com/2009/12/15/science/15books.html', 'https://www.mediawiki.org/', '/wiki/Multi-disciplinary', 'http://euads.org', '/wiki/Category:Computer_occupations', '/wiki/Wikipedia:File_Upload_Wizard', 'https://ru.wikipedia.org/wiki/%D0%9D%D0%B0%D1%83%D0%BA%D0%B0_%D0%BE_%D0%B4%D0%B0%D0%BD%D0%BD%D1%8B%D1%85', 'https://uk.wikipedia.org/wiki/%D0%9D%D0%B0%D1%83%D0%BA%D0%B0_%D0%BF%D1%80%D0%BE_%D0%B4%D0%B0%D0%BD%D1%96', '/wiki/PubMed_Central', 'https://he.wikipedia.org/wiki/%D7%9E%D7%93%D7%A2_%D7%94%D7%A0%D7%AA%D7%95%D7%A0%D7%99%D7%9D', '/wiki/Wikipedia:General_disclaimer', '/wiki/Perceptron', '/wiki/Feature_learning', '/wiki/Montpellier_2_University', 'http://www.jds-online.com/v1-1', '/wiki/Relevance_vector_machine', '/wiki/Statistical_theory', '/wiki/Harvard_Business_Review', 'https://ar.wikipedia.org/wiki/%D8%B9%D9%84%D9%85_%D8%A7%D9%84%D8%A8%D9%8A%D8%A7%D9%86%D8%A7%D8%AA', 'http://ur.umich.edu/9899/Nov09_98/4.htm', '/wiki/Special:RecentChanges', 'https://cs.wikipedia.org/wiki/Data_science', '/wiki/Vapnik%E2%80%93Chervonenkis_theory', '/wiki/Special:BookSources/9784431702085', 'https://blogs.wsj.com/cio/2014/05/02/why-do-we-need-data-science-when-weve-had-statistics-for-centuries/', '/wiki/Recurrent_neural_network', '/wiki/Logistic_regression', '/wiki/Grammar_induction', '/w/index.php?title=Data_science&action=edit&section=2', '/wiki/Category:Information_science', '/wiki/Canonical_correlation_analysis', '/wiki/Explanatory_model', '/wiki/International_Standard_Serial_Number', '/wiki/Social_science', '/w/index.php?title=Data_science&action=edit&section=3', 'https://www.springer.com/book/9784431702085', 'http://www.isical.ac.in/~statmath/html/pcm/pcm_recent.html', '/wiki/Mathematics', '/wiki/American_Statistical_Association', '/wiki/Help:Contents', '/wiki/Special:BookSources/0-12-241770-4', '/wiki/K-nearest_neighbors_algorithm', '/wiki/Outline_of_machine_learning', '/wiki/Category:All_articles_with_unsourced_statements', '/wiki/Empirical_research', '/wiki/Main_Page', '/wiki/PubMed_Identifier', '/w/index.php?title=Special:CiteThisPage&page=Data_science&id=908381660', '/wiki/CURE_data_clustering_algorithm', 'https://foundation.wikimedia.org/wiki/Privacy_policy', '/w/index.php?title=Data_science&action=edit', '/w/index.php?title=Special:CreateAccount&returnto=Data+science', '/wiki/Autoencoder', '/wiki/Category:Data_analysis', '/wiki/Local_outlier_factor', '/wiki/Machine_Learning_(journal)', '/wiki/Digital_object_identifier', '/wiki/Talk:Data_science', 'https://es.wikipedia.org/wiki/Ciencia_de_datos', '/wiki/Information_explosion', '/wiki/The_Wall_Street_Journal', '/wiki/Linear_discriminant_analysis', 'https://www.wikidata.org/wiki/Special:EntityPage/Q2374463', '/wiki/Applied_science', '/wiki/Wikipedia:Citation_needed', '/wiki/Computational_learning_theory', '/wiki/Linear_regression', '/wiki/Non-negative_matrix_factorization', '/wiki/Jeff_Hammerbacher', '/wiki/Template:Machine_learning_bar', '/wiki/General_Assembly_(school)', 'https://books.google.com/books?id=oGs_AQAAIAAJ', '/wiki/Special:SpecialPages', '/wiki/The_Data_Incubator', 'https://vi.wikipedia.org/wiki/Khoa_h%E1%BB%8Dc_d%E1%BB%AF_li%E1%BB%87u', 'http://www.statisticsviews.com/details/feature/5133141/Nate-Silver-What-I-need-from-statisticians.html', '/wiki/Turing_award', '/wiki/Automated_machine_learning', '/wiki/Predictive_modelling', '/wiki/Boosting_(machine_learning)', '/wiki/Support-vector_machine', 'http://simplystatistics.org/2013/12/12/the-key-word-in-data-science-is-not-data-it-is-science/', 'https://zh.wikipedia.org/wiki/%E6%95%B0%E6%8D%AE%E7%A7%91%E5%AD%A6', '/wiki/Wikipedia:Community_portal', 'https://simple.wikipedia.org/wiki/Data_science', '/wiki/List_of_datasets_for_machine-learning_research', '/wiki/Knowledge', '/wiki/Structured_prediction', '/wiki/OPTICS_algorithm', '/wiki/Portal:Featured_content', '/wiki/Expectation%E2%80%93maximization_algorithm', 'https://www.wikidata.org/wiki/Special:EntityPage/Q2374463#sitelinks-wikipedia', 'https://ta.wikipedia.org/wiki/%E0%AE%A4%E0%AE%B0%E0%AE%B5%E0%AF%81_%E0%AE%85%E0%AE%B1%E0%AE%BF%E0%AE%B5%E0%AE%BF%E0%AE%AF%E0%AE%B2%E0%AF%8D', 'https://hbr.org/2012/10/data-scientist-the-sexiest-job-of-the-21st-century/', '/wiki/Temporal_difference_learning', '/wiki/Portal:Contents', '/wiki/Online_machine_learning', '/wiki/Anomaly_detection', '/wiki/Special:WhatLinksHere/Data_science', '/wiki/File:Kernel_Machine.svg', 'https://www.nytimes.com/2011/04/03/business/03stream.html', '/wiki/Category:Computational_fields_of_study', '/wiki/Indian_Statistical_Institute', 'http://www2.isye.gatech.edu/~jeffwu/presentations/datascience.pdf', '/wiki/K-means_clustering', '/wiki/Convolutional_neural_network', '/wiki/Principal_component_analysis', '/wiki/Conditional_random_field', '/wiki/Academic_journal', 'https://web.archive.org/web/20120403153707/http://www.jstage.jst.go.jp/browse/dsj/_vols', '/wiki/University_of_Essex', '/wiki/Mean-shift', 'https://magazine.amstat.org/blog/2015/10/01/asa-statement-on-the-role-of-statistics-in-data-science/', 'https://hbr.org/2018/01/are-you-setting-your-data-scientists-up-to-fail', '/wiki/Help:Category', '/w/index.php?title=Data_science&action=history', '/wiki/Journal_of_Machine_Learning_Research', 'https://it.wikipedia.org/wiki/Scienza_dei_dati', 'https://nl.wikipedia.org/wiki/Datawetenschap', 'https://my.wikipedia.org/wiki/%E1%80%A1%E1%80%81%E1%80%BB%E1%80%80%E1%80%BA%E1%80%A1%E1%80%9C%E1%80%80%E1%80%BA%E1%80%9E%E1%80%AD%E1%80%95%E1%80%B9%E1%80%95%E1%80%B6%E1%80%95%E1%80%8A%E1%80%AC', '/wiki/Wayback_Machine', '/wiki/Regression_analysis', 'http://www.gfkl.org/welcome/', 'https://www.forbes.com/sites/gilpress/2013/08/19/data-science-whats-the-half-life-of-a-buzzword/', 'http://www.jstage.jst.go.jp/browse/dsj/_vols', 'https://hy.wikipedia.org/wiki/%D5%8F%D5%BE%D5%B5%D5%A1%D5%AC%D5%B6%D5%A5%D6%80%D5%AB_%D5%A3%D5%AB%D5%BF%D5%B8%D6%82%D5%A9%D5%B5%D5%B8%D6%82%D5%B6', '/wiki/Datalogy', '/wiki/Artificial_neural_networks', '/wiki/Statistical_learning_theory', '/wiki/State%E2%80%93action%E2%80%93reward%E2%80%93state%E2%80%93action', 'https://pdfs.semanticscholar.org/915c/d8e2b39eb02723553913d592b2237d4d9960.pdf', '/wiki/Industry', '/wiki/Unsupervised_learning', '/wiki/Computing', '/wiki/Random_forest', '/wiki/Discipline_(academia)', '/wiki/Restricted_Boltzmann_machine', '/wiki/Analytics', '/wiki/David_Donoho', 'https://www.consultancy.uk/news/16839/70-of-big-data-projects-in-uk-fail-to-realise-full-potential', '/wiki/K-nearest_neighbors_classification', '/wiki/Artificial_neural_network', '/wiki/Factor_analysis', 'http://datamining.it.uts.edu.au/conferences/dsaa14/', 'https://web.archive.org/web/20170205101231/http://magazine.amstat.org/blog/2016/06/01/datascience-2/', 'https://en.wikipedia.org/w/index.php?title=Data_science&oldid=908381660', 'https://donate.wikimedia.org/wiki/Special:FundraiserRedirector?utm_source=donate&utm_medium=sidebar&utm_campaign=C13_en.wikipedia.org&uselang=en', 'https://ca.wikipedia.org/wiki/Ci%C3%A8ncia_de_les_dades', '/wiki/Naive_Bayes_classifier', '/wiki/Thomas_H._Davenport', '/w/index.php?title=Data_science&printable=yes', '/wiki/Methodology', '/wiki/Long_short-term_memory', '/w/index.php?title=Data_science&action=edit&section=1', '/wiki/Feature_engineering', '/wiki/Interdisciplinarity', 'http://courses.csail.mit.edu/18.337/2015/docs/50YearsDataScience.pdf', 'https://pt.wikipedia.org/wiki/Ci%C3%AAncia_de_dados', '/wiki/Jeffrey_T._Leek', '/wiki/Special:MyTalk', '/wiki/Computer_science', '/wiki/Big_data', '/wiki/Portal:Current_events', '/wiki/Category:Use_dmy_dates_from_December_2012', 'https://www.mediawiki.org/wiki/Special:MyLanguage/How_to_contribute', '/wiki/University_of_Michigan', '/wiki/Health_science', 'http://www.codata.org/', '/wiki/Template_talk:Machine_learning_bar', '/wiki/Wikipedia:About', '/wiki/Software_Developer', '/wiki/Graduate_school', '/wiki/DBSCAN', 'http://analytics-magazine.org/the-data-economy-why-do-so-many-analytics-projects-fail/', '/wiki/Hierarchical_clustering', 'https://ko.wikipedia.org/wiki/%EB%8D%B0%EC%9D%B4%ED%84%B0_%EC%82%AC%EC%9D%B4%EC%96%B8%EC%8A%A4', '/wiki/Software_engineer', 'https://hi.wikipedia.org/wiki/%E0%A4%86%E0%A4%81%E0%A4%95%E0%A4%A1%E0%A4%BC%E0%A4%BE_%E0%A4%B5%E0%A4%BF%E0%A4%9C%E0%A5%8D%E0%A4%9E%E0%A4%BE%E0%A4%A8', 'https://ms.wikipedia.org/wiki/Sains_data', '/wiki/Bootstrap_aggregating', '/wiki/Business_analytics', '/wiki/International_Standard_Book_Number', 'http://www.nsf.gov/pubs/2005/nsb0540/', '/w/index.php?title=Special:UserLogin&returnto=Data+science', '/wiki/Probably_approximately_correct_learning', '/wiki/Pattern_recognition', '/w/index.php?title=Data_science&action=info', '/wiki/Academic_publishing', 'https://arxiv.org/list/cs.LG/recent'}\n"
     ]
    }
   ],
   "source": [
    "soup = BeautifulSoup(html, \"lxml\")\n",
    "\n",
    "links_brut = soup.find_all('a')\n",
    "links_brut\n",
    "\n",
    "link_href = [link.get('href') for link in links_brut]\n",
    "link_href = [link for link in link_href if link]\n",
    "\n",
    "unique_link = []\n",
    "for link in link_href:\n",
    "    if link.startswith('/w') or link.startswith('http'):\n",
    "        unique_link.append(link)\n",
    "#unique_link = [link for link in link_href if link.startswith('/')]\n",
    "print(set(unique_link))"
   ]
  },
  {
   "cell_type": "markdown",
   "metadata": {},
   "source": [
    "## Step 3: Use list comprehensions with conditions to clean the link list.\n",
    "\n",
    "There are two types of links, absolute and relative. Absolute links have the full URL and begin with http while relative links begin with a forward slash (/) and point to an internal page within the wikipedia.org domain. Clean the respective types of URLs as follows.\n",
    "\n",
    "- Absolute Links: Create a list of these and remove any that contain a percentage sign (%).\n",
    "- Relativel Links: Create a list of these, add the domain to the link so that you have the full URL, and remove any that contain a percentage sign (%).\n",
    "- Combine the list of absolute and relative links and ensure there are no duplicates."
   ]
  },
  {
   "cell_type": "code",
   "execution_count": 32,
   "metadata": {},
   "outputs": [],
   "source": [
    "domain = 'http://wikipedia.org'"
   ]
  },
  {
   "cell_type": "code",
   "execution_count": 36,
   "metadata": {},
   "outputs": [],
   "source": [
    "absolute_link = [link for link in unique_link if '%' not in link ]\n",
    "absolute_link = [link for link in absolute_link if link.startswith('http') ]\n",
    "#absolute_link"
   ]
  },
  {
   "cell_type": "code",
   "execution_count": 41,
   "metadata": {},
   "outputs": [],
   "source": [
    "relative_link = [domain + link for link in unique_link if link.startswith('/w')]\n",
    "#relative_link"
   ]
  },
  {
   "cell_type": "code",
   "execution_count": 62,
   "metadata": {},
   "outputs": [
    {
     "data": {
      "text/plain": [
       "{'http://analytics-magazine.org/the-data-economy-why-do-so-many-analytics-projects-fail/',\n",
       " 'http://cacm.acm.org/magazines/2013/12/169933-data-science-and-prediction/fulltext',\n",
       " 'http://courses.csail.mit.edu/18.337/2015/docs/50YearsDataScience.pdf',\n",
       " 'http://datamining.it.uts.edu.au/conferences/dsaa14/',\n",
       " 'http://euads.org',\n",
       " 'http://fortune.com/2015/05/21/data-science-white-hot/',\n",
       " 'http://i.stanford.edu/~ullman/mmds/ch1n.pdf',\n",
       " 'http://magazine.amstat.org/blog/2016/06/01/datascience-2/',\n",
       " 'http://radar.oreilly.com/2011/05/data-science-terminology.html',\n",
       " 'http://simplystatistics.org/2013/12/12/the-key-word-in-data-science-is-not-data-it-is-science/',\n",
       " 'http://ur.umich.edu/9899/Nov09_98/4.htm',\n",
       " 'http://wikipedia.org/w/index.php?title=Data_science&action=edit',\n",
       " 'http://wikipedia.org/w/index.php?title=Data_science&action=edit&section=1',\n",
       " 'http://wikipedia.org/w/index.php?title=Data_science&action=edit&section=2',\n",
       " 'http://wikipedia.org/w/index.php?title=Data_science&action=edit&section=3',\n",
       " 'http://wikipedia.org/w/index.php?title=Data_science&action=history',\n",
       " 'http://wikipedia.org/w/index.php?title=Data_science&action=info',\n",
       " 'http://wikipedia.org/w/index.php?title=Data_science&oldid=908381660',\n",
       " 'http://wikipedia.org/w/index.php?title=Data_science&printable=yes',\n",
       " 'http://wikipedia.org/w/index.php?title=Special:Book&bookcmd=book_creator&referer=Data+science',\n",
       " 'http://wikipedia.org/w/index.php?title=Special:CiteThisPage&page=Data_science&id=908381660',\n",
       " 'http://wikipedia.org/w/index.php?title=Special:CreateAccount&returnto=Data+science',\n",
       " 'http://wikipedia.org/w/index.php?title=Special:ElectronPdf&page=Data+science&action=show-download-screen',\n",
       " 'http://wikipedia.org/w/index.php?title=Special:UserLogin&returnto=Data+science',\n",
       " 'http://wikipedia.org/wiki/Academic_journal',\n",
       " 'http://wikipedia.org/wiki/Academic_publishing',\n",
       " 'http://wikipedia.org/wiki/Academy',\n",
       " 'http://wikipedia.org/wiki/American_Statistical_Association',\n",
       " 'http://wikipedia.org/wiki/Analytics',\n",
       " 'http://wikipedia.org/wiki/Anand_Rajaraman',\n",
       " 'http://wikipedia.org/wiki/Anomaly_detection',\n",
       " 'http://wikipedia.org/wiki/Applied_science',\n",
       " 'http://wikipedia.org/wiki/Artificial_neural_network',\n",
       " 'http://wikipedia.org/wiki/Artificial_neural_networks',\n",
       " 'http://wikipedia.org/wiki/Association_rule_learning',\n",
       " 'http://wikipedia.org/wiki/Autoencoder',\n",
       " 'http://wikipedia.org/wiki/Automated_machine_learning',\n",
       " 'http://wikipedia.org/wiki/BIRCH',\n",
       " 'http://wikipedia.org/wiki/Basic_research',\n",
       " 'http://wikipedia.org/wiki/Bayesian_network',\n",
       " 'http://wikipedia.org/wiki/Bias%E2%80%93variance_dilemma',\n",
       " 'http://wikipedia.org/wiki/Big_data',\n",
       " 'http://wikipedia.org/wiki/Boosting_(machine_learning)',\n",
       " 'http://wikipedia.org/wiki/Bootstrap_aggregating',\n",
       " 'http://wikipedia.org/wiki/Business_analytics',\n",
       " 'http://wikipedia.org/wiki/Business_intelligence',\n",
       " 'http://wikipedia.org/wiki/Buzzword',\n",
       " 'http://wikipedia.org/wiki/C.F._Jeff_Wu',\n",
       " 'http://wikipedia.org/wiki/CURE_data_clustering_algorithm',\n",
       " 'http://wikipedia.org/wiki/Canonical_correlation_analysis',\n",
       " 'http://wikipedia.org/wiki/Category:All_articles_with_unsourced_statements',\n",
       " 'http://wikipedia.org/wiki/Category:Articles_with_unsourced_statements_from_April_2018',\n",
       " 'http://wikipedia.org/wiki/Category:CS1_maint:_Extra_text:_authors_list',\n",
       " 'http://wikipedia.org/wiki/Category:Computational_fields_of_study',\n",
       " 'http://wikipedia.org/wiki/Category:Computer_occupations',\n",
       " 'http://wikipedia.org/wiki/Category:Data_analysis',\n",
       " 'http://wikipedia.org/wiki/Category:Information_science',\n",
       " 'http://wikipedia.org/wiki/Category:Use_dmy_dates_from_December_2012',\n",
       " 'http://wikipedia.org/wiki/Category:Webarchive_template_wayback_links',\n",
       " 'http://wikipedia.org/wiki/Cluster_analysis',\n",
       " 'http://wikipedia.org/wiki/Computational_learning_theory',\n",
       " 'http://wikipedia.org/wiki/Computational_science',\n",
       " 'http://wikipedia.org/wiki/Computer_science',\n",
       " 'http://wikipedia.org/wiki/Computing',\n",
       " 'http://wikipedia.org/wiki/Conditional_random_field',\n",
       " 'http://wikipedia.org/wiki/Conference_on_Neural_Information_Processing_Systems',\n",
       " 'http://wikipedia.org/wiki/Convolutional_neural_network',\n",
       " 'http://wikipedia.org/wiki/DBSCAN',\n",
       " 'http://wikipedia.org/wiki/DJ_Patil',\n",
       " 'http://wikipedia.org/wiki/Data',\n",
       " 'http://wikipedia.org/wiki/Data_mining',\n",
       " 'http://wikipedia.org/wiki/Data_science',\n",
       " 'http://wikipedia.org/wiki/Data_set',\n",
       " 'http://wikipedia.org/wiki/Database',\n",
       " 'http://wikipedia.org/wiki/Datalogy',\n",
       " 'http://wikipedia.org/wiki/David_Donoho',\n",
       " 'http://wikipedia.org/wiki/Decision_tree_learning',\n",
       " 'http://wikipedia.org/wiki/DeepDream',\n",
       " 'http://wikipedia.org/wiki/Deep_learning',\n",
       " 'http://wikipedia.org/wiki/Digital_object_identifier',\n",
       " 'http://wikipedia.org/wiki/Dimensionality_reduction',\n",
       " 'http://wikipedia.org/wiki/Discipline_(academia)',\n",
       " 'http://wikipedia.org/wiki/Distributed_computing',\n",
       " 'http://wikipedia.org/wiki/Empirical_research',\n",
       " 'http://wikipedia.org/wiki/Empirical_risk_minimization',\n",
       " 'http://wikipedia.org/wiki/Ensemble_learning',\n",
       " 'http://wikipedia.org/wiki/Expectation%E2%80%93maximization_algorithm',\n",
       " 'http://wikipedia.org/wiki/Explanatory_model',\n",
       " 'http://wikipedia.org/wiki/Factor_analysis',\n",
       " 'http://wikipedia.org/wiki/Feature_engineering',\n",
       " 'http://wikipedia.org/wiki/Feature_learning',\n",
       " 'http://wikipedia.org/wiki/File:Kernel_Machine.svg',\n",
       " 'http://wikipedia.org/wiki/Forbes',\n",
       " 'http://wikipedia.org/wiki/Gated_recurrent_unit',\n",
       " 'http://wikipedia.org/wiki/General_Assembly_(school)',\n",
       " 'http://wikipedia.org/wiki/Generative_adversarial_network',\n",
       " 'http://wikipedia.org/wiki/Glossary_of_artificial_intelligence',\n",
       " 'http://wikipedia.org/wiki/Graduate_school',\n",
       " 'http://wikipedia.org/wiki/Grammar_induction',\n",
       " 'http://wikipedia.org/wiki/Graphical_model',\n",
       " 'http://wikipedia.org/wiki/Hans_Rosling',\n",
       " 'http://wikipedia.org/wiki/Harvard_Business_Review',\n",
       " 'http://wikipedia.org/wiki/Health_science',\n",
       " 'http://wikipedia.org/wiki/Help:Category',\n",
       " 'http://wikipedia.org/wiki/Help:Contents',\n",
       " 'http://wikipedia.org/wiki/Hidden_Markov_model',\n",
       " 'http://wikipedia.org/wiki/Hierarchical_clustering',\n",
       " 'http://wikipedia.org/wiki/Independent_component_analysis',\n",
       " 'http://wikipedia.org/wiki/Indian_Statistical_Institute',\n",
       " 'http://wikipedia.org/wiki/Industry',\n",
       " 'http://wikipedia.org/wiki/Information_explosion',\n",
       " 'http://wikipedia.org/wiki/Information_science',\n",
       " 'http://wikipedia.org/wiki/Interdisciplinarity',\n",
       " 'http://wikipedia.org/wiki/International_Conference_on_Machine_Learning',\n",
       " 'http://wikipedia.org/wiki/International_Standard_Book_Number',\n",
       " 'http://wikipedia.org/wiki/International_Standard_Serial_Number',\n",
       " 'http://wikipedia.org/wiki/Jeff_Hammerbacher',\n",
       " 'http://wikipedia.org/wiki/Jeffrey_David_Ullman',\n",
       " 'http://wikipedia.org/wiki/Jeffrey_T._Leek',\n",
       " 'http://wikipedia.org/wiki/Jim_Gray_(computer_scientist)',\n",
       " 'http://wikipedia.org/wiki/Journal_of_Machine_Learning_Research',\n",
       " 'http://wikipedia.org/wiki/Jure_Leskovec',\n",
       " 'http://wikipedia.org/wiki/K-means_clustering',\n",
       " 'http://wikipedia.org/wiki/K-nearest_neighbors_algorithm',\n",
       " 'http://wikipedia.org/wiki/K-nearest_neighbors_classification',\n",
       " 'http://wikipedia.org/wiki/Knowledge',\n",
       " 'http://wikipedia.org/wiki/Learning_to_rank',\n",
       " 'http://wikipedia.org/wiki/Linear_discriminant_analysis',\n",
       " 'http://wikipedia.org/wiki/Linear_regression',\n",
       " 'http://wikipedia.org/wiki/List_of_datasets_for_machine-learning_research',\n",
       " 'http://wikipedia.org/wiki/Local_outlier_factor',\n",
       " 'http://wikipedia.org/wiki/Logistic_regression',\n",
       " 'http://wikipedia.org/wiki/Long_short-term_memory',\n",
       " 'http://wikipedia.org/wiki/Machine_Learning_(journal)',\n",
       " 'http://wikipedia.org/wiki/Machine_learning',\n",
       " 'http://wikipedia.org/wiki/Main_Page',\n",
       " 'http://wikipedia.org/wiki/Mathematics',\n",
       " 'http://wikipedia.org/wiki/Mean-shift',\n",
       " 'http://wikipedia.org/wiki/Methodology',\n",
       " 'http://wikipedia.org/wiki/Montpellier_2_University',\n",
       " 'http://wikipedia.org/wiki/Multi-disciplinary',\n",
       " 'http://wikipedia.org/wiki/Multilayer_perceptron',\n",
       " 'http://wikipedia.org/wiki/NYU_Stern_Center_for_Business_and_Human_Rights',\n",
       " 'http://wikipedia.org/wiki/Naive_Bayes_classifier',\n",
       " 'http://wikipedia.org/wiki/Nate_Silver',\n",
       " 'http://wikipedia.org/wiki/National_Institutes_of_Health',\n",
       " 'http://wikipedia.org/wiki/New_York_University',\n",
       " 'http://wikipedia.org/wiki/Non-negative_matrix_factorization',\n",
       " 'http://wikipedia.org/wiki/OPTICS_algorithm',\n",
       " 'http://wikipedia.org/wiki/Occam_learning',\n",
       " 'http://wikipedia.org/wiki/Online_machine_learning',\n",
       " 'http://wikipedia.org/wiki/Open_science',\n",
       " 'http://wikipedia.org/wiki/Outline_of_machine_learning',\n",
       " 'http://wikipedia.org/wiki/Paradigm',\n",
       " 'http://wikipedia.org/wiki/Pattern_recognition',\n",
       " 'http://wikipedia.org/wiki/Perceptron',\n",
       " 'http://wikipedia.org/wiki/Peter_Naur',\n",
       " 'http://wikipedia.org/wiki/Portal:Contents',\n",
       " 'http://wikipedia.org/wiki/Portal:Current_events',\n",
       " 'http://wikipedia.org/wiki/Portal:Featured_content',\n",
       " 'http://wikipedia.org/wiki/Prasanta_Chandra_Mahalanobis',\n",
       " 'http://wikipedia.org/wiki/Predictive_modelling',\n",
       " 'http://wikipedia.org/wiki/Principal_component_analysis',\n",
       " 'http://wikipedia.org/wiki/Probably_approximately_correct_learning',\n",
       " 'http://wikipedia.org/wiki/PubMed_Central',\n",
       " 'http://wikipedia.org/wiki/PubMed_Identifier',\n",
       " 'http://wikipedia.org/wiki/Q-learning',\n",
       " 'http://wikipedia.org/wiki/Random_forest',\n",
       " 'http://wikipedia.org/wiki/Recurrent_neural_network',\n",
       " 'http://wikipedia.org/wiki/Regression_analysis',\n",
       " 'http://wikipedia.org/wiki/Reinforcement_learning',\n",
       " 'http://wikipedia.org/wiki/Relevance_vector_machine',\n",
       " 'http://wikipedia.org/wiki/Restricted_Boltzmann_machine',\n",
       " 'http://wikipedia.org/wiki/Self-organizing_map',\n",
       " 'http://wikipedia.org/wiki/Semi-supervised_learning',\n",
       " 'http://wikipedia.org/wiki/Social_science',\n",
       " 'http://wikipedia.org/wiki/Software_Developer',\n",
       " 'http://wikipedia.org/wiki/Software_engineer',\n",
       " 'http://wikipedia.org/wiki/Special:BookSources/0-12-241770-4',\n",
       " 'http://wikipedia.org/wiki/Special:BookSources/978-0-9825442-0-4',\n",
       " 'http://wikipedia.org/wiki/Special:BookSources/9784431702085',\n",
       " 'http://wikipedia.org/wiki/Special:MyContributions',\n",
       " 'http://wikipedia.org/wiki/Special:MyTalk',\n",
       " 'http://wikipedia.org/wiki/Special:Random',\n",
       " 'http://wikipedia.org/wiki/Special:RecentChanges',\n",
       " 'http://wikipedia.org/wiki/Special:RecentChangesLinked/Data_science',\n",
       " 'http://wikipedia.org/wiki/Special:SpecialPages',\n",
       " 'http://wikipedia.org/wiki/Special:WhatLinksHere/Data_science',\n",
       " 'http://wikipedia.org/wiki/State%E2%80%93action%E2%80%93reward%E2%80%93state%E2%80%93action',\n",
       " 'http://wikipedia.org/wiki/Statistical_classification',\n",
       " 'http://wikipedia.org/wiki/Statistical_learning_theory',\n",
       " 'http://wikipedia.org/wiki/Statistical_theory',\n",
       " 'http://wikipedia.org/wiki/Statistician',\n",
       " 'http://wikipedia.org/wiki/Statistics',\n",
       " 'http://wikipedia.org/wiki/Structured_prediction',\n",
       " 'http://wikipedia.org/wiki/Supervised_learning',\n",
       " 'http://wikipedia.org/wiki/Support-vector_machine',\n",
       " 'http://wikipedia.org/wiki/T-distributed_stochastic_neighbor_embedding',\n",
       " 'http://wikipedia.org/wiki/Talk:Data_science',\n",
       " 'http://wikipedia.org/wiki/Template:Machine_learning_bar',\n",
       " 'http://wikipedia.org/wiki/Template_talk:Machine_learning_bar',\n",
       " 'http://wikipedia.org/wiki/Temporal_difference_learning',\n",
       " 'http://wikipedia.org/wiki/The_Data_Incubator',\n",
       " 'http://wikipedia.org/wiki/The_Wall_Street_Journal',\n",
       " 'http://wikipedia.org/wiki/Theory',\n",
       " 'http://wikipedia.org/wiki/Thomas_H._Davenport',\n",
       " 'http://wikipedia.org/wiki/Turing_award',\n",
       " 'http://wikipedia.org/wiki/U-Net',\n",
       " 'http://wikipedia.org/wiki/University_of_Essex',\n",
       " 'http://wikipedia.org/wiki/University_of_Michigan',\n",
       " 'http://wikipedia.org/wiki/Unsupervised_learning',\n",
       " 'http://wikipedia.org/wiki/Vapnik%E2%80%93Chervonenkis_theory',\n",
       " 'http://wikipedia.org/wiki/Wayback_Machine',\n",
       " 'http://wikipedia.org/wiki/Wikipedia:About',\n",
       " 'http://wikipedia.org/wiki/Wikipedia:Citation_needed',\n",
       " 'http://wikipedia.org/wiki/Wikipedia:Community_portal',\n",
       " 'http://wikipedia.org/wiki/Wikipedia:File_Upload_Wizard',\n",
       " 'http://wikipedia.org/wiki/Wikipedia:General_disclaimer',\n",
       " 'http://www.codata.org/',\n",
       " 'http://www.dsaa.co',\n",
       " 'http://www.gfkl.org/welcome/',\n",
       " 'http://www.isical.ac.in/~statmath/html/pcm/pcm_recent.html',\n",
       " 'http://www.jds-online.com/v1-1',\n",
       " 'http://www.jstage.jst.go.jp/browse/dsj/1/0/_contents',\n",
       " 'http://www.jstage.jst.go.jp/browse/dsj/_vols',\n",
       " 'http://www.nsf.gov/pubs/2005/nsb0540/',\n",
       " 'http://www.statisticsviews.com/details/feature/5133141/Nate-Silver-What-I-need-from-statisticians.html',\n",
       " 'http://www2.isye.gatech.edu/~jeffwu/presentations/datascience.pdf',\n",
       " 'https://arxiv.org/list/cs.LG/recent',\n",
       " 'https://blogs.wsj.com/cio/2014/05/02/why-do-we-need-data-science-when-weve-had-statistics-for-centuries/',\n",
       " 'https://books.google.com/books?id=oGs_AQAAIAAJ',\n",
       " 'https://commons.wikimedia.org/wiki/Category:Data_science',\n",
       " 'https://cs.wikipedia.org/wiki/Data_science',\n",
       " 'https://de.wikipedia.org/wiki/Data_Science',\n",
       " 'https://donate.wikimedia.org/wiki/Special:FundraiserRedirector?utm_source=donate&utm_medium=sidebar&utm_campaign=C13_en.wikipedia.org&uselang=en',\n",
       " 'https://en.wikipedia.org/w/index.php?title=Data_science&oldid=908381660',\n",
       " 'https://es.wikipedia.org/wiki/Ciencia_de_datos',\n",
       " 'https://foundation.wikimedia.org/wiki/Cookie_statement',\n",
       " 'https://foundation.wikimedia.org/wiki/Privacy_policy',\n",
       " 'https://hbr.org/2012/10/data-scientist-the-sexiest-job-of-the-21st-century/',\n",
       " 'https://hbr.org/2018/01/are-you-setting-your-data-scientists-up-to-fail',\n",
       " 'https://id.wikipedia.org/wiki/Ilmu_data',\n",
       " 'https://it.wikipedia.org/wiki/Scienza_dei_dati',\n",
       " 'https://magazine.amstat.org/blog/2015/10/01/asa-statement-on-the-role-of-statistics-in-data-science/',\n",
       " 'https://ms.wikipedia.org/wiki/Sains_data',\n",
       " 'https://nl.wikipedia.org/wiki/Datawetenschap',\n",
       " 'https://pdfs.semanticscholar.org/915c/d8e2b39eb02723553913d592b2237d4d9960.pdf',\n",
       " 'https://simple.wikipedia.org/wiki/Data_science',\n",
       " 'https://venturebeat.com/2014/04/15/ny-gets-new-bootcamp-for-data-scientists-its-free-but-harder-to-get-into-than-harvard/',\n",
       " 'https://web.archive.org/web/20120403153707/http://www.jstage.jst.go.jp/browse/dsj/_vols',\n",
       " 'https://web.archive.org/web/20131029191813/http://www.isical.ac.in/~statmath/html/pcm/pcm_recent.html',\n",
       " 'https://web.archive.org/web/20170205101231/http://magazine.amstat.org/blog/2016/06/01/datascience-2/',\n",
       " 'https://web.archive.org/web/20170329172857/http://datamining.it.uts.edu.au/conferences/dsaa14/',\n",
       " 'https://wikimediafoundation.org/',\n",
       " 'https://www.bbc.co.uk/programmes/b00wgq0l',\n",
       " 'https://www.consultancy.uk/news/16839/70-of-big-data-projects-in-uk-fail-to-realise-full-potential',\n",
       " 'https://www.forbes.com/sites/gilpress/2013/05/28/a-very-short-history-of-data-science/',\n",
       " 'https://www.forbes.com/sites/gilpress/2013/08/19/data-science-whats-the-half-life-of-a-buzzword/',\n",
       " 'https://www.kdnuggets.com/2018/05/data-science-4-reasons-failing-deliver.html',\n",
       " 'https://www.mediawiki.org/',\n",
       " 'https://www.mediawiki.org/wiki/Special:MyLanguage/How_to_contribute',\n",
       " 'https://www.nytimes.com/2009/12/15/science/15books.html',\n",
       " 'https://www.nytimes.com/2011/04/03/business/03stream.html',\n",
       " 'https://www.springer.com/41060',\n",
       " 'https://www.springer.com/book/9784431702085',\n",
       " 'https://www.wikidata.org/wiki/Special:EntityPage/Q2374463',\n",
       " 'https://www.wikidata.org/wiki/Special:EntityPage/Q2374463#sitelinks-wikipedia'}"
      ]
     },
     "execution_count": 62,
     "metadata": {},
     "output_type": "execute_result"
    }
   ],
   "source": [
    "combine_link = set(absolute_link+relative_link)\n",
    "combine_link "
   ]
  },
  {
   "cell_type": "markdown",
   "metadata": {},
   "source": [
    "## Step 4: Use the os library to create a folder called *wikipedia* and make that the current working directory."
   ]
  },
  {
   "cell_type": "code",
   "execution_count": 44,
   "metadata": {},
   "outputs": [],
   "source": [
    "import os"
   ]
  },
  {
   "cell_type": "code",
   "execution_count": 58,
   "metadata": {},
   "outputs": [],
   "source": [
    "path_parent = os.getcwd()"
   ]
  },
  {
   "cell_type": "code",
   "execution_count": 59,
   "metadata": {},
   "outputs": [],
   "source": [
    "# Directory \n",
    "directory = \"wikipedia\"\n",
    "  \n",
    "# Path \n",
    "path = os.path.join(path_parent, directory)\n",
    "\n",
    "os.mkdir(path)"
   ]
  },
  {
   "cell_type": "markdown",
   "metadata": {},
   "source": [
    "## Step 5: Write a function called index_page that accepts a link and does the following.\n",
    "\n",
    "- Tries to request the content of the page referenced by that link.\n",
    "- Slugifies the filename using the `slugify` function from the [python-slugify](https://pypi.org/project/python-slugify/) library and adds a .html file extension.\n",
    "    - If you don't already have the python-slugify library installed, you can pip install it as follows: `$ pip install python-slugify`.\n",
    "    - To import the slugify function, you would do the following: `from slugify import slugify`.\n",
    "    - You can then slugify a link as follows `slugify(link)`.\n",
    "- Creates a file in the wikipedia folder using the slugified filename and writes the contents of the page to the file.\n",
    "- If an exception occurs during the process above, just `pass`."
   ]
  },
  {
   "cell_type": "code",
   "execution_count": 89,
   "metadata": {},
   "outputs": [],
   "source": [
    "from slugify import slugify"
   ]
  },
  {
   "cell_type": "code",
   "execution_count": 117,
   "metadata": {},
   "outputs": [],
   "source": [
    "def index_page(liste):\n",
    "    for link in liste:\n",
    "        try:\n",
    "            html = requests.get(link).text\n",
    "            f = open(os.path.join(path, slugify(link)+'.html'), \"w\")\n",
    "            f.write(html)\n",
    "            f.close()\n",
    "        except:\n",
    "            pass"
   ]
  },
  {
   "cell_type": "code",
   "execution_count": 92,
   "metadata": {},
   "outputs": [],
   "source": [
    "#boucle d'entrainement\n",
    "for link in combine_link:\n",
    "    try:\n",
    "        html = requests.get(link).text\n",
    "        f = open(os.path.join(path, slugify(link)+'.html'), \"w\")\n",
    "        f.write(html)\n",
    "        f.close()\n",
    "    except:\n",
    "        pass \n",
    "        \n",
    "    "
   ]
  },
  {
   "cell_type": "markdown",
   "metadata": {},
   "source": [
    "## Step 6: Sequentially loop through the list of links, running the index_page function each time.\n",
    "\n",
    "Remember to include `%%time` at the beginning of the cell so that it measures the time it takes for the cell to run."
   ]
  },
  {
   "cell_type": "code",
   "execution_count": 115,
   "metadata": {},
   "outputs": [
    {
     "name": "stdout",
     "output_type": "stream",
     "text": [
      "CPU times: user 24 s, sys: 2.03 s, total: 26 s\n",
      "Wall time: 2min 1s\n"
     ]
    }
   ],
   "source": [
    "%%time\n",
    "index_page(combine_link)"
   ]
  },
  {
   "cell_type": "markdown",
   "metadata": {},
   "source": [
    "## Step 7: Perform the page indexing in parallel and note the difference in performance.\n",
    "\n",
    "Remember to include `%%time` at the beginning of the cell so that it measures the time it takes for the cell to run."
   ]
  },
  {
   "cell_type": "code",
   "execution_count": 99,
   "metadata": {},
   "outputs": [],
   "source": [
    "import multiprocessing"
   ]
  },
  {
   "cell_type": "code",
   "execution_count": 118,
   "metadata": {},
   "outputs": [
    {
     "name": "stdout",
     "output_type": "stream",
     "text": [
      "CPU times: user 14.5 ms, sys: 25.7 ms, total: 40.2 ms\n",
      "Wall time: 1.08 s\n"
     ]
    }
   ],
   "source": [
    "%%time\n",
    "pool = multiprocessing.Pool()\n",
    "result = pool.map(index_page, combine_link)"
   ]
  },
  {
   "cell_type": "code",
   "execution_count": null,
   "metadata": {},
   "outputs": [],
   "source": []
  }
 ],
 "metadata": {
  "kernelspec": {
   "display_name": "Python 3",
   "language": "python",
   "name": "python3"
  },
  "language_info": {
   "codemirror_mode": {
    "name": "ipython",
    "version": 3
   },
   "file_extension": ".py",
   "mimetype": "text/x-python",
   "name": "python",
   "nbconvert_exporter": "python",
   "pygments_lexer": "ipython3",
   "version": "3.7.3"
  }
 },
 "nbformat": 4,
 "nbformat_minor": 2
}
