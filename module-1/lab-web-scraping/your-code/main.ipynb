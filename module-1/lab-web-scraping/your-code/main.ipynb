{
 "cells": [
  {
   "cell_type": "markdown",
   "metadata": {},
   "source": [
    "# Web Scraping Lab\n",
    "\n",
    "You will find in this notebook some scrapy exercises to practise your scraping skills.\n",
    "\n",
    "**Tips:**\n",
    "\n",
    "- Check the response status code for each request to ensure you have obtained the intended contennt.\n",
    "- Print the response text in each request to understand the kind of info you are getting and its format.\n",
    "- Check for patterns in the response text to extract the data/info requested in each question.\n",
    "- Visit each url and take a look at its source through Chrome DevTools. You'll need to identify the html tags, special class names etc. used for the html content you are expected to extract."
   ]
  },
  {
   "cell_type": "markdown",
   "metadata": {},
   "source": [
    "- [Requests library](http://docs.python-requests.org/en/master/#the-user-guide) documentation \n",
    "- [Beautiful Soup Doc](https://www.crummy.com/software/BeautifulSoup/bs4/doc/)\n",
    "- [Urllib](https://docs.python.org/3/library/urllib.html#module-urllib)\n",
    "- [re lib](https://docs.python.org/3/library/re.html)\n",
    "- [lxml lib](https://lxml.de/)\n",
    "- [Scrapy](https://scrapy.org/)\n",
    "- [List of HTTP status codes](https://en.wikipedia.org/wiki/List_of_HTTP_status_codes)\n",
    "- [HTML basics](http://www.simplehtmlguide.com/cheatsheet.php)\n",
    "- [CSS basics](https://www.cssbasics.com/#page_start)"
   ]
  },
  {
   "cell_type": "markdown",
   "metadata": {},
   "source": [
    "#### Below are the libraries and modules you may need. `requests`,  `BeautifulSoup` and `pandas` are imported for you. If you prefer to use additional libraries feel free to uncomment them."
   ]
  },
  {
   "cell_type": "code",
   "execution_count": 203,
   "metadata": {},
   "outputs": [],
   "source": [
    "import requests\n",
    "from bs4 import BeautifulSoup\n",
    "import pandas as pd\n",
    "# from pprint import pprint\n",
    "# from lxml import html\n",
    "# from lxml.html import fromstring\n",
    "# import urllib.request\n",
    "# from urllib.request import urlopen\n",
    "# import random\n",
    "import re\n",
    "# import scrapy"
   ]
  },
  {
   "cell_type": "markdown",
   "metadata": {},
   "source": [
    "#### Download, parse (using BeautifulSoup), and print the content from the Trending Developers page from GitHub:"
   ]
  },
  {
   "cell_type": "code",
   "execution_count": 4,
   "metadata": {},
   "outputs": [],
   "source": [
    "# This is the url you will scrape in this exercise\n",
    "url = 'https://github.com/trending/developers'"
   ]
  },
  {
   "cell_type": "code",
   "execution_count": 55,
   "metadata": {},
   "outputs": [
    {
     "data": {
      "text/plain": [
       "b'\\n\\n\\n\\n\\n\\n<!DOCTYPE html>\\n<html lang=\"en\">\\n  <head>\\n    <meta charset=\"utf-8\">\\n  <link rel=\"dns-prefetch\" href=\"https://github.githubassets.com\">\\n  <link rel=\"dns-prefetch\" href=\"https://avatars0.githubusercontent.com\">\\n  <link rel=\"dns-prefetch\" href=\"https://avatars1.githubusercontent.com\">\\n  <link rel=\"dns-prefetch\" href=\"https://avatars2.githubusercontent.com\">\\n  <link rel=\"dns-prefetch\" href=\"https://avatars3.githubusercontent.com\">\\n  <link rel=\"dns-prefetch\" href=\"https://github-cloud.s3.amazonaws.com\">\\n  <link rel=\"dns-prefetch\" href=\"https://user-images.githubusercontent.com/\">\\n\\n\\n\\n  <link '"
      ]
     },
     "execution_count": 55,
     "metadata": {},
     "output_type": "execute_result"
    }
   ],
   "source": [
    "#your code\n",
    "headers = {'Authorization':'token token'}\n",
    "response = requests.get(url, headers=headers)\n",
    "html = requests.get(url).content\n",
    "html[0:600]"
   ]
  },
  {
   "cell_type": "code",
   "execution_count": 56,
   "metadata": {},
   "outputs": [],
   "source": [
    "soup = BeautifulSoup(html, \"lxml\")\n",
    "#soup"
   ]
  },
  {
   "cell_type": "markdown",
   "metadata": {},
   "source": [
    "#### Display the names of the trending developers retrieved in the previous step.\n",
    "\n",
    "Your output should be a Python list of developer names. Each name should not contain any html tag.\n",
    "\n",
    "**Instructions:**\n",
    "\n",
    "1. Find out the html tag and class names used for the developer names. You can achieve this using Chrome DevTools.\n",
    "\n",
    "1. Use BeautifulSoup to extract all the html elements that contain the developer names.\n",
    "\n",
    "1. Use string manipulation techniques to replace whitespaces and linebreaks (i.e. `\\n`) in the *text* of each html element. Use a list to store the clean names.\n",
    "\n",
    "1. Print the list of names.\n",
    "\n",
    "Your output should look like below:\n",
    "\n",
    "```\n",
    "['trimstray (@trimstray)',\n",
    " 'joewalnes (JoeWalnes)',\n",
    " 'charlax (Charles-AxelDein)',\n",
    " 'ForrestKnight (ForrestKnight)',\n",
    " 'revery-ui (revery-ui)',\n",
    " 'alibaba (Alibaba)',\n",
    " 'Microsoft (Microsoft)',\n",
    " 'github (GitHub)',\n",
    " 'facebook (Facebook)',\n",
    " 'boazsegev (Bo)',\n",
    " 'google (Google)',\n",
    " 'cloudfetch',\n",
    " 'sindresorhus (SindreSorhus)',\n",
    " 'tensorflow',\n",
    " 'apache (TheApacheSoftwareFoundation)',\n",
    " 'DevonCrawford (DevonCrawford)',\n",
    " 'ARMmbed (ArmMbed)',\n",
    " 'vuejs (vuejs)',\n",
    " 'fastai (fast.ai)',\n",
    " 'QiShaoXuan (Qi)',\n",
    " 'joelparkerhenderson (JoelParkerHenderson)',\n",
    " 'torvalds (LinusTorvalds)',\n",
    " 'CyC2018',\n",
    " 'komeiji-satori (神楽坂覚々)',\n",
    " 'script-8']\n",
    " ```"
   ]
  },
  {
   "cell_type": "code",
   "execution_count": 134,
   "metadata": {},
   "outputs": [],
   "source": [
    "names = soup.find_all('h1',{'class': 'h3 lh-condensed'})\n",
    "name=[h1.find('a').text for h1 in names]"
   ]
  },
  {
   "cell_type": "code",
   "execution_count": 135,
   "metadata": {},
   "outputs": [],
   "source": [
    "users = soup.find_all('p', {'class:', 'f4 text-normal mb-1'})\n",
    "user=[p.find('a').text for p in users]"
   ]
  },
  {
   "cell_type": "code",
   "execution_count": 139,
   "metadata": {},
   "outputs": [
    {
     "data": {
      "text/plain": [
       "['Kenneth Reitz (kennethreitz)',\n",
       " 'Marco Pivetta (Ocramius)',\n",
       " 'Frank Denis (jedisct1)',\n",
       " 'Vadim Demedes (vadimdemedes)',\n",
       " 'Burak Yigit Kaya (BYK)',\n",
       " 'Norman Maurer (normanmaurer)',\n",
       " 'Francois Zaninotto (fzaninotto)',\n",
       " 'Manu MA (manucorporat)',\n",
       " 'Michał Lytek (19majkel94)',\n",
       " 'Federico Zivolo (FezVrasta)',\n",
       " 'David Anthoff (davidanthoff)',\n",
       " 'Alex Gaynor (alex)',\n",
       " 'Steven Kirk (grokys)',\n",
       " 'Mihai Maruseac (mihaimaruseac)',\n",
       " 'Jason Quense (jquense)',\n",
       " 'Brent Jackson (jxnblk)',\n",
       " '吴晟 Wu Sheng (wu-sheng)',\n",
       " '子骅 (luin)',\n",
       " 'Thomas Wolf (thomwolf)',\n",
       " 'Uri Goldshtein (Urigo)',\n",
       " 'Ivan Popelyshev (ivanpopelyshev)',\n",
       " 'Vinta Chen (vinta)',\n",
       " 'Pascal Vizeli (pvizeli)',\n",
       " 'Jens Segers (jenssegers)',\n",
       " 'Vsevolod Tolstopyatov (qwwdfsad)']"
      ]
     },
     "execution_count": 139,
     "metadata": {},
     "output_type": "execute_result"
    }
   ],
   "source": [
    "z = list(zip(name, user))\n",
    "z\n",
    "\n",
    "output = [x[0] + ' ('+ x[1]+ ')' for x in z]\n",
    "output"
   ]
  },
  {
   "cell_type": "markdown",
   "metadata": {},
   "source": [
    "#### Display the trending Python repositories in GitHub\n",
    "\n",
    "The steps to solve this problem is similar to the previous one except that you need to find out the repository names instead of developer names."
   ]
  },
  {
   "cell_type": "code",
   "execution_count": 140,
   "metadata": {},
   "outputs": [],
   "source": [
    "# This is the url you will scrape in this exercise\n",
    "url = 'https://github.com/trending/python?since=daily'"
   ]
  },
  {
   "cell_type": "code",
   "execution_count": 144,
   "metadata": {},
   "outputs": [],
   "source": [
    "#your code\n",
    "headers = {'Authorization':'token token'}\n",
    "response = requests.get(url, headers=headers)\n",
    "html = requests.get(url).content\n",
    "soup = BeautifulSoup(html, \"lxml\")\n",
    "#soup"
   ]
  },
  {
   "cell_type": "code",
   "execution_count": 163,
   "metadata": {},
   "outputs": [
    {
     "data": {
      "text/plain": [
       "['\\n\\n0voice / interview_internal_reference\\n',\n",
       " '\\n\\nzllrunning / video-object-removal\\n',\n",
       " '\\n\\nhuggingface / pytorch-transformers\\n',\n",
       " '\\n\\nNVIDIA / DeepLearningExamples\\n',\n",
       " '\\n\\nvipstone / faceai\\n',\n",
       " '\\n\\nfoolwood / SiamMask\\n',\n",
       " '\\n\\nhome-assistant / home-assistant\\n',\n",
       " '\\n\\nmicrosoft / nni\\n',\n",
       " '\\n\\nwistbean / learn_python3_spider\\n',\n",
       " '\\n\\nTencent / NeuralNLP-NeuralClassifier\\n',\n",
       " '\\n\\nopenai / gym\\n',\n",
       " '\\n\\ncchen156 / Learning-to-See-in-the-Dark\\n',\n",
       " '\\n\\ndanaugrs / huskarl\\n',\n",
       " '\\n\\nvincent-thevenin / Realistic-Neural-Talking-Head-Models\\n',\n",
       " '\\n\\nPaddlePaddle / models\\n',\n",
       " '\\n\\nopenatx / uiautomator2\\n',\n",
       " '\\n\\nthtrieu / darkflow\\n',\n",
       " '\\n\\nchinese-poetry / chinese-poetry\\n',\n",
       " '\\n\\nAzure / azure-sdk-for-python\\n',\n",
       " '\\n\\nidealo / image-super-resolution\\n',\n",
       " '\\n\\nawslabs / gluon-ts\\n',\n",
       " '\\n\\nRayhane-mamah / Tacotron-2\\n',\n",
       " '\\n\\ngogcom / galaxy-integrations-python-api\\n',\n",
       " '\\n\\nsergiomsilva / alpr-unconstrained\\n',\n",
       " '\\n\\nmlflow / mlflow\\n']"
      ]
     },
     "execution_count": 163,
     "metadata": {},
     "output_type": "execute_result"
    }
   ],
   "source": [
    "repos = soup.find_all('h1',{'class': 'h3 lh-condensed'})\n",
    "repos\n",
    "repo=[h1.find('a').text for h1 in repos]\n",
    "repo"
   ]
  },
  {
   "cell_type": "code",
   "execution_count": 164,
   "metadata": {},
   "outputs": [
    {
     "data": {
      "text/plain": [
       "list"
      ]
     },
     "execution_count": 164,
     "metadata": {},
     "output_type": "execute_result"
    }
   ],
   "source": [
    "type(repo)"
   ]
  },
  {
   "cell_type": "code",
   "execution_count": 172,
   "metadata": {},
   "outputs": [
    {
     "data": {
      "text/plain": [
       "['0voice / interview_internal_reference',\n",
       " 'zllrunning / video-object-removal',\n",
       " 'huggingface / pytorch-transformers',\n",
       " 'NVIDIA / DeepLearningExamples',\n",
       " 'vipstone / faceai',\n",
       " 'foolwood / SiamMask',\n",
       " 'home-assistant / home-assistant',\n",
       " 'microsoft / nni',\n",
       " 'wistbean / learn_python3_spider',\n",
       " 'Tencent / NeuralNLP-NeuralClassifier',\n",
       " 'openai / gym',\n",
       " 'cchen156 / Learning-to-See-in-the-Dark',\n",
       " 'danaugrs / huskarl',\n",
       " 'vincent-thevenin / Realistic-Neural-Talking-Head-Models',\n",
       " 'PaddlePaddle / models',\n",
       " 'openatx / uiautomator2',\n",
       " 'thtrieu / darkflow',\n",
       " 'chinese-poetry / chinese-poetry',\n",
       " 'Azure / azure-sdk-for-python',\n",
       " 'idealo / image-super-resolution',\n",
       " 'awslabs / gluon-ts',\n",
       " 'Rayhane-mamah / Tacotron-2',\n",
       " 'gogcom / galaxy-integrations-python-api',\n",
       " 'sergiomsilva / alpr-unconstrained',\n",
       " 'mlflow / mlflow']"
      ]
     },
     "execution_count": 172,
     "metadata": {},
     "output_type": "execute_result"
    }
   ],
   "source": [
    "repo_propre = []\n",
    "for r in repo:\n",
    "    r = r.replace(\"\\n\\n\", \"\")\n",
    "    r = r.replace(\"\\n\", \"\")\n",
    "    #print(r)\n",
    "    repo_propre.append(r)\n",
    "\n",
    "repo_propre"
   ]
  },
  {
   "cell_type": "markdown",
   "metadata": {},
   "source": [
    "#### Display all the image links from Walt Disney wikipedia page"
   ]
  },
  {
   "cell_type": "code",
   "execution_count": 188,
   "metadata": {},
   "outputs": [],
   "source": [
    "# This is the url you will scrape in this exercise\n",
    "url = 'https://en.wikipedia.org/wiki/Walt_Disney'"
   ]
  },
  {
   "cell_type": "code",
   "execution_count": 189,
   "metadata": {},
   "outputs": [],
   "source": [
    "#your code\n",
    "response = requests.get(url)\n",
    "html = requests.get(url).content\n",
    "soup = BeautifulSoup(html, \"lxml\")\n",
    "#soup"
   ]
  },
  {
   "cell_type": "code",
   "execution_count": 190,
   "metadata": {},
   "outputs": [
    {
     "data": {
      "text/plain": [
       "['//upload.wikimedia.org/wikipedia/en/thumb/e/e7/Cscr-featured.svg/20px-Cscr-featured.svg.png',\n",
       " '//upload.wikimedia.org/wikipedia/en/thumb/1/1b/Semi-protection-shackle.svg/20px-Semi-protection-shackle.svg.png',\n",
       " '//upload.wikimedia.org/wikipedia/commons/thumb/d/df/Walt_Disney_1946.JPG/220px-Walt_Disney_1946.JPG',\n",
       " '//upload.wikimedia.org/wikipedia/commons/thumb/8/87/Walt_Disney_1942_signature.svg/150px-Walt_Disney_1942_signature.svg.png',\n",
       " '//upload.wikimedia.org/wikipedia/commons/thumb/c/c4/Walt_Disney_envelope_ca._1921.jpg/220px-Walt_Disney_envelope_ca._1921.jpg',\n",
       " '//upload.wikimedia.org/wikipedia/commons/thumb/4/4d/Newman_Laugh-O-Gram_%281921%29.webm/220px-seek%3D2-Newman_Laugh-O-Gram_%281921%29.webm.jpg',\n",
       " '//upload.wikimedia.org/wikipedia/commons/thumb/0/0d/Trolley_Troubles_poster.jpg/170px-Trolley_Troubles_poster.jpg',\n",
       " '//upload.wikimedia.org/wikipedia/commons/thumb/7/71/Walt_Disney_and_his_cartoon_creation_%22Mickey_Mouse%22_-_National_Board_of_Review_Magazine.jpg/170px-Walt_Disney_and_his_cartoon_creation_%22Mickey_Mouse%22_-_National_Board_of_Review_Magazine.jpg',\n",
       " '//upload.wikimedia.org/wikipedia/en/thumb/4/4e/Steamboat-willie.jpg/170px-Steamboat-willie.jpg',\n",
       " '//upload.wikimedia.org/wikipedia/commons/thumb/5/57/Walt_Disney_1935.jpg/170px-Walt_Disney_1935.jpg',\n",
       " '//upload.wikimedia.org/wikipedia/commons/thumb/c/cd/Walt_Disney_Snow_white_1937_trailer_screenshot_%2813%29.jpg/220px-Walt_Disney_Snow_white_1937_trailer_screenshot_%2813%29.jpg',\n",
       " '//upload.wikimedia.org/wikipedia/commons/thumb/1/15/Disney_drawing_goofy.jpg/170px-Disney_drawing_goofy.jpg',\n",
       " '//upload.wikimedia.org/wikipedia/commons/thumb/1/13/DisneySchiphol1951.jpg/220px-DisneySchiphol1951.jpg',\n",
       " '//upload.wikimedia.org/wikipedia/commons/thumb/8/8c/WaltDisneyplansDisneylandDec1954.jpg/220px-WaltDisneyplansDisneylandDec1954.jpg',\n",
       " '//upload.wikimedia.org/wikipedia/commons/thumb/f/ff/Walt_disney_portrait_right.jpg/170px-Walt_disney_portrait_right.jpg',\n",
       " '//upload.wikimedia.org/wikipedia/commons/thumb/1/1a/Walt_Disney_Grave.JPG/170px-Walt_Disney_Grave.JPG',\n",
       " '//upload.wikimedia.org/wikipedia/commons/thumb/2/2d/Roy_O._Disney_with_Company_at_Press_Conference.jpg/170px-Roy_O._Disney_with_Company_at_Press_Conference.jpg',\n",
       " '//upload.wikimedia.org/wikipedia/commons/thumb/a/a9/Disney_Display_Case.JPG/170px-Disney_Display_Case.JPG',\n",
       " '//upload.wikimedia.org/wikipedia/commons/thumb/6/6c/Disney1968.jpg/170px-Disney1968.jpg',\n",
       " '//upload.wikimedia.org/wikipedia/en/thumb/8/8a/OOjs_UI_icon_edit-ltr-progressive.svg/10px-OOjs_UI_icon_edit-ltr-progressive.svg.png',\n",
       " '//upload.wikimedia.org/wikipedia/commons/thumb/d/da/Animation_disc.svg/30px-Animation_disc.svg.png',\n",
       " '//upload.wikimedia.org/wikipedia/en/thumb/6/69/P_vip.svg/29px-P_vip.svg.png',\n",
       " '//upload.wikimedia.org/wikipedia/commons/thumb/1/1a/Magic_Kingdom_castle.jpg/24px-Magic_Kingdom_castle.jpg',\n",
       " '//upload.wikimedia.org/wikipedia/en/thumb/e/e7/Video-x-generic.svg/30px-Video-x-generic.svg.png',\n",
       " '//upload.wikimedia.org/wikipedia/commons/thumb/a/a3/Flag_of_Los_Angeles_County%2C_California.svg/30px-Flag_of_Los_Angeles_County%2C_California.svg.png',\n",
       " '//upload.wikimedia.org/wikipedia/commons/thumb/a/a3/USA_flag_on_television.svg/30px-USA_flag_on_television.svg.png',\n",
       " '//upload.wikimedia.org/wikipedia/en/thumb/4/4a/Commons-logo.svg/22px-Commons-logo.svg.png',\n",
       " '//upload.wikimedia.org/wikipedia/commons/thumb/f/fa/Wikiquote-logo.svg/25px-Wikiquote-logo.svg.png',\n",
       " '//upload.wikimedia.org/wikipedia/commons/thumb/f/ff/Wikidata-logo.svg/30px-Wikidata-logo.svg.png',\n",
       " '//upload.wikimedia.org/wikipedia/en/thumb/8/8a/OOjs_UI_icon_edit-ltr-progressive.svg/10px-OOjs_UI_icon_edit-ltr-progressive.svg.png',\n",
       " '//en.wikipedia.org/wiki/Special:CentralAutoLogin/start?type=1x1',\n",
       " '/static/images/wikimedia-button.png',\n",
       " '/static/images/poweredby_mediawiki_88x31.png']"
      ]
     },
     "execution_count": 190,
     "metadata": {},
     "output_type": "execute_result"
    }
   ],
   "source": [
    "img = soup.find_all('img')\n",
    "img\n",
    "\n",
    "[i.get('src') for i in img]\n"
   ]
  },
  {
   "cell_type": "markdown",
   "metadata": {},
   "source": [
    "#### Retrieve an arbitary Wikipedia page of \"Python\" and create a list of links on that page"
   ]
  },
  {
   "cell_type": "code",
   "execution_count": 195,
   "metadata": {},
   "outputs": [],
   "source": [
    "# This is the url you will scrape in this exercise\n",
    "url ='https://en.wikipedia.org/wiki/Python' "
   ]
  },
  {
   "cell_type": "code",
   "execution_count": 196,
   "metadata": {},
   "outputs": [],
   "source": [
    "#your code\n",
    "response = requests.get(url)\n",
    "html = requests.get(url).content\n",
    "soup = BeautifulSoup(html, \"lxml\")\n",
    "#soup"
   ]
  },
  {
   "cell_type": "code",
   "execution_count": 492,
   "metadata": {},
   "outputs": [],
   "source": [
    "links = soup.find_all('a')\n",
    "links\n",
    "\n",
    "liste =  []\n",
    "for l in links:\n",
    "    if l.get('href') and l.get('title'):\n",
    "        liste.append(l.get('href'))\n",
    "\n",
    "#print(liste)"
   ]
  },
  {
   "cell_type": "markdown",
   "metadata": {},
   "source": [
    "#### Number of Titles that have changed in the United States Code since its last release point "
   ]
  },
  {
   "cell_type": "code",
   "execution_count": 494,
   "metadata": {},
   "outputs": [],
   "source": [
    "# This is the url you will scrape in this exercise\n",
    "url = 'http://uscode.house.gov/download/download.shtml'"
   ]
  },
  {
   "cell_type": "code",
   "execution_count": 497,
   "metadata": {},
   "outputs": [],
   "source": [
    "#your code\n",
    "response = requests.get(url)\n",
    "html = requests.get(url).content\n",
    "soup = BeautifulSoup(html, \"lxml\")\n",
    "#soup"
   ]
  },
  {
   "cell_type": "code",
   "execution_count": 503,
   "metadata": {},
   "outputs": [
    {
     "data": {
      "text/plain": [
       "15"
      ]
     },
     "execution_count": 503,
     "metadata": {},
     "output_type": "execute_result"
    }
   ],
   "source": [
    "titles = soup.find_all('div', {'class':'usctitlechanged'})\n",
    "titles\n",
    "\n",
    "liste_title = [title.text for title in titles]\n",
    "liste_title\n",
    "len(liste_title)"
   ]
  },
  {
   "cell_type": "markdown",
   "metadata": {},
   "source": [
    "#### A Python list with the top ten FBI's Most Wanted names "
   ]
  },
  {
   "cell_type": "code",
   "execution_count": 504,
   "metadata": {},
   "outputs": [],
   "source": [
    "# This is the url you will scrape in this exercise\n",
    "url = 'https://www.fbi.gov/wanted/topten'"
   ]
  },
  {
   "cell_type": "code",
   "execution_count": 505,
   "metadata": {},
   "outputs": [],
   "source": [
    "#your code \n",
    "response = requests.get(url)\n",
    "html = requests.get(url).content\n",
    "soup = BeautifulSoup(html, \"lxml\")\n",
    "#soup"
   ]
  },
  {
   "cell_type": "code",
   "execution_count": 509,
   "metadata": {},
   "outputs": [
    {
     "name": "stdout",
     "output_type": "stream",
     "text": [
      "['ARNOLDO JIMENEZ', 'ALEJANDRO ROSALES CASTILLO', 'YASER ABDEL SAID', 'JASON DEREK BROWN', 'RAFAEL CARO-QUINTERO', 'ALEXIS FLORES', 'EUGENE PALMER', 'SANTIAGO VILLALBA MEDEROS', 'ROBERT WILLIAM FISHER', 'BHADRESHKUMAR CHETANBHAI PATEL']\n"
     ]
    }
   ],
   "source": [
    "find_names = soup.find_all('h3', {'class':'title'})\n",
    "find_names\n",
    "\n",
    "names = [name.text for name in find_names]\n",
    "names\n",
    "\n",
    "liste_names = []\n",
    "for name in names:\n",
    "    n = name.replace(\"\\n\", \"\")\n",
    "    liste_names.append(n)\n",
    "print(liste_names)    "
   ]
  },
  {
   "cell_type": "markdown",
   "metadata": {},
   "source": [
    "####  20 latest earthquakes info (date, time, latitude, longitude and region name) by the EMSC as a pandas dataframe"
   ]
  },
  {
   "cell_type": "code",
   "execution_count": 394,
   "metadata": {},
   "outputs": [],
   "source": [
    "# This is the url you will scrape in this exercise\n",
    "url = 'https://www.emsc-csem.org/Earthquake/'"
   ]
  },
  {
   "cell_type": "code",
   "execution_count": 395,
   "metadata": {},
   "outputs": [],
   "source": [
    "#your code\n",
    "response = requests.get(url)\n",
    "html = requests.get(url).content\n",
    "soup = BeautifulSoup(html, \"lxml\")\n",
    "#soup"
   ]
  },
  {
   "cell_type": "code",
   "execution_count": 396,
   "metadata": {},
   "outputs": [],
   "source": [
    "tableau = soup.find_all('table')[3]\n",
    "#tableau\n",
    "#type(tableau)"
   ]
  },
  {
   "cell_type": "code",
   "execution_count": 468,
   "metadata": {},
   "outputs": [
    {
     "data": {
      "text/plain": [
       "(50, 13)"
      ]
     },
     "execution_count": 468,
     "metadata": {},
     "output_type": "execute_result"
    }
   ],
   "source": [
    "rows = tableau.find('tbody').find_all('tr')\n",
    "rows = [[td.text for td in row.contents] for row in rows]\n",
    "rows\n",
    "#print(rows)\n",
    "#type(rows)\n",
    "df_row = pd.DataFrame(rows)\n",
    "df_row.shape"
   ]
  },
  {
   "cell_type": "code",
   "execution_count": 469,
   "metadata": {},
   "outputs": [
    {
     "data": {
      "text/html": [
       "<div>\n",
       "<style scoped>\n",
       "    .dataframe tbody tr th:only-of-type {\n",
       "        vertical-align: middle;\n",
       "    }\n",
       "\n",
       "    .dataframe tbody tr th {\n",
       "        vertical-align: top;\n",
       "    }\n",
       "\n",
       "    .dataframe thead th {\n",
       "        text-align: right;\n",
       "    }\n",
       "</style>\n",
       "<table border=\"1\" class=\"dataframe\">\n",
       "  <thead>\n",
       "    <tr style=\"text-align: right;\">\n",
       "      <th></th>\n",
       "      <th>0</th>\n",
       "      <th>1</th>\n",
       "      <th>2</th>\n",
       "      <th>3</th>\n",
       "      <th>4</th>\n",
       "      <th>5</th>\n",
       "      <th>6</th>\n",
       "      <th>7</th>\n",
       "      <th>8</th>\n",
       "      <th>9</th>\n",
       "      <th>10</th>\n",
       "      <th>11</th>\n",
       "      <th>12</th>\n",
       "    </tr>\n",
       "  </thead>\n",
       "  <tbody>\n",
       "    <tr>\n",
       "      <th>0</th>\n",
       "      <td></td>\n",
       "      <td></td>\n",
       "      <td></td>\n",
       "      <td>earthquake2019-07-22   16:31:06.919min ago</td>\n",
       "      <td>35.53</td>\n",
       "      <td>N</td>\n",
       "      <td>117.36</td>\n",
       "      <td>W</td>\n",
       "      <td>8</td>\n",
       "      <td>ML</td>\n",
       "      <td>2.6</td>\n",
       "      <td>SOUTHERN CALIFORNIA</td>\n",
       "      <td>2019-07-22 16:41</td>\n",
       "    </tr>\n",
       "    <tr>\n",
       "      <th>1</th>\n",
       "      <td>55</td>\n",
       "      <td></td>\n",
       "      <td>IV</td>\n",
       "      <td>earthquake2019-07-22   16:26:56.124min ago</td>\n",
       "      <td>34.00</td>\n",
       "      <td>N</td>\n",
       "      <td>116.05</td>\n",
       "      <td>W</td>\n",
       "      <td>8</td>\n",
       "      <td>Mw</td>\n",
       "      <td>4.2</td>\n",
       "      <td>SOUTHERN CALIFORNIA</td>\n",
       "      <td>2019-07-22 16:47</td>\n",
       "    </tr>\n",
       "    <tr>\n",
       "      <th>2</th>\n",
       "      <td></td>\n",
       "      <td></td>\n",
       "      <td></td>\n",
       "      <td>earthquake2019-07-22   15:52:06.058min ago</td>\n",
       "      <td>20.86</td>\n",
       "      <td>S</td>\n",
       "      <td>69.10</td>\n",
       "      <td>W</td>\n",
       "      <td>106</td>\n",
       "      <td>ML</td>\n",
       "      <td>3.2</td>\n",
       "      <td>TARAPACA, CHILE</td>\n",
       "      <td>2019-07-22 16:25</td>\n",
       "    </tr>\n",
       "    <tr>\n",
       "      <th>3</th>\n",
       "      <td></td>\n",
       "      <td></td>\n",
       "      <td></td>\n",
       "      <td>earthquake2019-07-22   15:30:41.01hr 20min ago</td>\n",
       "      <td>30.56</td>\n",
       "      <td>S</td>\n",
       "      <td>71.31</td>\n",
       "      <td>W</td>\n",
       "      <td>59</td>\n",
       "      <td>ML</td>\n",
       "      <td>3.1</td>\n",
       "      <td>COQUIMBO, CHILE</td>\n",
       "      <td>2019-07-22 15:38</td>\n",
       "    </tr>\n",
       "    <tr>\n",
       "      <th>4</th>\n",
       "      <td>1</td>\n",
       "      <td></td>\n",
       "      <td></td>\n",
       "      <td>earthquake2019-07-22   15:27:36.71hr 23min ago</td>\n",
       "      <td>35.89</td>\n",
       "      <td>N</td>\n",
       "      <td>117.74</td>\n",
       "      <td>W</td>\n",
       "      <td>8</td>\n",
       "      <td>ML</td>\n",
       "      <td>2.2</td>\n",
       "      <td>CENTRAL CALIFORNIA</td>\n",
       "      <td>2019-07-22 15:29</td>\n",
       "    </tr>\n",
       "  </tbody>\n",
       "</table>\n",
       "</div>"
      ],
      "text/plain": [
       "   0  1   2                                               3       4    5   \\\n",
       "0                 earthquake2019-07-22   16:31:06.919min ago  35.53   N     \n",
       "1  55     IV      earthquake2019-07-22   16:26:56.124min ago  34.00   N     \n",
       "2                 earthquake2019-07-22   15:52:06.058min ago  20.86   S     \n",
       "3             earthquake2019-07-22   15:30:41.01hr 20min ago  30.56   S     \n",
       "4   1         earthquake2019-07-22   15:27:36.71hr 23min ago  35.89   N     \n",
       "\n",
       "        6    7    8   9    10                    11                12  \n",
       "0  117.36   W      8  ML  2.6   SOUTHERN CALIFORNIA  2019-07-22 16:41  \n",
       "1  116.05   W      8  Mw  4.2   SOUTHERN CALIFORNIA  2019-07-22 16:47  \n",
       "2   69.10   W    106  ML  3.2       TARAPACA, CHILE  2019-07-22 16:25  \n",
       "3   71.31   W     59  ML  3.1       COQUIMBO, CHILE  2019-07-22 15:38  \n",
       "4  117.74   W      8  ML  2.2    CENTRAL CALIFORNIA  2019-07-22 15:29  "
      ]
     },
     "execution_count": 469,
     "metadata": {},
     "output_type": "execute_result"
    }
   ],
   "source": [
    "df_row.head()"
   ]
  },
  {
   "cell_type": "code",
   "execution_count": 470,
   "metadata": {},
   "outputs": [
    {
     "data": {
      "text/html": [
       "<div>\n",
       "<style scoped>\n",
       "    .dataframe tbody tr th:only-of-type {\n",
       "        vertical-align: middle;\n",
       "    }\n",
       "\n",
       "    .dataframe tbody tr th {\n",
       "        vertical-align: top;\n",
       "    }\n",
       "\n",
       "    .dataframe thead th {\n",
       "        text-align: right;\n",
       "    }\n",
       "</style>\n",
       "<table border=\"1\" class=\"dataframe\">\n",
       "  <thead>\n",
       "    <tr style=\"text-align: right;\">\n",
       "      <th></th>\n",
       "      <th>0</th>\n",
       "      <th>1</th>\n",
       "      <th>2</th>\n",
       "      <th>3</th>\n",
       "      <th>4</th>\n",
       "      <th>5</th>\n",
       "      <th>6</th>\n",
       "      <th>7</th>\n",
       "      <th>8</th>\n",
       "      <th>9</th>\n",
       "      <th>10</th>\n",
       "      <th>11</th>\n",
       "      <th>12</th>\n",
       "    </tr>\n",
       "  </thead>\n",
       "  <tbody>\n",
       "    <tr>\n",
       "      <th>0</th>\n",
       "      <td></td>\n",
       "      <td></td>\n",
       "      <td></td>\n",
       "      <td>2019-07-22   16:31:06.919min ago</td>\n",
       "      <td>35.53</td>\n",
       "      <td>N</td>\n",
       "      <td>117.36</td>\n",
       "      <td>W</td>\n",
       "      <td>8</td>\n",
       "      <td>ML</td>\n",
       "      <td>2.6</td>\n",
       "      <td>SOUTHERN CALIFORNIA</td>\n",
       "      <td>2019-07-22 16:41</td>\n",
       "    </tr>\n",
       "    <tr>\n",
       "      <th>1</th>\n",
       "      <td>55</td>\n",
       "      <td></td>\n",
       "      <td>IV</td>\n",
       "      <td>2019-07-22   16:26:56.124min ago</td>\n",
       "      <td>34.00</td>\n",
       "      <td>N</td>\n",
       "      <td>116.05</td>\n",
       "      <td>W</td>\n",
       "      <td>8</td>\n",
       "      <td>Mw</td>\n",
       "      <td>4.2</td>\n",
       "      <td>SOUTHERN CALIFORNIA</td>\n",
       "      <td>2019-07-22 16:47</td>\n",
       "    </tr>\n",
       "    <tr>\n",
       "      <th>2</th>\n",
       "      <td></td>\n",
       "      <td></td>\n",
       "      <td></td>\n",
       "      <td>2019-07-22   15:52:06.058min ago</td>\n",
       "      <td>20.86</td>\n",
       "      <td>S</td>\n",
       "      <td>69.10</td>\n",
       "      <td>W</td>\n",
       "      <td>106</td>\n",
       "      <td>ML</td>\n",
       "      <td>3.2</td>\n",
       "      <td>TARAPACA, CHILE</td>\n",
       "      <td>2019-07-22 16:25</td>\n",
       "    </tr>\n",
       "    <tr>\n",
       "      <th>3</th>\n",
       "      <td></td>\n",
       "      <td></td>\n",
       "      <td></td>\n",
       "      <td>2019-07-22   15:30:41.01hr 20min ago</td>\n",
       "      <td>30.56</td>\n",
       "      <td>S</td>\n",
       "      <td>71.31</td>\n",
       "      <td>W</td>\n",
       "      <td>59</td>\n",
       "      <td>ML</td>\n",
       "      <td>3.1</td>\n",
       "      <td>COQUIMBO, CHILE</td>\n",
       "      <td>2019-07-22 15:38</td>\n",
       "    </tr>\n",
       "    <tr>\n",
       "      <th>4</th>\n",
       "      <td>1</td>\n",
       "      <td></td>\n",
       "      <td></td>\n",
       "      <td>2019-07-22   15:27:36.71hr 23min ago</td>\n",
       "      <td>35.89</td>\n",
       "      <td>N</td>\n",
       "      <td>117.74</td>\n",
       "      <td>W</td>\n",
       "      <td>8</td>\n",
       "      <td>ML</td>\n",
       "      <td>2.2</td>\n",
       "      <td>CENTRAL CALIFORNIA</td>\n",
       "      <td>2019-07-22 15:29</td>\n",
       "    </tr>\n",
       "  </tbody>\n",
       "</table>\n",
       "</div>"
      ],
      "text/plain": [
       "   0  1   2                                     3       4    5        6    7   \\\n",
       "0                 2019-07-22   16:31:06.919min ago  35.53   N    117.36   W     \n",
       "1  55     IV      2019-07-22   16:26:56.124min ago  34.00   N    116.05   W     \n",
       "2                 2019-07-22   15:52:06.058min ago  20.86   S     69.10   W     \n",
       "3             2019-07-22   15:30:41.01hr 20min ago  30.56   S     71.31   W     \n",
       "4   1         2019-07-22   15:27:36.71hr 23min ago  35.89   N    117.74   W     \n",
       "\n",
       "    8   9    10                    11                12  \n",
       "0    8  ML  2.6   SOUTHERN CALIFORNIA  2019-07-22 16:41  \n",
       "1    8  Mw  4.2   SOUTHERN CALIFORNIA  2019-07-22 16:47  \n",
       "2  106  ML  3.2       TARAPACA, CHILE  2019-07-22 16:25  \n",
       "3   59  ML  3.1       COQUIMBO, CHILE  2019-07-22 15:38  \n",
       "4    8  ML  2.2    CENTRAL CALIFORNIA  2019-07-22 15:29  "
      ]
     },
     "execution_count": 470,
     "metadata": {},
     "output_type": "execute_result"
    }
   ],
   "source": [
    "df_row[3] = df_row[3].apply(lambda x: x.replace(\"earthquake\", \"\"))\n",
    "df_row.head()"
   ]
  },
  {
   "cell_type": "code",
   "execution_count": 471,
   "metadata": {},
   "outputs": [
    {
     "data": {
      "text/html": [
       "<div>\n",
       "<style scoped>\n",
       "    .dataframe tbody tr th:only-of-type {\n",
       "        vertical-align: middle;\n",
       "    }\n",
       "\n",
       "    .dataframe tbody tr th {\n",
       "        vertical-align: top;\n",
       "    }\n",
       "\n",
       "    .dataframe thead th {\n",
       "        text-align: right;\n",
       "    }\n",
       "</style>\n",
       "<table border=\"1\" class=\"dataframe\">\n",
       "  <thead>\n",
       "    <tr style=\"text-align: right;\">\n",
       "      <th></th>\n",
       "      <th>0</th>\n",
       "      <th>1</th>\n",
       "      <th>2</th>\n",
       "      <th>3</th>\n",
       "      <th>4</th>\n",
       "      <th>5</th>\n",
       "      <th>6</th>\n",
       "      <th>7</th>\n",
       "      <th>8</th>\n",
       "      <th>9</th>\n",
       "      <th>10</th>\n",
       "      <th>11</th>\n",
       "      <th>12</th>\n",
       "    </tr>\n",
       "  </thead>\n",
       "  <tbody>\n",
       "    <tr>\n",
       "      <th>0</th>\n",
       "      <td></td>\n",
       "      <td></td>\n",
       "      <td></td>\n",
       "      <td>2019-07-22   16:31:06</td>\n",
       "      <td>35.53</td>\n",
       "      <td>N</td>\n",
       "      <td>117.36</td>\n",
       "      <td>W</td>\n",
       "      <td>8</td>\n",
       "      <td>ML</td>\n",
       "      <td>2.6</td>\n",
       "      <td>SOUTHERN CALIFORNIA</td>\n",
       "      <td>2019-07-22 16:41</td>\n",
       "    </tr>\n",
       "    <tr>\n",
       "      <th>1</th>\n",
       "      <td>55</td>\n",
       "      <td></td>\n",
       "      <td>IV</td>\n",
       "      <td>2019-07-22   16:26:56</td>\n",
       "      <td>34.00</td>\n",
       "      <td>N</td>\n",
       "      <td>116.05</td>\n",
       "      <td>W</td>\n",
       "      <td>8</td>\n",
       "      <td>Mw</td>\n",
       "      <td>4.2</td>\n",
       "      <td>SOUTHERN CALIFORNIA</td>\n",
       "      <td>2019-07-22 16:47</td>\n",
       "    </tr>\n",
       "    <tr>\n",
       "      <th>2</th>\n",
       "      <td></td>\n",
       "      <td></td>\n",
       "      <td></td>\n",
       "      <td>2019-07-22   15:52:06</td>\n",
       "      <td>20.86</td>\n",
       "      <td>S</td>\n",
       "      <td>69.10</td>\n",
       "      <td>W</td>\n",
       "      <td>106</td>\n",
       "      <td>ML</td>\n",
       "      <td>3.2</td>\n",
       "      <td>TARAPACA, CHILE</td>\n",
       "      <td>2019-07-22 16:25</td>\n",
       "    </tr>\n",
       "    <tr>\n",
       "      <th>3</th>\n",
       "      <td></td>\n",
       "      <td></td>\n",
       "      <td></td>\n",
       "      <td>2019-07-22   15:30:41</td>\n",
       "      <td>30.56</td>\n",
       "      <td>S</td>\n",
       "      <td>71.31</td>\n",
       "      <td>W</td>\n",
       "      <td>59</td>\n",
       "      <td>ML</td>\n",
       "      <td>3.1</td>\n",
       "      <td>COQUIMBO, CHILE</td>\n",
       "      <td>2019-07-22 15:38</td>\n",
       "    </tr>\n",
       "    <tr>\n",
       "      <th>4</th>\n",
       "      <td>1</td>\n",
       "      <td></td>\n",
       "      <td></td>\n",
       "      <td>2019-07-22   15:27:36</td>\n",
       "      <td>35.89</td>\n",
       "      <td>N</td>\n",
       "      <td>117.74</td>\n",
       "      <td>W</td>\n",
       "      <td>8</td>\n",
       "      <td>ML</td>\n",
       "      <td>2.2</td>\n",
       "      <td>CENTRAL CALIFORNIA</td>\n",
       "      <td>2019-07-22 15:29</td>\n",
       "    </tr>\n",
       "  </tbody>\n",
       "</table>\n",
       "</div>"
      ],
      "text/plain": [
       "   0  1   2                      3       4    5        6    7    8   9    10  \\\n",
       "0             2019-07-22   16:31:06  35.53   N    117.36   W      8  ML  2.6   \n",
       "1  55     IV  2019-07-22   16:26:56  34.00   N    116.05   W      8  Mw  4.2   \n",
       "2             2019-07-22   15:52:06  20.86   S     69.10   W    106  ML  3.2   \n",
       "3             2019-07-22   15:30:41  30.56   S     71.31   W     59  ML  3.1   \n",
       "4   1         2019-07-22   15:27:36  35.89   N    117.74   W      8  ML  2.2   \n",
       "\n",
       "                     11                12  \n",
       "0   SOUTHERN CALIFORNIA  2019-07-22 16:41  \n",
       "1   SOUTHERN CALIFORNIA  2019-07-22 16:47  \n",
       "2       TARAPACA, CHILE  2019-07-22 16:25  \n",
       "3       COQUIMBO, CHILE  2019-07-22 15:38  \n",
       "4    CENTRAL CALIFORNIA  2019-07-22 15:29  "
      ]
     },
     "execution_count": 471,
     "metadata": {},
     "output_type": "execute_result"
    }
   ],
   "source": [
    "df_row[3] = df_row[3].apply(lambda x: x[0:21])\n",
    "df_row.head()"
   ]
  },
  {
   "cell_type": "code",
   "execution_count": 472,
   "metadata": {},
   "outputs": [],
   "source": [
    "df_row = df_row.drop(df_row.columns[[0,1,2,9,12]], axis = 1)\n",
    "#df_row\n",
    "#df_row.drop(df_row.columns[[0, 2]], axis='columns')"
   ]
  },
  {
   "cell_type": "code",
   "execution_count": 473,
   "metadata": {},
   "outputs": [
    {
     "data": {
      "text/html": [
       "<div>\n",
       "<style scoped>\n",
       "    .dataframe tbody tr th:only-of-type {\n",
       "        vertical-align: middle;\n",
       "    }\n",
       "\n",
       "    .dataframe tbody tr th {\n",
       "        vertical-align: top;\n",
       "    }\n",
       "\n",
       "    .dataframe thead th {\n",
       "        text-align: right;\n",
       "    }\n",
       "</style>\n",
       "<table border=\"1\" class=\"dataframe\">\n",
       "  <thead>\n",
       "    <tr style=\"text-align: right;\">\n",
       "      <th></th>\n",
       "      <th>3</th>\n",
       "      <th>4</th>\n",
       "      <th>5</th>\n",
       "      <th>6</th>\n",
       "      <th>7</th>\n",
       "      <th>8</th>\n",
       "      <th>10</th>\n",
       "      <th>11</th>\n",
       "    </tr>\n",
       "  </thead>\n",
       "  <tbody>\n",
       "    <tr>\n",
       "      <th>0</th>\n",
       "      <td>2019-07-22   16:31:06</td>\n",
       "      <td>35.53</td>\n",
       "      <td>N</td>\n",
       "      <td>117.36</td>\n",
       "      <td>W</td>\n",
       "      <td>8</td>\n",
       "      <td>2.6</td>\n",
       "      <td>SOUTHERN CALIFORNIA</td>\n",
       "    </tr>\n",
       "    <tr>\n",
       "      <th>1</th>\n",
       "      <td>2019-07-22   16:26:56</td>\n",
       "      <td>34.00</td>\n",
       "      <td>N</td>\n",
       "      <td>116.05</td>\n",
       "      <td>W</td>\n",
       "      <td>8</td>\n",
       "      <td>4.2</td>\n",
       "      <td>SOUTHERN CALIFORNIA</td>\n",
       "    </tr>\n",
       "    <tr>\n",
       "      <th>2</th>\n",
       "      <td>2019-07-22   15:52:06</td>\n",
       "      <td>20.86</td>\n",
       "      <td>S</td>\n",
       "      <td>69.10</td>\n",
       "      <td>W</td>\n",
       "      <td>106</td>\n",
       "      <td>3.2</td>\n",
       "      <td>TARAPACA, CHILE</td>\n",
       "    </tr>\n",
       "    <tr>\n",
       "      <th>3</th>\n",
       "      <td>2019-07-22   15:30:41</td>\n",
       "      <td>30.56</td>\n",
       "      <td>S</td>\n",
       "      <td>71.31</td>\n",
       "      <td>W</td>\n",
       "      <td>59</td>\n",
       "      <td>3.1</td>\n",
       "      <td>COQUIMBO, CHILE</td>\n",
       "    </tr>\n",
       "    <tr>\n",
       "      <th>4</th>\n",
       "      <td>2019-07-22   15:27:36</td>\n",
       "      <td>35.89</td>\n",
       "      <td>N</td>\n",
       "      <td>117.74</td>\n",
       "      <td>W</td>\n",
       "      <td>8</td>\n",
       "      <td>2.2</td>\n",
       "      <td>CENTRAL CALIFORNIA</td>\n",
       "    </tr>\n",
       "  </tbody>\n",
       "</table>\n",
       "</div>"
      ],
      "text/plain": [
       "                      3       4    5        6    7    8    10  \\\n",
       "0  2019-07-22   16:31:06  35.53   N    117.36   W      8  2.6   \n",
       "1  2019-07-22   16:26:56  34.00   N    116.05   W      8  4.2   \n",
       "2  2019-07-22   15:52:06  20.86   S     69.10   W    106  3.2   \n",
       "3  2019-07-22   15:30:41  30.56   S     71.31   W     59  3.1   \n",
       "4  2019-07-22   15:27:36  35.89   N    117.74   W      8  2.2   \n",
       "\n",
       "                     11  \n",
       "0   SOUTHERN CALIFORNIA  \n",
       "1   SOUTHERN CALIFORNIA  \n",
       "2       TARAPACA, CHILE  \n",
       "3       COQUIMBO, CHILE  \n",
       "4    CENTRAL CALIFORNIA  "
      ]
     },
     "execution_count": 473,
     "metadata": {},
     "output_type": "execute_result"
    }
   ],
   "source": [
    "df_row.head()"
   ]
  },
  {
   "cell_type": "code",
   "execution_count": 474,
   "metadata": {},
   "outputs": [
    {
     "data": {
      "text/html": [
       "<div>\n",
       "<style scoped>\n",
       "    .dataframe tbody tr th:only-of-type {\n",
       "        vertical-align: middle;\n",
       "    }\n",
       "\n",
       "    .dataframe tbody tr th {\n",
       "        vertical-align: top;\n",
       "    }\n",
       "\n",
       "    .dataframe thead th {\n",
       "        text-align: right;\n",
       "    }\n",
       "</style>\n",
       "<table border=\"1\" class=\"dataframe\">\n",
       "  <thead>\n",
       "    <tr style=\"text-align: right;\">\n",
       "      <th></th>\n",
       "      <th>3</th>\n",
       "      <th>4</th>\n",
       "      <th>5</th>\n",
       "      <th>6</th>\n",
       "      <th>7</th>\n",
       "      <th>8</th>\n",
       "      <th>10</th>\n",
       "      <th>11</th>\n",
       "    </tr>\n",
       "  </thead>\n",
       "  <tbody>\n",
       "    <tr>\n",
       "      <th>0</th>\n",
       "      <td>2019-07-22   16:31:06</td>\n",
       "      <td>35.53 N</td>\n",
       "      <td>N</td>\n",
       "      <td>117.36 W</td>\n",
       "      <td>W</td>\n",
       "      <td>8</td>\n",
       "      <td>2.6</td>\n",
       "      <td>SOUTHERN CALIFORNIA</td>\n",
       "    </tr>\n",
       "    <tr>\n",
       "      <th>1</th>\n",
       "      <td>2019-07-22   16:26:56</td>\n",
       "      <td>34.00 N</td>\n",
       "      <td>N</td>\n",
       "      <td>116.05 W</td>\n",
       "      <td>W</td>\n",
       "      <td>8</td>\n",
       "      <td>4.2</td>\n",
       "      <td>SOUTHERN CALIFORNIA</td>\n",
       "    </tr>\n",
       "    <tr>\n",
       "      <th>2</th>\n",
       "      <td>2019-07-22   15:52:06</td>\n",
       "      <td>20.86 S</td>\n",
       "      <td>S</td>\n",
       "      <td>69.10 W</td>\n",
       "      <td>W</td>\n",
       "      <td>106</td>\n",
       "      <td>3.2</td>\n",
       "      <td>TARAPACA, CHILE</td>\n",
       "    </tr>\n",
       "    <tr>\n",
       "      <th>3</th>\n",
       "      <td>2019-07-22   15:30:41</td>\n",
       "      <td>30.56 S</td>\n",
       "      <td>S</td>\n",
       "      <td>71.31 W</td>\n",
       "      <td>W</td>\n",
       "      <td>59</td>\n",
       "      <td>3.1</td>\n",
       "      <td>COQUIMBO, CHILE</td>\n",
       "    </tr>\n",
       "    <tr>\n",
       "      <th>4</th>\n",
       "      <td>2019-07-22   15:27:36</td>\n",
       "      <td>35.89 N</td>\n",
       "      <td>N</td>\n",
       "      <td>117.74 W</td>\n",
       "      <td>W</td>\n",
       "      <td>8</td>\n",
       "      <td>2.2</td>\n",
       "      <td>CENTRAL CALIFORNIA</td>\n",
       "    </tr>\n",
       "  </tbody>\n",
       "</table>\n",
       "</div>"
      ],
      "text/plain": [
       "                      3          4    5           6    7    8    10  \\\n",
       "0  2019-07-22   16:31:06  35.53 N    N    117.36 W    W      8  2.6   \n",
       "1  2019-07-22   16:26:56  34.00 N    N    116.05 W    W      8  4.2   \n",
       "2  2019-07-22   15:52:06  20.86 S    S     69.10 W    W    106  3.2   \n",
       "3  2019-07-22   15:30:41  30.56 S    S     71.31 W    W     59  3.1   \n",
       "4  2019-07-22   15:27:36  35.89 N    N    117.74 W    W      8  2.2   \n",
       "\n",
       "                     11  \n",
       "0   SOUTHERN CALIFORNIA  \n",
       "1   SOUTHERN CALIFORNIA  \n",
       "2       TARAPACA, CHILE  \n",
       "3       COQUIMBO, CHILE  \n",
       "4    CENTRAL CALIFORNIA  "
      ]
     },
     "execution_count": 474,
     "metadata": {},
     "output_type": "execute_result"
    }
   ],
   "source": [
    "df_row[4]=df_row[4]+df_row[5]\n",
    "df_row[6]=df_row[6]+df_row[7]\n",
    "df_row.head()"
   ]
  },
  {
   "cell_type": "code",
   "execution_count": 475,
   "metadata": {},
   "outputs": [
    {
     "data": {
      "text/html": [
       "<div>\n",
       "<style scoped>\n",
       "    .dataframe tbody tr th:only-of-type {\n",
       "        vertical-align: middle;\n",
       "    }\n",
       "\n",
       "    .dataframe tbody tr th {\n",
       "        vertical-align: top;\n",
       "    }\n",
       "\n",
       "    .dataframe thead th {\n",
       "        text-align: right;\n",
       "    }\n",
       "</style>\n",
       "<table border=\"1\" class=\"dataframe\">\n",
       "  <thead>\n",
       "    <tr style=\"text-align: right;\">\n",
       "      <th></th>\n",
       "      <th>3</th>\n",
       "      <th>4</th>\n",
       "      <th>6</th>\n",
       "      <th>8</th>\n",
       "      <th>10</th>\n",
       "      <th>11</th>\n",
       "    </tr>\n",
       "  </thead>\n",
       "  <tbody>\n",
       "    <tr>\n",
       "      <th>0</th>\n",
       "      <td>2019-07-22   16:31:06</td>\n",
       "      <td>35.53 N</td>\n",
       "      <td>117.36 W</td>\n",
       "      <td>8</td>\n",
       "      <td>2.6</td>\n",
       "      <td>SOUTHERN CALIFORNIA</td>\n",
       "    </tr>\n",
       "    <tr>\n",
       "      <th>1</th>\n",
       "      <td>2019-07-22   16:26:56</td>\n",
       "      <td>34.00 N</td>\n",
       "      <td>116.05 W</td>\n",
       "      <td>8</td>\n",
       "      <td>4.2</td>\n",
       "      <td>SOUTHERN CALIFORNIA</td>\n",
       "    </tr>\n",
       "    <tr>\n",
       "      <th>2</th>\n",
       "      <td>2019-07-22   15:52:06</td>\n",
       "      <td>20.86 S</td>\n",
       "      <td>69.10 W</td>\n",
       "      <td>106</td>\n",
       "      <td>3.2</td>\n",
       "      <td>TARAPACA, CHILE</td>\n",
       "    </tr>\n",
       "    <tr>\n",
       "      <th>3</th>\n",
       "      <td>2019-07-22   15:30:41</td>\n",
       "      <td>30.56 S</td>\n",
       "      <td>71.31 W</td>\n",
       "      <td>59</td>\n",
       "      <td>3.1</td>\n",
       "      <td>COQUIMBO, CHILE</td>\n",
       "    </tr>\n",
       "    <tr>\n",
       "      <th>4</th>\n",
       "      <td>2019-07-22   15:27:36</td>\n",
       "      <td>35.89 N</td>\n",
       "      <td>117.74 W</td>\n",
       "      <td>8</td>\n",
       "      <td>2.2</td>\n",
       "      <td>CENTRAL CALIFORNIA</td>\n",
       "    </tr>\n",
       "  </tbody>\n",
       "</table>\n",
       "</div>"
      ],
      "text/plain": [
       "                      3          4           6    8    10  \\\n",
       "0  2019-07-22   16:31:06  35.53 N    117.36 W      8  2.6   \n",
       "1  2019-07-22   16:26:56  34.00 N    116.05 W      8  4.2   \n",
       "2  2019-07-22   15:52:06  20.86 S     69.10 W    106  3.2   \n",
       "3  2019-07-22   15:30:41  30.56 S     71.31 W     59  3.1   \n",
       "4  2019-07-22   15:27:36  35.89 N    117.74 W      8  2.2   \n",
       "\n",
       "                     11  \n",
       "0   SOUTHERN CALIFORNIA  \n",
       "1   SOUTHERN CALIFORNIA  \n",
       "2       TARAPACA, CHILE  \n",
       "3       COQUIMBO, CHILE  \n",
       "4    CENTRAL CALIFORNIA  "
      ]
     },
     "execution_count": 475,
     "metadata": {},
     "output_type": "execute_result"
    }
   ],
   "source": [
    "df_row=df_row.drop(df_row.columns[[2,4]], axis = 1)\n",
    "df_row.head()"
   ]
  },
  {
   "cell_type": "code",
   "execution_count": 476,
   "metadata": {},
   "outputs": [
    {
     "data": {
      "text/plain": [
       "[['Date & Time UTC'],\n",
       " ['Latitude degrees'],\n",
       " ['Longitude degrees'],\n",
       " ['Depth km'],\n",
       " ['Mag  [+]'],\n",
       " ['Region name  [+]']]"
      ]
     },
     "execution_count": 476,
     "metadata": {},
     "output_type": "execute_result"
    }
   ],
   "source": [
    "cols = tableau.find('thead').find_all('tr')[1]\n",
    "cols\n",
    "cols = [col.text.strip().split(\"\\n\") for col in cols]\n",
    "#rows = [[td.text for td in row.contents] for row in rows]\n",
    "cols = cols[1:7]\n",
    "cols"
   ]
  },
  {
   "cell_type": "code",
   "execution_count": 490,
   "metadata": {},
   "outputs": [],
   "source": [
    "colnames = cols[0:6]\n",
    "data = df_row[0:21]\n",
    "colnames = [col[0] for col in colnames]\n",
    "data.columns = colnames"
   ]
  },
  {
   "cell_type": "code",
   "execution_count": 491,
   "metadata": {},
   "outputs": [
    {
     "data": {
      "text/html": [
       "<div>\n",
       "<style scoped>\n",
       "    .dataframe tbody tr th:only-of-type {\n",
       "        vertical-align: middle;\n",
       "    }\n",
       "\n",
       "    .dataframe tbody tr th {\n",
       "        vertical-align: top;\n",
       "    }\n",
       "\n",
       "    .dataframe thead th {\n",
       "        text-align: right;\n",
       "    }\n",
       "</style>\n",
       "<table border=\"1\" class=\"dataframe\">\n",
       "  <thead>\n",
       "    <tr style=\"text-align: right;\">\n",
       "      <th></th>\n",
       "      <th>Date &amp; Time UTC</th>\n",
       "      <th>Latitude degrees</th>\n",
       "      <th>Longitude degrees</th>\n",
       "      <th>Depth km</th>\n",
       "      <th>Mag  [+]</th>\n",
       "      <th>Region name  [+]</th>\n",
       "    </tr>\n",
       "  </thead>\n",
       "  <tbody>\n",
       "    <tr>\n",
       "      <th>0</th>\n",
       "      <td>2019-07-22   16:31:06</td>\n",
       "      <td>35.53 N</td>\n",
       "      <td>117.36 W</td>\n",
       "      <td>8</td>\n",
       "      <td>2.6</td>\n",
       "      <td>SOUTHERN CALIFORNIA</td>\n",
       "    </tr>\n",
       "    <tr>\n",
       "      <th>1</th>\n",
       "      <td>2019-07-22   16:26:56</td>\n",
       "      <td>34.00 N</td>\n",
       "      <td>116.05 W</td>\n",
       "      <td>8</td>\n",
       "      <td>4.2</td>\n",
       "      <td>SOUTHERN CALIFORNIA</td>\n",
       "    </tr>\n",
       "    <tr>\n",
       "      <th>2</th>\n",
       "      <td>2019-07-22   15:52:06</td>\n",
       "      <td>20.86 S</td>\n",
       "      <td>69.10 W</td>\n",
       "      <td>106</td>\n",
       "      <td>3.2</td>\n",
       "      <td>TARAPACA, CHILE</td>\n",
       "    </tr>\n",
       "    <tr>\n",
       "      <th>3</th>\n",
       "      <td>2019-07-22   15:30:41</td>\n",
       "      <td>30.56 S</td>\n",
       "      <td>71.31 W</td>\n",
       "      <td>59</td>\n",
       "      <td>3.1</td>\n",
       "      <td>COQUIMBO, CHILE</td>\n",
       "    </tr>\n",
       "    <tr>\n",
       "      <th>4</th>\n",
       "      <td>2019-07-22   15:27:36</td>\n",
       "      <td>35.89 N</td>\n",
       "      <td>117.74 W</td>\n",
       "      <td>8</td>\n",
       "      <td>2.2</td>\n",
       "      <td>CENTRAL CALIFORNIA</td>\n",
       "    </tr>\n",
       "    <tr>\n",
       "      <th>5</th>\n",
       "      <td>2019-07-22   15:25:50</td>\n",
       "      <td>41.39 N</td>\n",
       "      <td>13.90 E</td>\n",
       "      <td>9</td>\n",
       "      <td>2.3</td>\n",
       "      <td>SOUTHERN ITALY</td>\n",
       "    </tr>\n",
       "    <tr>\n",
       "      <th>6</th>\n",
       "      <td>2019-07-22   15:20:17</td>\n",
       "      <td>35.65 N</td>\n",
       "      <td>117.46 W</td>\n",
       "      <td>3</td>\n",
       "      <td>2.1</td>\n",
       "      <td>SOUTHERN CALIFORNIA</td>\n",
       "    </tr>\n",
       "    <tr>\n",
       "      <th>7</th>\n",
       "      <td>2019-07-22   14:23:10</td>\n",
       "      <td>36.30 N</td>\n",
       "      <td>4.23 E</td>\n",
       "      <td>10</td>\n",
       "      <td>3.9</td>\n",
       "      <td>NORTHERN ALGERIA</td>\n",
       "    </tr>\n",
       "    <tr>\n",
       "      <th>8</th>\n",
       "      <td>2019-07-22   13:59:38</td>\n",
       "      <td>0.10 S</td>\n",
       "      <td>123.14 E</td>\n",
       "      <td>120</td>\n",
       "      <td>3.7</td>\n",
       "      <td>SULAWESI, INDONESIA</td>\n",
       "    </tr>\n",
       "    <tr>\n",
       "      <th>9</th>\n",
       "      <td>2019-07-22   13:58:11</td>\n",
       "      <td>21.62 S</td>\n",
       "      <td>68.48 W</td>\n",
       "      <td>128</td>\n",
       "      <td>3.0</td>\n",
       "      <td>ANTOFAGASTA, CHILE</td>\n",
       "    </tr>\n",
       "    <tr>\n",
       "      <th>10</th>\n",
       "      <td>2019-07-22   13:53:06</td>\n",
       "      <td>52.62 N</td>\n",
       "      <td>172.57 E</td>\n",
       "      <td>29</td>\n",
       "      <td>4.4</td>\n",
       "      <td>NEAR ISLANDS, ALEUTIAN ISLANDS</td>\n",
       "    </tr>\n",
       "    <tr>\n",
       "      <th>11</th>\n",
       "      <td>2019-07-22   13:52:07</td>\n",
       "      <td>37.56 N</td>\n",
       "      <td>20.72 E</td>\n",
       "      <td>1</td>\n",
       "      <td>2.9</td>\n",
       "      <td>IONIAN SEA</td>\n",
       "    </tr>\n",
       "    <tr>\n",
       "      <th>12</th>\n",
       "      <td>2019-07-22   13:51:32</td>\n",
       "      <td>35.92 N</td>\n",
       "      <td>117.71 W</td>\n",
       "      <td>2</td>\n",
       "      <td>2.1</td>\n",
       "      <td>CENTRAL CALIFORNIA</td>\n",
       "    </tr>\n",
       "    <tr>\n",
       "      <th>13</th>\n",
       "      <td>2019-07-22   13:50:03</td>\n",
       "      <td>19.98 S</td>\n",
       "      <td>69.23 W</td>\n",
       "      <td>101</td>\n",
       "      <td>3.1</td>\n",
       "      <td>TARAPACA, CHILE</td>\n",
       "    </tr>\n",
       "    <tr>\n",
       "      <th>14</th>\n",
       "      <td>2019-07-22   13:29:20</td>\n",
       "      <td>36.08 N</td>\n",
       "      <td>117.85 W</td>\n",
       "      <td>2</td>\n",
       "      <td>2.8</td>\n",
       "      <td>CENTRAL CALIFORNIA</td>\n",
       "    </tr>\n",
       "    <tr>\n",
       "      <th>15</th>\n",
       "      <td>2019-07-22   13:16:58</td>\n",
       "      <td>45.64 N</td>\n",
       "      <td>26.59 E</td>\n",
       "      <td>140</td>\n",
       "      <td>2.9</td>\n",
       "      <td>ROMANIA</td>\n",
       "    </tr>\n",
       "    <tr>\n",
       "      <th>16</th>\n",
       "      <td>2019-07-22   12:42:48</td>\n",
       "      <td>36.11 N</td>\n",
       "      <td>117.88 W</td>\n",
       "      <td>4</td>\n",
       "      <td>2.4</td>\n",
       "      <td>CENTRAL CALIFORNIA</td>\n",
       "    </tr>\n",
       "    <tr>\n",
       "      <th>17</th>\n",
       "      <td>2019-07-22   12:32:15</td>\n",
       "      <td>42.75 N</td>\n",
       "      <td>87.65 E</td>\n",
       "      <td>10</td>\n",
       "      <td>4.7</td>\n",
       "      <td>NORTHERN XINJIANG, CHINA</td>\n",
       "    </tr>\n",
       "    <tr>\n",
       "      <th>18</th>\n",
       "      <td>2019-07-22   12:14:21</td>\n",
       "      <td>31.87 S</td>\n",
       "      <td>178.00 W</td>\n",
       "      <td>10</td>\n",
       "      <td>4.9</td>\n",
       "      <td>KERMADEC ISLANDS REGION</td>\n",
       "    </tr>\n",
       "    <tr>\n",
       "      <th>19</th>\n",
       "      <td>2019-07-22   12:13:33</td>\n",
       "      <td>39.26 N</td>\n",
       "      <td>111.93 W</td>\n",
       "      <td>6</td>\n",
       "      <td>2.3</td>\n",
       "      <td>UTAH</td>\n",
       "    </tr>\n",
       "    <tr>\n",
       "      <th>20</th>\n",
       "      <td>2019-07-22   12:03:31</td>\n",
       "      <td>37.47 N</td>\n",
       "      <td>44.08 E</td>\n",
       "      <td>7</td>\n",
       "      <td>2.1</td>\n",
       "      <td>TURKEY-IRAN-IRAQ BORDER REGION</td>\n",
       "    </tr>\n",
       "  </tbody>\n",
       "</table>\n",
       "</div>"
      ],
      "text/plain": [
       "          Date & Time UTC Latitude degrees Longitude degrees Depth km  \\\n",
       "0   2019-07-22   16:31:06        35.53 N          117.36 W          8   \n",
       "1   2019-07-22   16:26:56        34.00 N          116.05 W          8   \n",
       "2   2019-07-22   15:52:06        20.86 S           69.10 W        106   \n",
       "3   2019-07-22   15:30:41        30.56 S           71.31 W         59   \n",
       "4   2019-07-22   15:27:36        35.89 N          117.74 W          8   \n",
       "5   2019-07-22   15:25:50        41.39 N           13.90 E          9   \n",
       "6   2019-07-22   15:20:17        35.65 N          117.46 W          3   \n",
       "7   2019-07-22   14:23:10        36.30 N            4.23 E         10   \n",
       "8   2019-07-22   13:59:38         0.10 S          123.14 E        120   \n",
       "9   2019-07-22   13:58:11        21.62 S           68.48 W        128   \n",
       "10  2019-07-22   13:53:06        52.62 N          172.57 E         29   \n",
       "11  2019-07-22   13:52:07        37.56 N           20.72 E          1   \n",
       "12  2019-07-22   13:51:32        35.92 N          117.71 W          2   \n",
       "13  2019-07-22   13:50:03        19.98 S           69.23 W        101   \n",
       "14  2019-07-22   13:29:20        36.08 N          117.85 W          2   \n",
       "15  2019-07-22   13:16:58        45.64 N           26.59 E        140   \n",
       "16  2019-07-22   12:42:48        36.11 N          117.88 W          4   \n",
       "17  2019-07-22   12:32:15        42.75 N           87.65 E         10   \n",
       "18  2019-07-22   12:14:21        31.87 S          178.00 W         10   \n",
       "19  2019-07-22   12:13:33        39.26 N          111.93 W          6   \n",
       "20  2019-07-22   12:03:31        37.47 N           44.08 E          7   \n",
       "\n",
       "   Mag  [+]                 Region name  [+]  \n",
       "0       2.6              SOUTHERN CALIFORNIA  \n",
       "1       4.2              SOUTHERN CALIFORNIA  \n",
       "2       3.2                  TARAPACA, CHILE  \n",
       "3       3.1                  COQUIMBO, CHILE  \n",
       "4       2.2               CENTRAL CALIFORNIA  \n",
       "5       2.3                   SOUTHERN ITALY  \n",
       "6       2.1              SOUTHERN CALIFORNIA  \n",
       "7       3.9                 NORTHERN ALGERIA  \n",
       "8       3.7              SULAWESI, INDONESIA  \n",
       "9       3.0               ANTOFAGASTA, CHILE  \n",
       "10      4.4   NEAR ISLANDS, ALEUTIAN ISLANDS  \n",
       "11      2.9                       IONIAN SEA  \n",
       "12      2.1               CENTRAL CALIFORNIA  \n",
       "13      3.1                  TARAPACA, CHILE  \n",
       "14      2.8               CENTRAL CALIFORNIA  \n",
       "15      2.9                          ROMANIA  \n",
       "16      2.4               CENTRAL CALIFORNIA  \n",
       "17      4.7         NORTHERN XINJIANG, CHINA  \n",
       "18      4.9          KERMADEC ISLANDS REGION  \n",
       "19      2.3                             UTAH  \n",
       "20      2.1   TURKEY-IRAN-IRAQ BORDER REGION  "
      ]
     },
     "execution_count": 491,
     "metadata": {},
     "output_type": "execute_result"
    }
   ],
   "source": [
    "data"
   ]
  },
  {
   "cell_type": "markdown",
   "metadata": {},
   "source": [
    "#### Display the date, days, title, city, country of next 25 hackathon events as a Pandas dataframe table"
   ]
  },
  {
   "cell_type": "code",
   "execution_count": 511,
   "metadata": {},
   "outputs": [
    {
     "data": {
      "text/plain": [
       "'hack-page.html'"
      ]
     },
     "execution_count": 511,
     "metadata": {},
     "output_type": "execute_result"
    }
   ],
   "source": [
    "# This is the url you will scrape in this exercise\n",
    "url ='https://hackevents.co/hackathons'\n",
    "\n",
    "fichier = 'hack-page.html'"
   ]
  },
  {
   "cell_type": "code",
   "execution_count": 522,
   "metadata": {},
   "outputs": [],
   "source": [
    "from __future__ import division, unicode_literals \n",
    "import codecs\n",
    "from bs4 import BeautifulSoup\n",
    "\n",
    "f=codecs.open(\"hack-page.html\", 'r', 'utf-8')\n",
    "document= BeautifulSoup(f.read())\n",
    "#print(document)"
   ]
  },
  {
   "cell_type": "code",
   "execution_count": 534,
   "metadata": {},
   "outputs": [
    {
     "ename": "AttributeError",
     "evalue": "ResultSet object has no attribute 'findNext'. You're probably treating a list of items like a single item. Did you call find_all() when you meant to call find()?",
     "output_type": "error",
     "traceback": [
      "\u001b[0;31m---------------------------------------------------------------------------\u001b[0m",
      "\u001b[0;31mAttributeError\u001b[0m                            Traceback (most recent call last)",
      "\u001b[0;32m<ipython-input-534-2d5e81d88424>\u001b[0m in \u001b[0;36m<module>\u001b[0;34m\u001b[0m\n\u001b[1;32m      9\u001b[0m \u001b[0mcode_date\u001b[0m\u001b[0;34m\u001b[0m\u001b[0;34m\u001b[0m\u001b[0m\n\u001b[1;32m     10\u001b[0m \u001b[0;34m\u001b[0m\u001b[0m\n\u001b[0;32m---> 11\u001b[0;31m \u001b[0mtest\u001b[0m \u001b[0;34m=\u001b[0m \u001b[0mcode_date\u001b[0m\u001b[0;34m.\u001b[0m\u001b[0mfindNext\u001b[0m\u001b[0;34m(\u001b[0m\u001b[0;34m'p'\u001b[0m\u001b[0;34m)\u001b[0m\u001b[0;34m\u001b[0m\u001b[0;34m\u001b[0m\u001b[0m\n\u001b[0m\u001b[1;32m     12\u001b[0m \u001b[0;31m#names = [name.text for name in find_names]\u001b[0m\u001b[0;34m\u001b[0m\u001b[0;34m\u001b[0m\u001b[0;34m\u001b[0m\u001b[0m\n\u001b[1;32m     13\u001b[0m \u001b[0;31m#names\u001b[0m\u001b[0;34m\u001b[0m\u001b[0;34m\u001b[0m\u001b[0;34m\u001b[0m\u001b[0m\n",
      "\u001b[0;32m~/anaconda3/lib/python3.7/site-packages/bs4/element.py\u001b[0m in \u001b[0;36m__getattr__\u001b[0;34m(self, key)\u001b[0m\n\u001b[1;32m   1618\u001b[0m     \u001b[0;32mdef\u001b[0m \u001b[0m__getattr__\u001b[0m\u001b[0;34m(\u001b[0m\u001b[0mself\u001b[0m\u001b[0;34m,\u001b[0m \u001b[0mkey\u001b[0m\u001b[0;34m)\u001b[0m\u001b[0;34m:\u001b[0m\u001b[0;34m\u001b[0m\u001b[0;34m\u001b[0m\u001b[0m\n\u001b[1;32m   1619\u001b[0m         raise AttributeError(\n\u001b[0;32m-> 1620\u001b[0;31m             \u001b[0;34m\"ResultSet object has no attribute '%s'. You're probably treating a list of items like a single item. Did you call find_all() when you meant to call find()?\"\u001b[0m \u001b[0;34m%\u001b[0m \u001b[0mkey\u001b[0m\u001b[0;34m\u001b[0m\u001b[0;34m\u001b[0m\u001b[0m\n\u001b[0m\u001b[1;32m   1621\u001b[0m         )\n",
      "\u001b[0;31mAttributeError\u001b[0m: ResultSet object has no attribute 'findNext'. You're probably treating a list of items like a single item. Did you call find_all() when you meant to call find()?"
     ]
    }
   ],
   "source": [
    "#your code\n",
    "code_title = document.find_all('h3')\n",
    "code_title\n",
    "\n",
    "title = [title.text for title in code_title]\n",
    "title\n",
    "\n",
    "code_date = document.find_all('p')\n",
    "code_date\n",
    "\n",
    "test = code_date.findNext('p')\n",
    "#names = [name.text for name in find_names]\n",
    "#names\n"
   ]
  },
  {
   "cell_type": "markdown",
   "metadata": {},
   "source": [
    "#### Count number of tweets by a given Twitter account."
   ]
  },
  {
   "cell_type": "markdown",
   "metadata": {},
   "source": [
    "You will need to include a ***try/except block*** for account names not found. \n",
    "<br>***Hint:*** the program should count the number of tweets for any provided account"
   ]
  },
  {
   "cell_type": "code",
   "execution_count": null,
   "metadata": {},
   "outputs": [],
   "source": [
    "# This is the url you will scrape in this exercise \n",
    "# You will need to add the account credentials to this url\n",
    "url = 'https://twitter.com/'"
   ]
  },
  {
   "cell_type": "code",
   "execution_count": null,
   "metadata": {},
   "outputs": [],
   "source": [
    "#your code"
   ]
  },
  {
   "cell_type": "markdown",
   "metadata": {},
   "source": [
    "#### Number of followers of a given twitter account"
   ]
  },
  {
   "cell_type": "markdown",
   "metadata": {},
   "source": [
    "You will need to include a ***try/except block*** in case account/s name not found. \n",
    "<br>***Hint:*** the program should count the followers for any provided account"
   ]
  },
  {
   "cell_type": "code",
   "execution_count": null,
   "metadata": {},
   "outputs": [],
   "source": [
    "# This is the url you will scrape in this exercise \n",
    "# You will need to add the account credentials to this url\n",
    "url = 'https://twitter.com/'"
   ]
  },
  {
   "cell_type": "code",
   "execution_count": null,
   "metadata": {},
   "outputs": [],
   "source": [
    "#your code"
   ]
  },
  {
   "cell_type": "markdown",
   "metadata": {},
   "source": [
    "#### List all language names and number of related articles in the order they appear in wikipedia.org"
   ]
  },
  {
   "cell_type": "code",
   "execution_count": null,
   "metadata": {},
   "outputs": [],
   "source": [
    "# This is the url you will scrape in this exercise\n",
    "url = 'https://www.wikipedia.org/'"
   ]
  },
  {
   "cell_type": "code",
   "execution_count": null,
   "metadata": {},
   "outputs": [],
   "source": [
    "#your code"
   ]
  },
  {
   "cell_type": "markdown",
   "metadata": {},
   "source": [
    "#### A list with the different kind of datasets available in data.gov.uk "
   ]
  },
  {
   "cell_type": "code",
   "execution_count": null,
   "metadata": {},
   "outputs": [],
   "source": [
    "# This is the url you will scrape in this exercise\n",
    "url = 'https://data.gov.uk/'"
   ]
  },
  {
   "cell_type": "code",
   "execution_count": null,
   "metadata": {},
   "outputs": [],
   "source": [
    "#your code "
   ]
  },
  {
   "cell_type": "markdown",
   "metadata": {},
   "source": [
    "#### Top 10 languages by number of native speakers stored in a Pandas Dataframe"
   ]
  },
  {
   "cell_type": "code",
   "execution_count": null,
   "metadata": {},
   "outputs": [],
   "source": [
    "# This is the url you will scrape in this exercise\n",
    "url = 'https://en.wikipedia.org/wiki/List_of_languages_by_number_of_native_speakers'"
   ]
  },
  {
   "cell_type": "code",
   "execution_count": null,
   "metadata": {},
   "outputs": [],
   "source": [
    "#your code"
   ]
  },
  {
   "cell_type": "markdown",
   "metadata": {},
   "source": [
    "### BONUS QUESTIONS"
   ]
  },
  {
   "cell_type": "markdown",
   "metadata": {},
   "source": [
    "#### Scrape a certain number of tweets of a given Twitter account."
   ]
  },
  {
   "cell_type": "code",
   "execution_count": null,
   "metadata": {},
   "outputs": [],
   "source": [
    "# This is the url you will scrape in this exercise \n",
    "# You will need to add the account credentials to this url\n",
    "url = 'https://twitter.com/'"
   ]
  },
  {
   "cell_type": "code",
   "execution_count": null,
   "metadata": {},
   "outputs": [],
   "source": [
    "# your code"
   ]
  },
  {
   "cell_type": "markdown",
   "metadata": {},
   "source": [
    "#### IMDB's Top 250 data (movie name, Initial release, director name and stars) as a pandas dataframe"
   ]
  },
  {
   "cell_type": "code",
   "execution_count": null,
   "metadata": {},
   "outputs": [],
   "source": [
    "# This is the url you will scrape in this exercise \n",
    "url = 'https://www.imdb.com/chart/top'"
   ]
  },
  {
   "cell_type": "code",
   "execution_count": null,
   "metadata": {},
   "outputs": [],
   "source": [
    "# your code"
   ]
  },
  {
   "cell_type": "markdown",
   "metadata": {},
   "source": [
    "#### Movie name, year and a brief summary of the top 10 random movies (IMDB) as a pandas dataframe."
   ]
  },
  {
   "cell_type": "code",
   "execution_count": null,
   "metadata": {},
   "outputs": [],
   "source": [
    "#This is the url you will scrape in this exercise\n",
    "url = 'http://www.imdb.com/chart/top'"
   ]
  },
  {
   "cell_type": "code",
   "execution_count": null,
   "metadata": {},
   "outputs": [],
   "source": [
    "#your code"
   ]
  },
  {
   "cell_type": "markdown",
   "metadata": {},
   "source": [
    "#### Find the live weather report (temperature, wind speed, description and weather) of a given city."
   ]
  },
  {
   "cell_type": "code",
   "execution_count": null,
   "metadata": {},
   "outputs": [],
   "source": [
    "#https://openweathermap.org/current\n",
    "city = city=input('Enter the city:')\n",
    "url = 'http://api.openweathermap.org/data/2.5/weather?'+'q='+city+'&APPID=b35975e18dc93725acb092f7272cc6b8&units=metric'"
   ]
  },
  {
   "cell_type": "code",
   "execution_count": null,
   "metadata": {},
   "outputs": [],
   "source": [
    "# your code"
   ]
  },
  {
   "cell_type": "markdown",
   "metadata": {},
   "source": [
    "#### Book name,price and stock availability as a pandas dataframe."
   ]
  },
  {
   "cell_type": "code",
   "execution_count": null,
   "metadata": {},
   "outputs": [],
   "source": [
    "# This is the url you will scrape in this exercise. \n",
    "# It is a fictional bookstore created to be scraped. \n",
    "url = 'http://books.toscrape.com/'"
   ]
  },
  {
   "cell_type": "code",
   "execution_count": null,
   "metadata": {},
   "outputs": [],
   "source": [
    "#your code"
   ]
  }
 ],
 "metadata": {
  "kernelspec": {
   "display_name": "Python 3",
   "language": "python",
   "name": "python3"
  },
  "language_info": {
   "codemirror_mode": {
    "name": "ipython",
    "version": 3
   },
   "file_extension": ".py",
   "mimetype": "text/x-python",
   "name": "python",
   "nbconvert_exporter": "python",
   "pygments_lexer": "ipython3",
   "version": "3.7.3"
  }
 },
 "nbformat": 4,
 "nbformat_minor": 2
}
