{
 "cells": [
  {
   "cell_type": "code",
   "execution_count": 2,
   "metadata": {},
   "outputs": [],
   "source": [
    "import json\n",
    "import requests\n",
    "import pandas as pd\n",
    "from pandas.io.json import json_normalize\n",
    "import base64\n",
    "import re"
   ]
  },
  {
   "cell_type": "code",
   "execution_count": 92,
   "metadata": {},
   "outputs": [],
   "source": [
    "#endpoint de l'API github pour le repo scavenger produit par ironhack-datalabs\n",
    "url='https://api.github.com/repos/ironhack-datalabs/scavenger/contents'"
   ]
  },
  {
   "cell_type": "code",
   "execution_count": 93,
   "metadata": {},
   "outputs": [
    {
     "data": {
      "text/plain": [
       "'https://api.github.com/repos/ironhack-datalabs/scavenger/contents'"
      ]
     },
     "execution_count": 93,
     "metadata": {},
     "output_type": "execute_result"
    }
   ],
   "source": [
    "url"
   ]
  },
  {
   "cell_type": "code",
   "execution_count": 94,
   "metadata": {},
   "outputs": [],
   "source": [
    "headers = {'Authorization':'token token'}"
   ]
  },
  {
   "cell_type": "code",
   "execution_count": 95,
   "metadata": {},
   "outputs": [
    {
     "data": {
      "text/plain": [
       "<Response [200]>"
      ]
     },
     "execution_count": 95,
     "metadata": {},
     "output_type": "execute_result"
    }
   ],
   "source": [
    "response = requests.get(url, headers=headers)\n",
    "response"
   ]
  },
  {
   "cell_type": "code",
   "execution_count": 96,
   "metadata": {},
   "outputs": [],
   "source": [
    "results = response.json()"
   ]
  },
  {
   "cell_type": "code",
   "execution_count": 97,
   "metadata": {},
   "outputs": [],
   "source": [
    "#results"
   ]
  },
  {
   "cell_type": "code",
   "execution_count": 98,
   "metadata": {},
   "outputs": [
    {
     "data": {
      "text/html": [
       "<div>\n",
       "<style scoped>\n",
       "    .dataframe tbody tr th:only-of-type {\n",
       "        vertical-align: middle;\n",
       "    }\n",
       "\n",
       "    .dataframe tbody tr th {\n",
       "        vertical-align: top;\n",
       "    }\n",
       "\n",
       "    .dataframe thead th {\n",
       "        text-align: right;\n",
       "    }\n",
       "</style>\n",
       "<table border=\"1\" class=\"dataframe\">\n",
       "  <thead>\n",
       "    <tr style=\"text-align: right;\">\n",
       "      <th></th>\n",
       "      <th>_links.git</th>\n",
       "      <th>_links.html</th>\n",
       "      <th>_links.self</th>\n",
       "      <th>download_url</th>\n",
       "      <th>git_url</th>\n",
       "      <th>html_url</th>\n",
       "      <th>name</th>\n",
       "      <th>path</th>\n",
       "      <th>sha</th>\n",
       "      <th>size</th>\n",
       "      <th>type</th>\n",
       "      <th>url</th>\n",
       "    </tr>\n",
       "  </thead>\n",
       "  <tbody>\n",
       "    <tr>\n",
       "      <th>0</th>\n",
       "      <td>https://api.github.com/repos/ironhack-datalabs...</td>\n",
       "      <td>https://github.com/ironhack-datalabs/scavenger...</td>\n",
       "      <td>https://api.github.com/repos/ironhack-datalabs...</td>\n",
       "      <td>https://raw.githubusercontent.com/ironhack-dat...</td>\n",
       "      <td>https://api.github.com/repos/ironhack-datalabs...</td>\n",
       "      <td>https://github.com/ironhack-datalabs/scavenger...</td>\n",
       "      <td>.gitignore</td>\n",
       "      <td>.gitignore</td>\n",
       "      <td>e43b0f988953ae3a84b00331d0ccf5f7d51cb3cf</td>\n",
       "      <td>10</td>\n",
       "      <td>file</td>\n",
       "      <td>https://api.github.com/repos/ironhack-datalabs...</td>\n",
       "    </tr>\n",
       "    <tr>\n",
       "      <th>1</th>\n",
       "      <td>https://api.github.com/repos/ironhack-datalabs...</td>\n",
       "      <td>https://github.com/ironhack-datalabs/scavenger...</td>\n",
       "      <td>https://api.github.com/repos/ironhack-datalabs...</td>\n",
       "      <td>None</td>\n",
       "      <td>https://api.github.com/repos/ironhack-datalabs...</td>\n",
       "      <td>https://github.com/ironhack-datalabs/scavenger...</td>\n",
       "      <td>15024</td>\n",
       "      <td>15024</td>\n",
       "      <td>2945e51c87ad5da893c954afcf092f06343bbb7d</td>\n",
       "      <td>0</td>\n",
       "      <td>dir</td>\n",
       "      <td>https://api.github.com/repos/ironhack-datalabs...</td>\n",
       "    </tr>\n",
       "    <tr>\n",
       "      <th>2</th>\n",
       "      <td>https://api.github.com/repos/ironhack-datalabs...</td>\n",
       "      <td>https://github.com/ironhack-datalabs/scavenger...</td>\n",
       "      <td>https://api.github.com/repos/ironhack-datalabs...</td>\n",
       "      <td>None</td>\n",
       "      <td>https://api.github.com/repos/ironhack-datalabs...</td>\n",
       "      <td>https://github.com/ironhack-datalabs/scavenger...</td>\n",
       "      <td>15534</td>\n",
       "      <td>15534</td>\n",
       "      <td>5af6f2a7287e4191f39e55693fc1e9c8918d1d3a</td>\n",
       "      <td>0</td>\n",
       "      <td>dir</td>\n",
       "      <td>https://api.github.com/repos/ironhack-datalabs...</td>\n",
       "    </tr>\n",
       "    <tr>\n",
       "      <th>3</th>\n",
       "      <td>https://api.github.com/repos/ironhack-datalabs...</td>\n",
       "      <td>https://github.com/ironhack-datalabs/scavenger...</td>\n",
       "      <td>https://api.github.com/repos/ironhack-datalabs...</td>\n",
       "      <td>None</td>\n",
       "      <td>https://api.github.com/repos/ironhack-datalabs...</td>\n",
       "      <td>https://github.com/ironhack-datalabs/scavenger...</td>\n",
       "      <td>17020</td>\n",
       "      <td>17020</td>\n",
       "      <td>9c49f920aa4d9433fa99a5824128f0e6b90ec5f2</td>\n",
       "      <td>0</td>\n",
       "      <td>dir</td>\n",
       "      <td>https://api.github.com/repos/ironhack-datalabs...</td>\n",
       "    </tr>\n",
       "    <tr>\n",
       "      <th>4</th>\n",
       "      <td>https://api.github.com/repos/ironhack-datalabs...</td>\n",
       "      <td>https://github.com/ironhack-datalabs/scavenger...</td>\n",
       "      <td>https://api.github.com/repos/ironhack-datalabs...</td>\n",
       "      <td>None</td>\n",
       "      <td>https://api.github.com/repos/ironhack-datalabs...</td>\n",
       "      <td>https://github.com/ironhack-datalabs/scavenger...</td>\n",
       "      <td>30351</td>\n",
       "      <td>30351</td>\n",
       "      <td>c488d7f64088c852e22067d48fdc64ee3670f3ba</td>\n",
       "      <td>0</td>\n",
       "      <td>dir</td>\n",
       "      <td>https://api.github.com/repos/ironhack-datalabs...</td>\n",
       "    </tr>\n",
       "  </tbody>\n",
       "</table>\n",
       "</div>"
      ],
      "text/plain": [
       "                                          _links.git  \\\n",
       "0  https://api.github.com/repos/ironhack-datalabs...   \n",
       "1  https://api.github.com/repos/ironhack-datalabs...   \n",
       "2  https://api.github.com/repos/ironhack-datalabs...   \n",
       "3  https://api.github.com/repos/ironhack-datalabs...   \n",
       "4  https://api.github.com/repos/ironhack-datalabs...   \n",
       "\n",
       "                                         _links.html  \\\n",
       "0  https://github.com/ironhack-datalabs/scavenger...   \n",
       "1  https://github.com/ironhack-datalabs/scavenger...   \n",
       "2  https://github.com/ironhack-datalabs/scavenger...   \n",
       "3  https://github.com/ironhack-datalabs/scavenger...   \n",
       "4  https://github.com/ironhack-datalabs/scavenger...   \n",
       "\n",
       "                                         _links.self  \\\n",
       "0  https://api.github.com/repos/ironhack-datalabs...   \n",
       "1  https://api.github.com/repos/ironhack-datalabs...   \n",
       "2  https://api.github.com/repos/ironhack-datalabs...   \n",
       "3  https://api.github.com/repos/ironhack-datalabs...   \n",
       "4  https://api.github.com/repos/ironhack-datalabs...   \n",
       "\n",
       "                                        download_url  \\\n",
       "0  https://raw.githubusercontent.com/ironhack-dat...   \n",
       "1                                               None   \n",
       "2                                               None   \n",
       "3                                               None   \n",
       "4                                               None   \n",
       "\n",
       "                                             git_url  \\\n",
       "0  https://api.github.com/repos/ironhack-datalabs...   \n",
       "1  https://api.github.com/repos/ironhack-datalabs...   \n",
       "2  https://api.github.com/repos/ironhack-datalabs...   \n",
       "3  https://api.github.com/repos/ironhack-datalabs...   \n",
       "4  https://api.github.com/repos/ironhack-datalabs...   \n",
       "\n",
       "                                            html_url        name        path  \\\n",
       "0  https://github.com/ironhack-datalabs/scavenger...  .gitignore  .gitignore   \n",
       "1  https://github.com/ironhack-datalabs/scavenger...       15024       15024   \n",
       "2  https://github.com/ironhack-datalabs/scavenger...       15534       15534   \n",
       "3  https://github.com/ironhack-datalabs/scavenger...       17020       17020   \n",
       "4  https://github.com/ironhack-datalabs/scavenger...       30351       30351   \n",
       "\n",
       "                                        sha  size  type  \\\n",
       "0  e43b0f988953ae3a84b00331d0ccf5f7d51cb3cf    10  file   \n",
       "1  2945e51c87ad5da893c954afcf092f06343bbb7d     0   dir   \n",
       "2  5af6f2a7287e4191f39e55693fc1e9c8918d1d3a     0   dir   \n",
       "3  9c49f920aa4d9433fa99a5824128f0e6b90ec5f2     0   dir   \n",
       "4  c488d7f64088c852e22067d48fdc64ee3670f3ba     0   dir   \n",
       "\n",
       "                                                 url  \n",
       "0  https://api.github.com/repos/ironhack-datalabs...  \n",
       "1  https://api.github.com/repos/ironhack-datalabs...  \n",
       "2  https://api.github.com/repos/ironhack-datalabs...  \n",
       "3  https://api.github.com/repos/ironhack-datalabs...  \n",
       "4  https://api.github.com/repos/ironhack-datalabs...  "
      ]
     },
     "execution_count": 98,
     "metadata": {},
     "output_type": "execute_result"
    }
   ],
   "source": [
    "flattened_data = json_normalize(results)\n",
    "flattened_data.head()"
   ]
  },
  {
   "cell_type": "code",
   "execution_count": 123,
   "metadata": {},
   "outputs": [],
   "source": [
    "data = pd.DataFrame()\n",
    "\n",
    "for path in flattened_data['path']:\n",
    "    #print(path)\n",
    "    url=f'https://api.github.com/repos/ironhack-datalabs/scavenger/contents{path}'\n",
    "    headers = {'Authorization':'token token'}\n",
    "    response = requests.get(url, headers=headers)\n",
    "    #print(response)\n",
    "    fichier = response.json()\n",
    "    #print(fichier)\n",
    "    data_flat = json_normalize(fichier)\n",
    "    #print(data_flat)\n",
    "    data=data.append(data_flat, ignore_index=True)\n",
    "\n",
    "\n",
    "#data['path']\n"
   ]
  },
  {
   "cell_type": "code",
   "execution_count": 4,
   "metadata": {},
   "outputs": [
    {
     "data": {
      "text/html": [
       "<div>\n",
       "<style scoped>\n",
       "    .dataframe tbody tr th:only-of-type {\n",
       "        vertical-align: middle;\n",
       "    }\n",
       "\n",
       "    .dataframe tbody tr th {\n",
       "        vertical-align: top;\n",
       "    }\n",
       "\n",
       "    .dataframe thead th {\n",
       "        text-align: right;\n",
       "    }\n",
       "</style>\n",
       "<table border=\"1\" class=\"dataframe\">\n",
       "  <thead>\n",
       "    <tr style=\"text-align: right;\">\n",
       "      <th></th>\n",
       "      <th>a</th>\n",
       "      <th>b</th>\n",
       "    </tr>\n",
       "  </thead>\n",
       "  <tbody>\n",
       "    <tr>\n",
       "      <th>0</th>\n",
       "      <td>1</td>\n",
       "      <td>2</td>\n",
       "    </tr>\n",
       "    <tr>\n",
       "      <th>1</th>\n",
       "      <td>4</td>\n",
       "      <td>5</td>\n",
       "    </tr>\n",
       "  </tbody>\n",
       "</table>\n",
       "</div>"
      ],
      "text/plain": [
       "   a  b\n",
       "0  1  2\n",
       "1  4  5"
      ]
     },
     "execution_count": 4,
     "metadata": {},
     "output_type": "execute_result"
    }
   ],
   "source": [
    "l = [{'a':1, 'b':2}, {'a':4, 'b':5}]\n",
    "pd.DataFrame(l)\n",
    "json_normalize(l)"
   ]
  },
  {
   "cell_type": "code",
   "execution_count": 124,
   "metadata": {},
   "outputs": [
    {
     "name": "stdout",
     "output_type": "stream",
     "text": [
      "['98750/.0001.scavengerhunt', '88596/.0002.scavengerhunt', '60224/.0003.scavengerhunt', '68848/.0004.scavengerhunt', '44639/.0005.scavengerhunt', '15024/.0006.scavengerhunt', '17020/.0007.scavengerhunt', '15534/.0008.scavengerhunt', '97881/.0009.scavengerhunt', '47830/.0010.scavengerhunt', '50896/.0011.scavengerhunt', '15534/.0012.scavengerhunt', '89338/.0013.scavengerhunt', '49418/.0014.scavengerhunt', '91701/.0015.scavengerhunt', '47222/.0016.scavengerhunt', '70985/.0017.scavengerhunt', '45525/.0018.scavengerhunt', '70751/.0019.scavengerhunt', '55685/.0020.scavengerhunt', '30351/.0021.scavengerhunt', '40303/.0022.scavengerhunt', '55417/.0023.scavengerhunt', '47222/.0024.scavengerhunt']\n"
     ]
    }
   ],
   "source": [
    "\n",
    "path_ = []\n",
    "\n",
    "\n",
    "for path in data['path']:\n",
    "    if 'scavenger' in path:\n",
    "        path_.append(path)\n",
    "        path_= sorted(path_, key=lambda x: x[-18:-14])\n",
    "        \n",
    "print(path_)\n",
    "\n"
   ]
  },
  {
   "cell_type": "code",
   "execution_count": 178,
   "metadata": {},
   "outputs": [
    {
     "data": {
      "text/plain": [
       "[b'In\\n',\n",
       " b'data\\n',\n",
       " b'science,\\n',\n",
       " b'80\\n',\n",
       " b'percent\\n',\n",
       " b'of\\n',\n",
       " b'time\\n',\n",
       " b'spent\\n',\n",
       " b'is\\n',\n",
       " b'preparing\\n',\n",
       " b'data,\\n',\n",
       " b'20\\n',\n",
       " b'percent\\n',\n",
       " b'of\\n',\n",
       " b'time\\n',\n",
       " b'is\\n',\n",
       " b'spent\\n',\n",
       " b'complaining\\n',\n",
       " b'about\\n',\n",
       " b'the\\n',\n",
       " b'need\\n',\n",
       " b'to\\n',\n",
       " b'prepare\\n',\n",
       " b'data.\\n']"
      ]
     },
     "execution_count": 178,
     "metadata": {},
     "output_type": "execute_result"
    }
   ],
   "source": [
    "scavenger_concat = []\n",
    "URL_PATTERN = 'https://api.github.com/repos/ironhack-datalabs/scavenger/contents/{}'\n",
    "\n",
    "for path in path_:\n",
    "        url = URL_PATTERN.format(path)\n",
    "        headers = {'Authorization':'token token'}\n",
    "        response = requests.get(url, headers=headers)\n",
    "        contenu = response.json()['content']\n",
    "        contenu = base64.b64decode(contenu)\n",
    "        scavenger_concat.append(contenu)\n",
    "        \n",
    "scavenger_concat\n"
   ]
  },
  {
   "cell_type": "code",
   "execution_count": 179,
   "metadata": {},
   "outputs": [
    {
     "data": {
      "text/plain": [
       "'[In data science 80 percent of time spent is preparing data 20 percent of time is spent complaining about the need to prepare data.]'"
      ]
     },
     "execution_count": 179,
     "metadata": {},
     "output_type": "execute_result"
    }
   ],
   "source": [
    "scavenger_str = str(scavenger_concat)\n",
    "scavenger_str = \"\".join(scavenger)\n",
    "\n",
    "joke = scavenger_str.replace(\"\\\\n'\", \"\")\n",
    "joke = joke.replace(\"b'\", \"\")\n",
    "joke = joke.replace(\",\", \"\")\n",
    "\n",
    "joke"
   ]
  },
  {
   "cell_type": "code",
   "execution_count": null,
   "metadata": {},
   "outputs": [],
   "source": []
  },
  {
   "cell_type": "code",
   "execution_count": null,
   "metadata": {},
   "outputs": [],
   "source": []
  }
 ],
 "metadata": {
  "kernelspec": {
   "display_name": "Python 3",
   "language": "python",
   "name": "python3"
  },
  "language_info": {
   "codemirror_mode": {
    "name": "ipython",
    "version": 3
   },
   "file_extension": ".py",
   "mimetype": "text/x-python",
   "name": "python",
   "nbconvert_exporter": "python",
   "pygments_lexer": "ipython3",
   "version": "3.7.3"
  }
 },
 "nbformat": 4,
 "nbformat_minor": 2
}
