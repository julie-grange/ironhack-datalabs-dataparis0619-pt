{
 "cells": [
  {
   "cell_type": "markdown",
   "metadata": {},
   "source": [
    "In the cell below, create a Python function that wraps your previous solution for the Bag of Words lab.\n",
    "\n",
    "Requirements:\n",
    "\n",
    "1. Your function should accept the following parameters:\n",
    "    * `docs` [REQUIRED] - array of document paths.\n",
    "    * `stop_words` [OPTIONAL] - array of stop words. The default value is an empty array.\n",
    "\n",
    "1. Your function should return a Python object that contains the following:\n",
    "    * `bag_of_words` - array of strings of normalized unique words in the corpus.\n",
    "    * `term_freq` - array of the term-frequency vectors."
   ]
  },
  {
   "cell_type": "code",
   "execution_count": 35,
   "metadata": {},
   "outputs": [
    {
     "name": "stdout",
     "output_type": "stream",
     "text": [
      "{'bag_of_words': ['ironhack', 'is', 'cool', 'i', 'love', 'am', 'a', 'student', 'at'], 'term_freq': [[1, 1, 1, 0, 0, 0, 0, 0, 0], [1, 0, 0, 1, 1, 0, 0, 0, 0], [1, 0, 0, 1, 0, 1, 1, 1, 1]]}\n"
     ]
    }
   ],
   "source": [
    "# Import required libraries\n",
    "import re\n",
    "# Define function\n",
    "def get_bow_from_docs(docs, stop_words=[]):\n",
    "    corpus = []\n",
    "    corpus_propre = []\n",
    "    bag_of_words = []\n",
    "    term_freq = []\n",
    "    \n",
    "    for doc in docs:\n",
    "        with open(doc,\"r\") as f:\n",
    "            corpus += f.readlines()\n",
    "                \n",
    "    for i in corpus:\n",
    "        propre = (i.replace('.','').lower())\n",
    "        corpus_propre.append(propre)\n",
    "            \n",
    "    for i in corpus_propre:\n",
    "        split = (re.split(' ', i))\n",
    "        for j in split:\n",
    "            if j not in bag_of_words:\n",
    "                bag_of_words.append(j)\n",
    "                \n",
    "                    \n",
    "    for i in corpus_propre:\n",
    "        split = (re.split(' ', i))\n",
    "        liste = []\n",
    "        for j in bag_of_words:\n",
    "            liste.append(split.count(j))\n",
    "        term_freq.append(liste)\n",
    "\n",
    "    \n",
    "    # Now return your output as an object\n",
    "    return {\n",
    "        \"bag_of_words\": bag_of_words,\n",
    "        \"term_freq\": term_freq\n",
    "    }\n",
    "\n",
    "docs = [\"../../lab-string-operations/your-code/doc1.txt\", \"../../lab-string-operations/your-code/doc2.txt\",\"../../lab-string-operations/your-code/doc3.txt\"]\n",
    "\n",
    "print(get_bow_from_docs(docs))"
   ]
  },
  {
   "cell_type": "markdown",
   "metadata": {},
   "source": [
    "Test your function without stop words. You should see the output like below:\n",
    "\n",
    "```{'bag_of_words': ['ironhack', 'is', 'cool', 'i', 'love', 'am', 'a', 'student', 'at'], 'term_freq': [[1, 1, 1, 0, 0, 0, 0, 0, 0], [1, 0, 0, 1, 1, 0, 0, 0, 0], [1, 0, 0, 1, 0, 1, 1, 1, 1]]}```"
   ]
  },
  {
   "cell_type": "code",
   "execution_count": 36,
   "metadata": {},
   "outputs": [
    {
     "name": "stdout",
     "output_type": "stream",
     "text": [
      "{'bag_of_words': ['ironhack', 'is', 'cool', 'i', 'love', 'am', 'a', 'student', 'at'], 'term_freq': [[1, 1, 1, 0, 0, 0, 0, 0, 0], [1, 0, 0, 1, 1, 0, 0, 0, 0], [1, 0, 0, 1, 0, 1, 1, 1, 1]]}\n"
     ]
    }
   ],
   "source": [
    "# Define doc paths array\n",
    "docs = []\n",
    "docs = [\"../../lab-string-operations/your-code/doc1.txt\", \"../../lab-string-operations/your-code/doc2.txt\",\"../../lab-string-operations/your-code/doc3.txt\"]\n",
    "\n",
    "# Obtain BoW from your function\n",
    "bow = get_bow_from_docs(docs)\n",
    "\n",
    "# Print BoW\n",
    "print(bow)"
   ]
  },
  {
   "cell_type": "markdown",
   "metadata": {},
   "source": [
    "If your attempt above is successful, nice work done!\n",
    "\n",
    "Now test your function again with the stop words. In the previous lab we defined the stop words in a large array. In this lab, we'll import the stop words from Scikit-Learn."
   ]
  },
  {
   "cell_type": "code",
   "execution_count": 37,
   "metadata": {},
   "outputs": [
    {
     "name": "stdout",
     "output_type": "stream",
     "text": [
      "frozenset({'de', 'among', 'made', 'fire', 'still', 'anyway', 'any', 'to', 'until', 'thence', 'meanwhile', 'con', 'you', 'five', 'whither', 'of', 'co', 'in', 'where', 'then', 'whereafter', 'thereafter', 'inc', 'many', 'hundred', 'please', 'none', 'through', 'since', 'cry', 'beforehand', 'after', 'herself', 'here', 'never', 'put', 'un', 'as', 'yours', 'my', 'between', 'so', 'out', 'moreover', 'she', 'besides', 'can', 'both', 'nowhere', 'me', 'go', 'system', 'whom', 'i', 'yourselves', 'anyhow', 'interest', 'itself', 'from', 'off', 'show', 'are', 'do', 'often', 'over', 'next', 'now', 'sometimes', 'however', 'has', 'throughout', 'beyond', 'indeed', 'neither', 'had', 'that', 'either', 'even', 'fill', 'thin', 'although', 'keep', 'while', 'several', 'though', 'done', 'was', 'those', 'less', 'beside', 'if', 'became', 'such', 'onto', 'her', 'yet', 'found', 'some', 'eight', 'nobody', 'everything', 'around', 'by', 'very', 'almost', 'etc', 'most', 'on', 'during', 'else', 'who', 'mine', 'below', 'their', 'whether', 'will', 'six', 're', 'call', 'ltd', 'becoming', 'other', 'otherwise', 'they', 'get', 'last', 'whole', 'bottom', 'a', 'elsewhere', 'everywhere', 'herein', 'detail', 'seem', 'we', 'least', 'these', 'former', 'amount', 'cannot', 'with', 'nevertheless', 'before', 'hereupon', 'toward', 'again', 'forty', 'whereas', 'top', 'whenever', 'would', 'take', 'might', 'become', 'must', 'myself', 'against', 'see', 'why', 'when', 'sincere', 'three', 'seemed', 'which', 'but', 'is', 'than', 'into', 'hence', 'thus', 'not', 'sometime', 'him', 'four', 'couldnt', 'namely', 'anyone', 'for', 'two', 'alone', 'therein', 'own', 'one', 'whoever', 'and', 'another', 'sixty', 'much', 'wherever', 'across', 'anything', 'fifty', 'twenty', 'the', 'once', 'full', 'ie', 'hereby', 'thick', 'wherein', 'thereby', 'except', 'enough', 'above', 'somewhere', 'whereupon', 'via', 'others', 'name', 'thereupon', 'your', 'should', 'already', 'ten', 'something', 'due', 'have', 'there', 'up', 'well', 'cant', 'how', 'every', 'ever', 'eg', 'nothing', 'because', 'seems', 'ourselves', 'first', 'describe', 'this', 'formerly', 'down', 'too', 'more', 'without', 'them', 'seeming', 'yourself', 'back', 'whence', 'per', 'whose', 'within', 'further', 'someone', 'twelve', 'mostly', 'afterwards', 'ours', 'somehow', 'our', 'each', 'upon', 'himself', 'nor', 'it', 'same', 'its', 'or', 'hereafter', 'his', 'serious', 'whatever', 'at', 'therefore', 'always', 'front', 'were', 'everyone', 'few', 'find', 'nine', 'latter', 'also', 'along', 'hers', 'what', 'rather', 'us', 'amongst', 'bill', 'been', 'anywhere', 'be', 'third', 'behind', 'eleven', 'no', 'move', 'give', 'themselves', 'under', 'am', 'empty', 'fifteen', 'thru', 'latterly', 'hasnt', 'mill', 'about', 'perhaps', 'amoungst', 'whereby', 'may', 'together', 'side', 'part', 'could', 'noone', 'only', 'an', 'he', 'towards', 'all', 'becomes', 'being'})\n"
     ]
    }
   ],
   "source": [
    "from sklearn.feature_extraction import stop_words\n",
    "print(stop_words.ENGLISH_STOP_WORDS)"
   ]
  },
  {
   "cell_type": "markdown",
   "metadata": {},
   "source": [
    "You should have seen a large list of words that looks like:\n",
    "\n",
    "```frozenset({'across', 'mine', 'cannot', ...})```\n",
    "\n",
    "`frozenset` is a type of Python object that is immutable. In this lab you can use it just like an array without conversion."
   ]
  },
  {
   "cell_type": "markdown",
   "metadata": {},
   "source": [
    "Next, test your function with supplying `stop_words.ENGLISH_STOP_WORDS` as the second parameter."
   ]
  },
  {
   "cell_type": "code",
   "execution_count": 43,
   "metadata": {},
   "outputs": [
    {
     "name": "stdout",
     "output_type": "stream",
     "text": [
      "{'bag_of_words': ['ironhack', 'cool', 'love', 'student'], 'term_freq': [[1, 1, 0, 0], [1, 0, 1, 0], [1, 0, 0, 1]]}\n"
     ]
    }
   ],
   "source": [
    "# Import required libraries\n",
    "import re\n",
    "# Define function\n",
    "def get_bow_from_docs(docs, stop_words=['is','am','a','i','at']):\n",
    "    corpus = []\n",
    "    corpus_propre = []\n",
    "    bag_of_words = []\n",
    "    term_freq = []\n",
    "    \n",
    "    for doc in docs:\n",
    "        with open(doc,\"r\") as f:\n",
    "            corpus += f.readlines()\n",
    "                \n",
    "    for i in corpus:\n",
    "        propre = (i.replace('.','').lower())\n",
    "        corpus_propre.append(propre)\n",
    "            \n",
    "    for i in corpus_propre:\n",
    "        split = (re.split(' ', i))\n",
    "        for j in split:\n",
    "            if j not in bag_of_words:\n",
    "                if j not in stop_words:\n",
    "                    bag_of_words.append(j)\n",
    "                \n",
    "                    \n",
    "    for i in corpus_propre:\n",
    "        split = (re.split(' ', i))\n",
    "        liste = []\n",
    "        for j in bag_of_words:\n",
    "            liste.append(split.count(j))\n",
    "        term_freq.append(liste)\n",
    "\n",
    "    \n",
    "    # Now return your output as an object\n",
    "    return {\n",
    "        \"bag_of_words\": bag_of_words,\n",
    "        \"term_freq\": term_freq\n",
    "    }\n",
    "\n",
    "docs = [\"../../lab-string-operations/your-code/doc1.txt\", \"../../lab-string-operations/your-code/doc2.txt\",\"../../lab-string-operations/your-code/doc3.txt\"]\n",
    "\n",
    "print(get_bow_from_docs(docs))"
   ]
  },
  {
   "cell_type": "code",
   "execution_count": 44,
   "metadata": {},
   "outputs": [
    {
     "name": "stdout",
     "output_type": "stream",
     "text": [
      "{'bag_of_words': ['ironhack', 'cool', 'love', 'student'], 'term_freq': [[1, 1, 0, 0], [1, 0, 1, 0], [1, 0, 0, 1]]}\n"
     ]
    }
   ],
   "source": [
    "bow = get_bow_from_docs(docs, stop_words.ENGLISH_STOP_WORDS)\n",
    "\n",
    "print(bow)"
   ]
  },
  {
   "cell_type": "markdown",
   "metadata": {},
   "source": [
    "You should have seen:\n",
    "\n",
    "```{'bag_of_words': ['ironhack', 'cool', 'love', 'student'], 'term_freq': [[1, 1, 0, 0], [1, 0, 1, 0], [1, 0, 0, 1]]}```"
   ]
  },
  {
   "cell_type": "code",
   "execution_count": null,
   "metadata": {},
   "outputs": [],
   "source": []
  }
 ],
 "metadata": {
  "kernelspec": {
   "display_name": "Python 3",
   "language": "python",
   "name": "python3"
  },
  "language_info": {
   "codemirror_mode": {
    "name": "ipython",
    "version": 3
   },
   "file_extension": ".py",
   "mimetype": "text/x-python",
   "name": "python",
   "nbconvert_exporter": "python",
   "pygments_lexer": "ipython3",
   "version": "3.7.3"
  }
 },
 "nbformat": 4,
 "nbformat_minor": 2
}
