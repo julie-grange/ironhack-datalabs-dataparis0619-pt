{
 "cells": [
  {
   "cell_type": "code",
   "execution_count": 13,
   "metadata": {},
   "outputs": [
    {
     "name": "stdin",
     "output_type": "stream",
     "text": [
      "What is the maximal length of the triangle side? Enter a number:  15\n"
     ]
    },
    {
     "name": "stdout",
     "output_type": "stream",
     "text": [
      "The longest side possible is 13\n"
     ]
    }
   ],
   "source": [
    "def my_function(X):\n",
    "\n",
    "    solutions = []\n",
    "    \n",
    "    for x in range(5, X):\n",
    "        for y in range(4, X):\n",
    "            for z in range(3, X):\n",
    "                if (x*x==y*y+z*z):\n",
    "                    solutions.append([x, y, z])\n",
    "    m = 0\n",
    "    for solution in solutions:\n",
    "        if m < max(solution):\n",
    "            m = max(solution)\n",
    "    return m\n",
    "\n",
    "X = input(\"What is the maximal length of the triangle side? Enter a number: \")\n",
    "print(\"The longest side possible is \" + str(my_function(int(X))))\n",
    "\n"
   ]
  },
  {
   "cell_type": "code",
   "execution_count": 31,
   "metadata": {},
   "outputs": [
    {
     "name": "stdin",
     "output_type": "stream",
     "text": [
      "What is the maximal length of the triangle side? Enter a number:  15\n"
     ]
    },
    {
     "name": "stdout",
     "output_type": "stream",
     "text": [
      "[[13, 12, 5]]\n",
      "[[13, 12, 5], [13, 5, 12]]\n",
      "[[13, 12, 5], [13, 5, 12], [10, 8, 6]]\n",
      "[[13, 12, 5], [13, 5, 12], [10, 8, 6], [10, 6, 8]]\n",
      "[[13, 12, 5], [13, 5, 12], [10, 8, 6], [10, 6, 8], [5, 4, 3]]\n",
      "The longest side possible is [13, 13, 10, 10, 5]\n"
     ]
    }
   ],
   "source": [
    "def my_function(X):\n",
    "    a = False\n",
    "    solutions = []\n",
    "    #while  a!= True:\n",
    "    for x in range(X-1, 4, -1):\n",
    "        for y in range(X-1, 3, -1):\n",
    "            for z in range(X-1, 2, -1):\n",
    "                if x*x==y*y+z*z:\n",
    "                        #a=True\n",
    "                    solutions.append([x, y, z])\n",
    "                    print(solutions)\n",
    "                    break        \n",
    "    return [max(solution) for solution in solutions]\n",
    "                \n",
    "                \n",
    "X = input(\"What is the maximal length of the triangle side? Enter a number: \")\n",
    "print(\"The longest side possible is \" + str(my_function(int(X))))\n",
    "#if X<5:\n",
    "    #print('pas de solution possible')\n",
    "#else: \n",
    "    #print(\"The longest side possible is \" + str(my_function(int(X))))"
   ]
  },
  {
   "cell_type": "code",
   "execution_count": 5,
   "metadata": {},
   "outputs": [
    {
     "name": "stdout",
     "output_type": "stream",
     "text": [
      "10\n",
      "9\n",
      "8\n",
      "7\n",
      "6\n",
      "5\n"
     ]
    }
   ],
   "source": [
    "for x in range(10, 4, -1):\n",
    "    print(x)"
   ]
  },
  {
   "cell_type": "code",
   "execution_count": null,
   "metadata": {},
   "outputs": [],
   "source": []
  }
 ],
 "metadata": {
  "kernelspec": {
   "display_name": "Python 3",
   "language": "python",
   "name": "python3"
  },
  "language_info": {
   "codemirror_mode": {
    "name": "ipython",
    "version": 3
   },
   "file_extension": ".py",
   "mimetype": "text/x-python",
   "name": "python",
   "nbconvert_exporter": "python",
   "pygments_lexer": "ipython3",
   "version": "3.7.3"
  }
 },
 "nbformat": 4,
 "nbformat_minor": 2
}
