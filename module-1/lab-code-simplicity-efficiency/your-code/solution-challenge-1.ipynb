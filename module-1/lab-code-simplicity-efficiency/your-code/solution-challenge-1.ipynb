{
 "cells": [
  {
   "cell_type": "code",
   "execution_count": 12,
   "metadata": {},
   "outputs": [
    {
     "name": "stdout",
     "output_type": "stream",
     "text": [
      "Welcome to this calculator! It can add and subtract whole numbers from zero to five\n"
     ]
    },
    {
     "name": "stdin",
     "output_type": "stream",
     "text": [
      "Please choose your first number (zero to five):  zero\n",
      "What do you want to do? plus or minus:  plus\n",
      "Please choose your second number (zero to five):  four\n"
     ]
    },
    {
     "name": "stdout",
     "output_type": "stream",
     "text": [
      "zero plus four equal four , Thanks for using this calculator, goodbye :)\n"
     ]
    }
   ],
   "source": [
    "print('Welcome to this calculator! It can add and subtract whole numbers from zero to five')\n",
    "a = input('Please choose your first number (zero to five): ')\n",
    "b = input('What do you want to do? plus or minus: ')\n",
    "c = input('Please choose your second number (zero to five): ')\n",
    "\n",
    "\n",
    "lettres = {'zero':0, 'one':1 , 'two':2, 'three': 3, 'four':4, 'five':5}\n",
    "\n",
    "\n",
    "if a in lettres.keys() and c in lettres.keys():\n",
    "    a_chiffre = lettres[a]\n",
    "    c_chiffre = lettres[c]\n",
    "else:\n",
    "    print('I am not able to answer this question. Check your input.')\n",
    "    \n",
    "    \n",
    "def plus(x, y):\n",
    "    z = x + y\n",
    "    return z\n",
    "\n",
    "def minus(x, y):\n",
    "    z = x - y\n",
    "    return z\n",
    "\n",
    "resultats = str(minus(a_chiffre, c_chiffre)) if b == 'minus' else  str(plus(a_chiffre, c_chiffre)) if b == 'plus' else print('I am not able to answer this question. Check your input.')\n",
    "#if b == 'minus' :\n",
    "    #resultats = str(lambda a_chiffre, c_chiffre: a_chiffre - c_chiffre) \n",
    " #   resultats = str(minus(a_chiffre, c_chiffre))\n",
    "#elif b == 'plus':\n",
    "    #resultats = str(plus(a_chiffre, c_chiffre))\n",
    "#else:\n",
    "    #print('I am not able to answer this question. Check your input.')\n",
    "\n",
    "\n",
    "lettres_resultats = {'0': 'zero', '1':'one', '2':'two', '3': 'three', '4':'four', '5':'five', '6': 'six', '7':'seven', '8':'eigth', '9':'nine', '10':'ten'}    \n",
    "\n",
    "if '-' in resultats:\n",
    "    resultats = resultats.replace('-','')\n",
    "    d = '-' + lettres_resultats[resultats]\n",
    "else: \n",
    "    d = lettres_resultats[resultats]\n",
    "    \n",
    "        \n",
    "print('%s %s %s equal %s' % (a, b, c, d),', Thanks for using this calculator, goodbye :)')\n",
    "    "
   ]
  },
  {
   "cell_type": "code",
   "execution_count": null,
   "metadata": {},
   "outputs": [],
   "source": []
  }
 ],
 "metadata": {
  "kernelspec": {
   "display_name": "Python 3",
   "language": "python",
   "name": "python3"
  },
  "language_info": {
   "codemirror_mode": {
    "name": "ipython",
    "version": 3
   },
   "file_extension": ".py",
   "mimetype": "text/x-python",
   "name": "python",
   "nbconvert_exporter": "python",
   "pygments_lexer": "ipython3",
   "version": "3.7.3"
  }
 },
 "nbformat": 4,
 "nbformat_minor": 2
}
