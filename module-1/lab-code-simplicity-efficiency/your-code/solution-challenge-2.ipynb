{
 "cells": [
  {
   "cell_type": "code",
   "execution_count": 65,
   "metadata": {},
   "outputs": [
    {
     "name": "stdin",
     "output_type": "stream",
     "text": [
      "Enter minimum string length:  3\n",
      "Enter maximum string length:  5\n",
      "How many random strings to generate?  2\n"
     ]
    },
    {
     "name": "stdout",
     "output_type": "stream",
     "text": [
      "['wnt', 'g3kt']\n"
     ]
    }
   ],
   "source": [
    "import random\n",
    "import sys\n",
    "import string\n",
    "\n",
    "def RandomStringGenerator(length):\n",
    "    return ''.join(random.choices(string.ascii_lowercase+string.digits, k=length))\n",
    "\n",
    "def BatchStringGenerator(n, length_min, length_max):\n",
    "    if a>b:\n",
    "        sys.exit('Incorrect min and max string lengths. Try again.')\n",
    "    #if a == b:\n",
    "        #length_min = a\n",
    "        #length_max = a\n",
    "    #elif a < b:\n",
    "        #length_min = a\n",
    "        #length_max = b\n",
    "    #else:\n",
    "        #sys.exit('Incorrect min and max string lengths. Try again.')\n",
    "    \n",
    "    result = []\n",
    "    for i in range(n):\n",
    "        length = random.choice(range(length_min, length_max+1))\n",
    "        result.append(RandomStringGenerator(length))\n",
    "    return result\n",
    "\n",
    "length_min = input('Enter minimum string length: ')\n",
    "length_max = input('Enter maximum string length: ')\n",
    "n = input('How many random strings to generate? ')\n",
    "\n",
    "print(BatchStringGenerator(int(n), int(a), int(b)))\n"
   ]
  },
  {
   "cell_type": "code",
   "execution_count": 59,
   "metadata": {},
   "outputs": [
    {
     "name": "stdout",
     "output_type": "stream",
     "text": [
      "1\n"
     ]
    }
   ],
   "source": [
    "for x in range(1,2 ):\n",
    "    print(x)"
   ]
  },
  {
   "cell_type": "code",
   "execution_count": null,
   "metadata": {},
   "outputs": [],
   "source": []
  }
 ],
 "metadata": {
  "kernelspec": {
   "display_name": "Python 3",
   "language": "python",
   "name": "python3"
  },
  "language_info": {
   "codemirror_mode": {
    "name": "ipython",
    "version": 3
   },
   "file_extension": ".py",
   "mimetype": "text/x-python",
   "name": "python",
   "nbconvert_exporter": "python",
   "pygments_lexer": "ipython3",
   "version": "3.7.3"
  }
 },
 "nbformat": 4,
 "nbformat_minor": 2
}
