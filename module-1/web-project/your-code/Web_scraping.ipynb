{
 "cells": [
  {
   "cell_type": "code",
   "execution_count": 4,
   "metadata": {
    "scrolled": true
   },
   "outputs": [
    {
     "data": {
      "text/plain": [
       "['//upload.wikimedia.org/wikipedia/commons/thumb/7/76/Blue_Linckia_Starfish.JPG/220px-Blue_Linckia_Starfish.JPG',\n",
       " '//upload.wikimedia.org/wikipedia/commons/thumb/f/fa/Atoll_forming-volcano.png/109px-Atoll_forming-volcano.png',\n",
       " '//upload.wikimedia.org/wikipedia/commons/thumb/9/92/Atoll_forming-Fringing_reef.png/120px-Atoll_forming-Fringing_reef.png',\n",
       " '//upload.wikimedia.org/wikipedia/commons/thumb/2/22/Atoll_forming-Barrier_reef.png/120px-Atoll_forming-Barrier_reef.png',\n",
       " '//upload.wikimedia.org/wikipedia/commons/thumb/3/3f/Atoll_forming-Atoll.png/120px-Atoll_forming-Atoll.png',\n",
       " '//upload.wikimedia.org/wikipedia/commons/thumb/d/d8/Coral_atoll_formation_animation.gif/220px-Coral_atoll_formation_animation.gif',\n",
       " '//upload.wikimedia.org/wikipedia/commons/9/9a/Saumriff1.png',\n",
       " '//upload.wikimedia.org/wikipedia/commons/thumb/9/96/EilatFringingReef.jpg/220px-EilatFringingReef.jpg',\n",
       " '//upload.wikimedia.org/wikipedia/commons/7/73/Barriereriff.png',\n",
       " '//upload.wikimedia.org/wikipedia/commons/d/dc/Plattformriff.png',\n",
       " '//upload.wikimedia.org/wikipedia/commons/thumb/d/d8/Coral_atoll_formation_animation.gif/220px-Coral_atoll_formation_animation.gif',\n",
       " '//upload.wikimedia.org/wikipedia/commons/thumb/0/07/Maldives_small_island.jpg/220px-Maldives_small_island.jpg',\n",
       " '//upload.wikimedia.org/wikipedia/commons/thumb/5/5b/Maldives_-_Kurumba_Island.jpg/220px-Maldives_-_Kurumba_Island.jpg',\n",
       " '//upload.wikimedia.org/wikipedia/commons/thumb/1/11/Coral_reef_diagram.jpg/300px-Coral_reef_diagram.jpg',\n",
       " '//upload.wikimedia.org/wikipedia/commons/thumb/2/2d/Propagation_du_tsunami_en_profondeur_variable.gif/220px-Propagation_du_tsunami_en_profondeur_variable.gif',\n",
       " '//upload.wikimedia.org/wikipedia/commons/thumb/c/cb/Coral_reef_locations.jpg/300px-Coral_reef_locations.jpg',\n",
       " '//upload.wikimedia.org/wikipedia/commons/thumb/c/cb/20_Grad_Isotherme.png/300px-20_Grad_Isotherme.png',\n",
       " '//upload.wikimedia.org/wikipedia/commons/thumb/f/fd/Upwelling_image1.jpg/300px-Upwelling_image1.jpg',\n",
       " '//upload.wikimedia.org/wikipedia/commons/thumb/c/c0/Coral_detail.jpg/220px-Coral_detail.jpg',\n",
       " '//upload.wikimedia.org/wikipedia/commons/thumb/4/49/Coral_polyp.jpg/220px-Coral_polyp.jpg',\n",
       " '//upload.wikimedia.org/wikipedia/commons/thumb/6/67/FFS_Table_bottom.jpg/220px-FFS_Table_bottom.jpg',\n",
       " '//upload.wikimedia.org/wikipedia/commons/thumb/0/06/Lithothamnion_sp..jpg/220px-Lithothamnion_sp..jpg',\n",
       " '//upload.wikimedia.org/wikipedia/commons/thumb/9/9b/Aphrocallistes_vastus.jpg/220px-Aphrocallistes_vastus.jpg',\n",
       " '//upload.wikimedia.org/wikipedia/commons/thumb/5/56/Brain_coral.jpg/169px-Brain_coral.jpg',\n",
       " '//upload.wikimedia.org/wikipedia/commons/thumb/3/30/Staghorn-coral-1.jpg/259px-Staghorn-coral-1.jpg',\n",
       " '//upload.wikimedia.org/wikipedia/commons/thumb/b/bf/Cirripathes_sp_%28Spiral_Wire_Coral%29.jpg/135px-Cirripathes_sp_%28Spiral_Wire_Coral%29.jpg',\n",
       " '//upload.wikimedia.org/wikipedia/commons/thumb/0/06/PillarCoral.jpg/119px-PillarCoral.jpg',\n",
       " '//upload.wikimedia.org/wikipedia/commons/thumb/7/75/Muchroom_coral.JPG/200px-Muchroom_coral.JPG',\n",
       " '//upload.wikimedia.org/wikipedia/commons/thumb/e/ef/Meandrina_meandrites_%28Maze_Coral%29.jpg/240px-Meandrina_meandrites_%28Maze_Coral%29.jpg',\n",
       " '//upload.wikimedia.org/wikipedia/commons/thumb/d/d4/Black_coral.jpg/253px-Black_coral.jpg',\n",
       " '//upload.wikimedia.org/wikipedia/commons/thumb/e/ea/Fluorescent_coral_-_MBA_-_DSC07089.JPG/240px-Fluorescent_coral_-_MBA_-_DSC07089.JPG',\n",
       " '//upload.wikimedia.org/wikipedia/commons/thumb/a/a5/Mesophyllum_sp..jpg/246px-Mesophyllum_sp..jpg',\n",
       " '//upload.wikimedia.org/wikipedia/commons/thumb/5/5f/Corallinaceae_sp..jpg/246px-Corallinaceae_sp..jpg',\n",
       " '//upload.wikimedia.org/wikipedia/commons/thumb/7/71/Corallina_officinalis_Helgoland.JPG/116px-Corallina_officinalis_Helgoland.JPG',\n",
       " '//upload.wikimedia.org/wikipedia/commons/thumb/1/17/Polyps_%28PSF%29.png/220px-Polyps_%28PSF%29.png',\n",
       " '//upload.wikimedia.org/wikipedia/commons/thumb/b/ba/Multy_color_corals.JPG/220px-Multy_color_corals.JPG',\n",
       " '//upload.wikimedia.org/wikipedia/commons/thumb/6/62/Sea_Cotton.jpg/220px-Sea_Cotton.jpg',\n",
       " '//upload.wikimedia.org/wikipedia/commons/thumb/b/bd/Callyspongia_sp._%28Tube_sponge%29.jpg/220px-Callyspongia_sp._%28Tube_sponge%29.jpg',\n",
       " '//upload.wikimedia.org/wikipedia/commons/thumb/e/ed/Underwater_World.jpg/220px-Underwater_World.jpg',\n",
       " '//upload.wikimedia.org/wikipedia/commons/thumb/e/e9/Coral_reef_PloS.jpg/220px-Coral_reef_PloS.jpg',\n",
       " '//upload.wikimedia.org/wikipedia/commons/thumb/8/81/Prionurus_laticlavius.jpg/270px-Prionurus_laticlavius.jpg',\n",
       " '//upload.wikimedia.org/wikipedia/commons/thumb/2/25/Caribbean_reef_squid.jpg/238px-Caribbean_reef_squid.jpg',\n",
       " '//upload.wikimedia.org/wikipedia/commons/thumb/7/7b/Stenopus_hispidus_%28high_res%29.jpg/130px-Stenopus_hispidus_%28high_res%29.jpg',\n",
       " '//upload.wikimedia.org/wikipedia/commons/thumb/5/57/Triaenodon_obesus_moc.jpg/252px-Triaenodon_obesus_moc.jpg',\n",
       " '//upload.wikimedia.org/wikipedia/commons/thumb/c/c9/Green_turtle_John_Pennekamp.jpg/246px-Green_turtle_John_Pennekamp.jpg',\n",
       " '//upload.wikimedia.org/wikipedia/commons/thumb/4/41/Red_sea-reef_3627.jpg/240px-Red_sea-reef_3627.jpg',\n",
       " '//upload.wikimedia.org/wikipedia/commons/thumb/b/bb/Nephtheidae_komodo.jpg/240px-Nephtheidae_komodo.jpg',\n",
       " '//upload.wikimedia.org/wikipedia/commons/thumb/0/01/Laticauda_colubrina_%28Wakatobi%29.jpg/147px-Laticauda_colubrina_%28Wakatobi%29.jpg',\n",
       " '//upload.wikimedia.org/wikipedia/commons/thumb/7/7a/Latiaxis_wormaldi_002.jpg/177px-Latiaxis_wormaldi_002.jpg',\n",
       " '//upload.wikimedia.org/wikipedia/commons/thumb/7/77/Mvey0290.jpg/220px-Mvey0290.jpg',\n",
       " '//upload.wikimedia.org/wikipedia/commons/thumb/2/2e/Coral_Outcrop_Flynn_Reef.jpg/220px-Coral_Outcrop_Flynn_Reef.jpg',\n",
       " '//upload.wikimedia.org/wikipedia/commons/thumb/7/79/Coral_planting_and_reef_restoration_may_11.jpg/220px-Coral_planting_and_reef_restoration_may_11.jpg',\n",
       " '//upload.wikimedia.org/wikipedia/commons/thumb/4/4f/Ancient_coral_reefs.jpg/260px-Ancient_coral_reefs.jpg',\n",
       " '//upload.wikimedia.org/wikipedia/commons/thumb/6/6a/Earth_Day_Flag.png/32px-Earth_Day_Flag.png',\n",
       " '//upload.wikimedia.org/wikipedia/en/thumb/6/61/Searchtool.svg/16px-Searchtool.svg.png',\n",
       " '//upload.wikimedia.org/wikipedia/commons/thumb/d/df/Wikibooks-logo-en-noslogan.svg/40px-Wikibooks-logo-en-noslogan.svg.png',\n",
       " '//upload.wikimedia.org/wikipedia/en/thumb/4/4a/Commons-logo.svg/30px-Commons-logo.svg.png',\n",
       " '//upload.wikimedia.org/wikipedia/commons/thumb/4/4c/Wikisource-logo.svg/38px-Wikisource-logo.svg.png',\n",
       " '//upload.wikimedia.org/wikipedia/commons/thumb/6/67/FFS_Table_bottom.jpg/140px-FFS_Table_bottom.jpg',\n",
       " '//upload.wikimedia.org/wikipedia/commons/thumb/b/b2/Estuary-mouth.jpg/140px-Estuary-mouth.jpg',\n",
       " '//upload.wikimedia.org/wikipedia/commons/thumb/3/35/Maldivesfish2.jpg/140px-Maldivesfish2.jpg',\n",
       " '//upload.wikimedia.org/wikipedia/commons/thumb/4/48/Accreting_coast_Image6.svg/140px-Accreting_coast_Image6.svg.png',\n",
       " '//upload.wikimedia.org/wikipedia/commons/thumb/5/58/Fernando_noronha.jpg/140px-Fernando_noronha.jpg',\n",
       " '//upload.wikimedia.org/wikipedia/en/thumb/4/48/Folder_Hexagonal_Icon.svg/16px-Folder_Hexagonal_Icon.svg.png',\n",
       " '//upload.wikimedia.org/wikipedia/en/thumb/4/4a/Commons-logo.svg/12px-Commons-logo.svg.png',\n",
       " '//upload.wikimedia.org/wikipedia/en/thumb/8/8a/OOjs_UI_icon_edit-ltr-progressive.svg/10px-OOjs_UI_icon_edit-ltr-progressive.svg.png',\n",
       " '//en.wikipedia.org/wiki/Special:CentralAutoLogin/start?type=1x1',\n",
       " '/static/images/wikimedia-button.png',\n",
       " '/static/images/poweredby_mediawiki_88x31.png']"
      ]
     },
     "execution_count": 4,
     "metadata": {},
     "output_type": "execute_result"
    }
   ],
   "source": [
    "import requests\n",
    "from bs4 import BeautifulSoup\n",
    "import re\n",
    "# Scrapin the wiki page of Coral reef\n",
    "url = 'https://en.wikipedia.org/wiki/Coral_reef'\n",
    "html = requests.get(url).content\n",
    "soup = BeautifulSoup(html, \"lxml\")\n",
    "#récupération de tous les liens des images sur cette page\n",
    "balise_img = soup.find_all('img')\n",
    "images = [img.get('src') for img in data]\n",
    "images"
   ]
  },
  {
   "cell_type": "code",
   "execution_count": 5,
   "metadata": {},
   "outputs": [],
   "source": [
    "with open(\"Web_scraping_output.txt\", \"w\") as output:\n",
    "    output.write(str(images))"
   ]
  },
  {
   "cell_type": "code",
   "execution_count": null,
   "metadata": {},
   "outputs": [],
   "source": []
  }
 ],
 "metadata": {
  "kernelspec": {
   "display_name": "Python 3",
   "language": "python",
   "name": "python3"
  },
  "language_info": {
   "codemirror_mode": {
    "name": "ipython",
    "version": 3
   },
   "file_extension": ".py",
   "mimetype": "text/x-python",
   "name": "python",
   "nbconvert_exporter": "python",
   "pygments_lexer": "ipython3",
   "version": "3.7.3"
  }
 },
 "nbformat": 4,
 "nbformat_minor": 2
}
